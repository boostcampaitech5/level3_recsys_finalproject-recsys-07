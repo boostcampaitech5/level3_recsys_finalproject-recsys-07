{
 "cells": [
  {
   "cell_type": "code",
   "execution_count": 30,
   "metadata": {},
   "outputs": [],
   "source": [
    "import networkx as nx\n",
    "import pandas as pd\n",
    "import numpy as np\n",
    "import tqdm\n",
    "import plotly.express as px\n",
    "import plotly.graph_objects as go"
   ]
  },
  {
   "cell_type": "code",
   "execution_count": 33,
   "metadata": {},
   "outputs": [],
   "source": [
    "PATH = '../data/durecdial/'\n",
    "FILE = 'train_sent_sep.csv'"
   ]
  },
  {
   "cell_type": "code",
   "execution_count": 34,
   "metadata": {},
   "outputs": [],
   "source": [
    "df = pd.read_csv(PATH + FILE)"
   ]
  },
  {
   "cell_type": "markdown",
   "metadata": {},
   "source": [
    "## 대화를 그래프로 표현"
   ]
  },
  {
   "cell_type": "code",
   "execution_count": 31,
   "metadata": {},
   "outputs": [],
   "source": [
    "def deny(num):\n",
    "    if num<3:\n",
    "        return True\n",
    "    else:\n",
    "        return False\n",
    "    \n",
    "def preprocess(df):\n",
    "    '''\n",
    "    dataframe에서 draw_graph에서 필요한 부분만 추출하는 함수\n",
    "    '''\n",
    "    temp_df = df[['user_id', 'sentiment_star', 'is_user']].copy()\n",
    "    temp_df['deny'] = temp_df.sentiment_star.apply(deny)\n",
    "    temp_df.drop(columns='sentiment_star', inplace=True)\n",
    "    return temp_df"
   ]
  },
  {
   "cell_type": "code",
   "execution_count": 48,
   "metadata": {},
   "outputs": [],
   "source": [
    "def draw_graph(df, user_id, with_labels = False, node_size = 400, width = 2, style = None, draw = True, retrun_graph = False):\n",
    "    '''\n",
    "    with_labels : node에 index 표시\n",
    "    node_size : node 크기\n",
    "    width : edge 두께\n",
    "    style : 그래프 스타일 ('circular', 'spectral', 'kamada_kawai', 'planar', 'spring', 'shell')\n",
    "    draw : 그래프 표시\n",
    "    return_graph : 반환 값을 graph로 변경. False일 시 대화 시작부터 종료까지 길이를 반환\n",
    "    '''\n",
    "    G = nx.Graph()\n",
    "\n",
    "    color_map = []\n",
    "    before = 0\n",
    "    flag = False\n",
    "    cdf = df[df.user_id == user_id]\n",
    "\n",
    "    for i in range(cdf.shape[0]):\n",
    "        log = cdf.iloc[i]\n",
    "        if log.is_user:\n",
    "            color_map.append('blue')\n",
    "        else:\n",
    "            color_map.append('red')\n",
    "        G.add_node(i)\n",
    "        if i == 0:\n",
    "            continue\n",
    "        if log.is_user:\n",
    "            G.add_edge(i, i - 1)\n",
    "            if log.deny:\n",
    "                flag = True\n",
    "            else:\n",
    "                flag = False\n",
    "                before = i \n",
    "        else:\n",
    "            if flag:\n",
    "                G.add_edge(i, before)\n",
    "            else:\n",
    "                G.add_edge(i, i - 1)\n",
    "    color_map[0], color_map[-1] = 'black', 'gray'\n",
    "\n",
    "    pos = nx.spring_layout(G)\n",
    "\n",
    "    edge_x = []\n",
    "    edge_y = []\n",
    "    for edge in G.edges():\n",
    "        x0, y0 = pos[edge[0]]\n",
    "        x1, y1 = pos[edge[1]]\n",
    "        edge_x.append(x0)\n",
    "        edge_x.append(x1)\n",
    "        edge_x.append(None)\n",
    "        edge_y.append(y0)\n",
    "        edge_y.append(y1)\n",
    "        edge_y.append(None)\n",
    "\n",
    "    edge_trace = go.Scatter(\n",
    "        x=edge_x, y=edge_y,\n",
    "        line=dict(width=0.5, color='#888'),\n",
    "        hoverinfo='none',\n",
    "        mode='lines')\n",
    "\n",
    "    node_x = []\n",
    "    node_y = []\n",
    "    for node in G.nodes():\n",
    "        x, y = pos[node]\n",
    "        node_x.append(x)\n",
    "        node_y.append(y)\n",
    "\n",
    "    node_trace = go.Scatter(\n",
    "        x=node_x, y=node_y,\n",
    "        mode='markers',\n",
    "        text=list(cdf.sentence),\n",
    "        hoverinfo='text',\n",
    "        marker=dict(\n",
    "            color = color_map,\n",
    "            showscale = False,\n",
    "            size = 10,\n",
    "            line_width = 2))\n",
    "\n",
    "    # layout\n",
    "    layout = dict(plot_bgcolor='white',\n",
    "                  paper_bgcolor='white',\n",
    "                  margin=dict(t=10, b=10, l=10, r=10, pad=0),\n",
    "                  showlegend = False,\n",
    "                  xaxis=dict(linecolor='black',\n",
    "                             showgrid=False,\n",
    "                             showticklabels=False,\n",
    "                             mirror=True),\n",
    "                  yaxis=dict(linecolor='black',\n",
    "                             showgrid=False,\n",
    "                             showticklabels=False,\n",
    "                             mirror=True))\n",
    "    \n",
    "    # figure\n",
    "    fig = go.Figure(data=[edge_trace, node_trace], layout=layout)\n",
    "    f = go.FigureWidget(fig)\n",
    "    \n",
    "    return f\n",
    "\n",
    "    # if draw:\n",
    "    #     fig.show()\n",
    "    # conversation_length = list(nx.shortest_simple_paths(G, 0, cdf.shape[0]-1))[0].__len__()\n",
    "\n",
    "    # if retrun_graph:\n",
    "    #     return G\n",
    "    # return conversation_length"
   ]
  },
  {
   "cell_type": "code",
   "execution_count": 47,
   "metadata": {},
   "outputs": [
    {
     "data": {
      "application/vnd.jupyter.widget-view+json": {
       "model_id": "6f2f3526cdbf46c4b45643de346f550b",
       "version_major": 2,
       "version_minor": 0
      },
      "text/plain": [
       "FigureWidget({\n",
       "    'data': [{'hoverinfo': 'none',\n",
       "              'line': {'color': '#888', 'width': 0.5},\n",
       "              'mode': 'lines',\n",
       "              'type': 'scatter',\n",
       "              'uid': 'd09e0a72-206f-499c-9bc9-3d9434c00228',\n",
       "              'x': [-0.4908065602818539, -0.36039291634125004, None,\n",
       "                    -0.36039291634125004, -0.1941696149572007, None,\n",
       "                    -0.1941696149572007, -0.021747849262604597, None,\n",
       "                    -0.021747849262604597, 0.12270001511164595, None,\n",
       "                    0.12270001511164595, 0.22043176413798105, None,\n",
       "                    0.22043176413798105, 0.25410556811078655, None,\n",
       "                    0.25410556811078655, 0.21897394646457183, None,\n",
       "                    0.21897394646457183, 0.13802881311434773, None,\n",
       "                    0.13802881311434773, -0.04347315396254509, None,\n",
       "                    0.13802881311434773, 0.14649585634537468, None,\n",
       "                    -0.04347315396254509, -0.20064416379418026, None,\n",
       "                    0.14649585634537468, 0.12274667043737095, None,\n",
       "                    0.12274667043737095, -0.012670952774458717, None,\n",
       "                    0.12274667043737095, 0.2313508892114557, None,\n",
       "                    -0.012670952774458717, -0.13092831155944126, None],\n",
       "              'y': [1.0, 0.915458548071197, None, 0.915458548071197,\n",
       "                    0.8385670623119997, None, 0.8385670623119997,\n",
       "                    0.7504360906648784, None, 0.7504360906648784,\n",
       "                    0.6063821597261614, None, 0.6063821597261614,\n",
       "                    0.4173435239758223, None, 0.4173435239758223,\n",
       "                    0.20033477266555688, None, 0.20033477266555688,\n",
       "                    -0.027926210746960552, None, -0.027926210746960552,\n",
       "                    -0.25698542327192214, None, -0.25698542327192214,\n",
       "                    -0.2505479205518322, None, -0.25698542327192214,\n",
       "                    -0.4987300661377907, None, -0.2505479205518322,\n",
       "                    -0.2519554370245584, None, -0.4987300661377907,\n",
       "                    -0.7307903443818516, None, -0.7307903443818516,\n",
       "                    -0.873397280986663, None, -0.7307903443818516,\n",
       "                    -0.8590231645877252, None, -0.873397280986663,\n",
       "                    -0.9791663097263124, None]},\n",
       "             {'hoverinfo': 'text',\n",
       "              'marker': {'color': [black, red, blue, red, blue, red, blue, red,\n",
       "                                   blue, red, blue, red, blue, red, blue, gray],\n",
       "                         'line': {'width': 2},\n",
       "                         'showscale': False,\n",
       "                         'size': 10},\n",
       "              'mode': 'markers',\n",
       "              'text': [Who is the leading actor of the movie Left Right Love\n",
       "                       Destiny?, It's Cecilia Cheung, You even know that.\n",
       "                       Excellent!, Thank you for your praise. She's a Chinese idol.\n",
       "                       Of course I know her., Yes my idol is quite unusual., She is\n",
       "                       also an Asian Outstanding Artist in New York Chinese Film\n",
       "                       Festival. Excellent., Yes. People like her will shine\n",
       "                       wherever they go., Then don't miss her movie Failan. It\n",
       "                       shows a love tragedy in which the two people are secluded in\n",
       "                       different time spaces. However, the movie doesn't just tell\n",
       "                       a sad but beautiful love story. Through the story, the\n",
       "                       audiences can see the director's profound thinking and\n",
       "                       understanding of life and human nature., Although I really\n",
       "                       like her, I prefer to see Nicholas Tse's movies., Then you\n",
       "                       can watch Nicholas Tse's movie The Stool Pigeon. His acting\n",
       "                       is good., What kind of movie is it?, It's an action drama,\n",
       "                       with a little bit of thriller., Woah, sounds interesting.,\n",
       "                       I'm sure you'll like it., Then I'm leaving too see the\n",
       "                       movie., Okay, see you next time.],\n",
       "              'type': 'scatter',\n",
       "              'uid': '5ebd7f7d-79d6-4c0a-9cbd-0d6f6ecf8a1f',\n",
       "              'x': [-0.4908065602818539, -0.36039291634125004,\n",
       "                    -0.1941696149572007, -0.021747849262604597,\n",
       "                    0.12270001511164595, 0.22043176413798105, 0.25410556811078655,\n",
       "                    0.21897394646457183, 0.13802881311434773, -0.04347315396254509,\n",
       "                    -0.20064416379418026, 0.14649585634537468, 0.12274667043737095,\n",
       "                    -0.012670952774458717, -0.13092831155944126,\n",
       "                    0.2313508892114557],\n",
       "              'y': [1.0, 0.915458548071197, 0.8385670623119997,\n",
       "                    0.7504360906648784, 0.6063821597261614, 0.4173435239758223,\n",
       "                    0.20033477266555688, -0.027926210746960552,\n",
       "                    -0.25698542327192214, -0.2505479205518322, -0.2519554370245584,\n",
       "                    -0.4987300661377907, -0.7307903443818516, -0.873397280986663,\n",
       "                    -0.9791663097263124, -0.8590231645877252]}],\n",
       "    'layout': {'margin': {'b': 10, 'l': 10, 'pad': 0, 'r': 10, 't': 10},\n",
       "               'paper_bgcolor': 'white',\n",
       "               'plot_bgcolor': 'white',\n",
       "               'showlegend': False,\n",
       "               'template': '...',\n",
       "               'xaxis': {'linecolor': 'black', 'mirror': True, 'showgrid': False, 'showticklabels': False},\n",
       "               'yaxis': {'linecolor': 'black', 'mirror': True, 'showgrid': False, 'showticklabels': False}}\n",
       "})"
      ]
     },
     "execution_count": 47,
     "metadata": {},
     "output_type": "execute_result"
    }
   ],
   "source": [
    "df = pd.read_csv(PATH + 'train_user_small.csv')\n",
    "draw_graph(df, 0, style='kamada_kawai')"
   ]
  },
  {
   "cell_type": "code",
   "execution_count": 83,
   "metadata": {},
   "outputs": [
    {
     "data": {
      "application/vnd.plotly.v1+json": {
       "config": {
        "plotlyServerURL": "https://plot.ly"
       },
       "data": [
        {
         "hoverinfo": "none",
         "line": {
          "color": "#888",
          "width": 0.5
         },
         "mode": "lines",
         "type": "scatter",
         "x": [
          1,
          0.8504001998150531,
          null,
          0.8504001998150531,
          0.6621050146211127,
          null,
          0.6621050146211127,
          0.4490337336767309,
          null,
          0.4490337336767309,
          0.21360382066418476,
          null,
          0.21360382066418476,
          -0.02161781439789908,
          null,
          -0.02161781439789908,
          -0.22680297264040292,
          null,
          -0.22680297264040292,
          -0.36903302348697364,
          null,
          -0.36903302348697364,
          -0.46385587170618875,
          null,
          -0.46385587170618875,
          -0.7043926383536864,
          null,
          -0.46385587170618875,
          -0.318060694890795,
          null,
          -0.7043926383536864,
          -0.8956000743534586,
          null,
          -0.318060694890795,
          -0.15995057382316327,
          null,
          -0.15995057382316327,
          0.03809276335054687,
          null,
          -0.15995057382316327,
          -0.23123108467415235,
          null,
          0.03809276335054687,
          0.17730921619909196,
          null
         ],
         "y": [
          0.2638438347545216,
          0.365222514459234,
          null,
          0.365222514459234,
          0.47407234622830186,
          null,
          0.47407234622830186,
          0.5643266741077833,
          null,
          0.5643266741077833,
          0.5926789881966931,
          null,
          0.5926789881966931,
          0.5336740339140303,
          null,
          0.5336740339140303,
          0.3919213649336387,
          null,
          0.3919213649336387,
          0.17435687414396808,
          null,
          0.17435687414396808,
          -0.08038544311376802,
          null,
          -0.08038544311376802,
          -0.0914885161622838,
          null,
          -0.08038544311376802,
          -0.32025890574501537,
          null,
          -0.0914885161622838,
          -0.10550447474555433,
          null,
          -0.32025890574501537,
          -0.5470501295902623,
          null,
          -0.5470501295902623,
          -0.6842314201601795,
          null,
          -0.5470501295902623,
          -0.7166746307812824,
          null,
          -0.6842314201601795,
          -0.8145031104398252,
          null
         ]
        },
        {
         "hoverinfo": "none",
         "marker": {
          "color": [
           "black",
           "red",
           "blue",
           "red",
           "blue",
           "red",
           "blue",
           "red",
           "blue",
           "red",
           "blue",
           "red",
           "blue",
           "red",
           "blue",
           "gray"
          ],
          "line": {
           "width": 2
          },
          "showscale": false,
          "size": 10
         },
         "mode": "markers",
         "type": "scatter",
         "x": [
          1,
          0.8504001998150531,
          0.6621050146211127,
          0.4490337336767309,
          0.21360382066418476,
          -0.02161781439789908,
          -0.22680297264040292,
          -0.36903302348697364,
          -0.46385587170618875,
          -0.7043926383536864,
          -0.8956000743534586,
          -0.318060694890795,
          -0.15995057382316327,
          0.03809276335054687,
          0.17730921619909196,
          -0.23123108467415235
         ],
         "y": [
          0.2638438347545216,
          0.365222514459234,
          0.47407234622830186,
          0.5643266741077833,
          0.5926789881966931,
          0.5336740339140303,
          0.3919213649336387,
          0.17435687414396808,
          -0.08038544311376802,
          -0.0914885161622838,
          -0.10550447474555433,
          -0.32025890574501537,
          -0.5470501295902623,
          -0.6842314201601795,
          -0.8145031104398252,
          -0.7166746307812824
         ]
        }
       ],
       "layout": {
        "margin": {
         "b": 10,
         "l": 10,
         "pad": 0,
         "r": 10,
         "t": 10
        },
        "paper_bgcolor": "white",
        "plot_bgcolor": "white",
        "showlegend": false,
        "template": {
         "data": {
          "bar": [
           {
            "error_x": {
             "color": "#2a3f5f"
            },
            "error_y": {
             "color": "#2a3f5f"
            },
            "marker": {
             "line": {
              "color": "#E5ECF6",
              "width": 0.5
             },
             "pattern": {
              "fillmode": "overlay",
              "size": 10,
              "solidity": 0.2
             }
            },
            "type": "bar"
           }
          ],
          "barpolar": [
           {
            "marker": {
             "line": {
              "color": "#E5ECF6",
              "width": 0.5
             },
             "pattern": {
              "fillmode": "overlay",
              "size": 10,
              "solidity": 0.2
             }
            },
            "type": "barpolar"
           }
          ],
          "carpet": [
           {
            "aaxis": {
             "endlinecolor": "#2a3f5f",
             "gridcolor": "white",
             "linecolor": "white",
             "minorgridcolor": "white",
             "startlinecolor": "#2a3f5f"
            },
            "baxis": {
             "endlinecolor": "#2a3f5f",
             "gridcolor": "white",
             "linecolor": "white",
             "minorgridcolor": "white",
             "startlinecolor": "#2a3f5f"
            },
            "type": "carpet"
           }
          ],
          "choropleth": [
           {
            "colorbar": {
             "outlinewidth": 0,
             "ticks": ""
            },
            "type": "choropleth"
           }
          ],
          "contour": [
           {
            "colorbar": {
             "outlinewidth": 0,
             "ticks": ""
            },
            "colorscale": [
             [
              0,
              "#0d0887"
             ],
             [
              0.1111111111111111,
              "#46039f"
             ],
             [
              0.2222222222222222,
              "#7201a8"
             ],
             [
              0.3333333333333333,
              "#9c179e"
             ],
             [
              0.4444444444444444,
              "#bd3786"
             ],
             [
              0.5555555555555556,
              "#d8576b"
             ],
             [
              0.6666666666666666,
              "#ed7953"
             ],
             [
              0.7777777777777778,
              "#fb9f3a"
             ],
             [
              0.8888888888888888,
              "#fdca26"
             ],
             [
              1,
              "#f0f921"
             ]
            ],
            "type": "contour"
           }
          ],
          "contourcarpet": [
           {
            "colorbar": {
             "outlinewidth": 0,
             "ticks": ""
            },
            "type": "contourcarpet"
           }
          ],
          "heatmap": [
           {
            "colorbar": {
             "outlinewidth": 0,
             "ticks": ""
            },
            "colorscale": [
             [
              0,
              "#0d0887"
             ],
             [
              0.1111111111111111,
              "#46039f"
             ],
             [
              0.2222222222222222,
              "#7201a8"
             ],
             [
              0.3333333333333333,
              "#9c179e"
             ],
             [
              0.4444444444444444,
              "#bd3786"
             ],
             [
              0.5555555555555556,
              "#d8576b"
             ],
             [
              0.6666666666666666,
              "#ed7953"
             ],
             [
              0.7777777777777778,
              "#fb9f3a"
             ],
             [
              0.8888888888888888,
              "#fdca26"
             ],
             [
              1,
              "#f0f921"
             ]
            ],
            "type": "heatmap"
           }
          ],
          "heatmapgl": [
           {
            "colorbar": {
             "outlinewidth": 0,
             "ticks": ""
            },
            "colorscale": [
             [
              0,
              "#0d0887"
             ],
             [
              0.1111111111111111,
              "#46039f"
             ],
             [
              0.2222222222222222,
              "#7201a8"
             ],
             [
              0.3333333333333333,
              "#9c179e"
             ],
             [
              0.4444444444444444,
              "#bd3786"
             ],
             [
              0.5555555555555556,
              "#d8576b"
             ],
             [
              0.6666666666666666,
              "#ed7953"
             ],
             [
              0.7777777777777778,
              "#fb9f3a"
             ],
             [
              0.8888888888888888,
              "#fdca26"
             ],
             [
              1,
              "#f0f921"
             ]
            ],
            "type": "heatmapgl"
           }
          ],
          "histogram": [
           {
            "marker": {
             "pattern": {
              "fillmode": "overlay",
              "size": 10,
              "solidity": 0.2
             }
            },
            "type": "histogram"
           }
          ],
          "histogram2d": [
           {
            "colorbar": {
             "outlinewidth": 0,
             "ticks": ""
            },
            "colorscale": [
             [
              0,
              "#0d0887"
             ],
             [
              0.1111111111111111,
              "#46039f"
             ],
             [
              0.2222222222222222,
              "#7201a8"
             ],
             [
              0.3333333333333333,
              "#9c179e"
             ],
             [
              0.4444444444444444,
              "#bd3786"
             ],
             [
              0.5555555555555556,
              "#d8576b"
             ],
             [
              0.6666666666666666,
              "#ed7953"
             ],
             [
              0.7777777777777778,
              "#fb9f3a"
             ],
             [
              0.8888888888888888,
              "#fdca26"
             ],
             [
              1,
              "#f0f921"
             ]
            ],
            "type": "histogram2d"
           }
          ],
          "histogram2dcontour": [
           {
            "colorbar": {
             "outlinewidth": 0,
             "ticks": ""
            },
            "colorscale": [
             [
              0,
              "#0d0887"
             ],
             [
              0.1111111111111111,
              "#46039f"
             ],
             [
              0.2222222222222222,
              "#7201a8"
             ],
             [
              0.3333333333333333,
              "#9c179e"
             ],
             [
              0.4444444444444444,
              "#bd3786"
             ],
             [
              0.5555555555555556,
              "#d8576b"
             ],
             [
              0.6666666666666666,
              "#ed7953"
             ],
             [
              0.7777777777777778,
              "#fb9f3a"
             ],
             [
              0.8888888888888888,
              "#fdca26"
             ],
             [
              1,
              "#f0f921"
             ]
            ],
            "type": "histogram2dcontour"
           }
          ],
          "mesh3d": [
           {
            "colorbar": {
             "outlinewidth": 0,
             "ticks": ""
            },
            "type": "mesh3d"
           }
          ],
          "parcoords": [
           {
            "line": {
             "colorbar": {
              "outlinewidth": 0,
              "ticks": ""
             }
            },
            "type": "parcoords"
           }
          ],
          "pie": [
           {
            "automargin": true,
            "type": "pie"
           }
          ],
          "scatter": [
           {
            "fillpattern": {
             "fillmode": "overlay",
             "size": 10,
             "solidity": 0.2
            },
            "type": "scatter"
           }
          ],
          "scatter3d": [
           {
            "line": {
             "colorbar": {
              "outlinewidth": 0,
              "ticks": ""
             }
            },
            "marker": {
             "colorbar": {
              "outlinewidth": 0,
              "ticks": ""
             }
            },
            "type": "scatter3d"
           }
          ],
          "scattercarpet": [
           {
            "marker": {
             "colorbar": {
              "outlinewidth": 0,
              "ticks": ""
             }
            },
            "type": "scattercarpet"
           }
          ],
          "scattergeo": [
           {
            "marker": {
             "colorbar": {
              "outlinewidth": 0,
              "ticks": ""
             }
            },
            "type": "scattergeo"
           }
          ],
          "scattergl": [
           {
            "marker": {
             "colorbar": {
              "outlinewidth": 0,
              "ticks": ""
             }
            },
            "type": "scattergl"
           }
          ],
          "scattermapbox": [
           {
            "marker": {
             "colorbar": {
              "outlinewidth": 0,
              "ticks": ""
             }
            },
            "type": "scattermapbox"
           }
          ],
          "scatterpolar": [
           {
            "marker": {
             "colorbar": {
              "outlinewidth": 0,
              "ticks": ""
             }
            },
            "type": "scatterpolar"
           }
          ],
          "scatterpolargl": [
           {
            "marker": {
             "colorbar": {
              "outlinewidth": 0,
              "ticks": ""
             }
            },
            "type": "scatterpolargl"
           }
          ],
          "scatterternary": [
           {
            "marker": {
             "colorbar": {
              "outlinewidth": 0,
              "ticks": ""
             }
            },
            "type": "scatterternary"
           }
          ],
          "surface": [
           {
            "colorbar": {
             "outlinewidth": 0,
             "ticks": ""
            },
            "colorscale": [
             [
              0,
              "#0d0887"
             ],
             [
              0.1111111111111111,
              "#46039f"
             ],
             [
              0.2222222222222222,
              "#7201a8"
             ],
             [
              0.3333333333333333,
              "#9c179e"
             ],
             [
              0.4444444444444444,
              "#bd3786"
             ],
             [
              0.5555555555555556,
              "#d8576b"
             ],
             [
              0.6666666666666666,
              "#ed7953"
             ],
             [
              0.7777777777777778,
              "#fb9f3a"
             ],
             [
              0.8888888888888888,
              "#fdca26"
             ],
             [
              1,
              "#f0f921"
             ]
            ],
            "type": "surface"
           }
          ],
          "table": [
           {
            "cells": {
             "fill": {
              "color": "#EBF0F8"
             },
             "line": {
              "color": "white"
             }
            },
            "header": {
             "fill": {
              "color": "#C8D4E3"
             },
             "line": {
              "color": "white"
             }
            },
            "type": "table"
           }
          ]
         },
         "layout": {
          "annotationdefaults": {
           "arrowcolor": "#2a3f5f",
           "arrowhead": 0,
           "arrowwidth": 1
          },
          "autotypenumbers": "strict",
          "coloraxis": {
           "colorbar": {
            "outlinewidth": 0,
            "ticks": ""
           }
          },
          "colorscale": {
           "diverging": [
            [
             0,
             "#8e0152"
            ],
            [
             0.1,
             "#c51b7d"
            ],
            [
             0.2,
             "#de77ae"
            ],
            [
             0.3,
             "#f1b6da"
            ],
            [
             0.4,
             "#fde0ef"
            ],
            [
             0.5,
             "#f7f7f7"
            ],
            [
             0.6,
             "#e6f5d0"
            ],
            [
             0.7,
             "#b8e186"
            ],
            [
             0.8,
             "#7fbc41"
            ],
            [
             0.9,
             "#4d9221"
            ],
            [
             1,
             "#276419"
            ]
           ],
           "sequential": [
            [
             0,
             "#0d0887"
            ],
            [
             0.1111111111111111,
             "#46039f"
            ],
            [
             0.2222222222222222,
             "#7201a8"
            ],
            [
             0.3333333333333333,
             "#9c179e"
            ],
            [
             0.4444444444444444,
             "#bd3786"
            ],
            [
             0.5555555555555556,
             "#d8576b"
            ],
            [
             0.6666666666666666,
             "#ed7953"
            ],
            [
             0.7777777777777778,
             "#fb9f3a"
            ],
            [
             0.8888888888888888,
             "#fdca26"
            ],
            [
             1,
             "#f0f921"
            ]
           ],
           "sequentialminus": [
            [
             0,
             "#0d0887"
            ],
            [
             0.1111111111111111,
             "#46039f"
            ],
            [
             0.2222222222222222,
             "#7201a8"
            ],
            [
             0.3333333333333333,
             "#9c179e"
            ],
            [
             0.4444444444444444,
             "#bd3786"
            ],
            [
             0.5555555555555556,
             "#d8576b"
            ],
            [
             0.6666666666666666,
             "#ed7953"
            ],
            [
             0.7777777777777778,
             "#fb9f3a"
            ],
            [
             0.8888888888888888,
             "#fdca26"
            ],
            [
             1,
             "#f0f921"
            ]
           ]
          },
          "colorway": [
           "#636efa",
           "#EF553B",
           "#00cc96",
           "#ab63fa",
           "#FFA15A",
           "#19d3f3",
           "#FF6692",
           "#B6E880",
           "#FF97FF",
           "#FECB52"
          ],
          "font": {
           "color": "#2a3f5f"
          },
          "geo": {
           "bgcolor": "white",
           "lakecolor": "white",
           "landcolor": "#E5ECF6",
           "showlakes": true,
           "showland": true,
           "subunitcolor": "white"
          },
          "hoverlabel": {
           "align": "left"
          },
          "hovermode": "closest",
          "mapbox": {
           "style": "light"
          },
          "paper_bgcolor": "white",
          "plot_bgcolor": "#E5ECF6",
          "polar": {
           "angularaxis": {
            "gridcolor": "white",
            "linecolor": "white",
            "ticks": ""
           },
           "bgcolor": "#E5ECF6",
           "radialaxis": {
            "gridcolor": "white",
            "linecolor": "white",
            "ticks": ""
           }
          },
          "scene": {
           "xaxis": {
            "backgroundcolor": "#E5ECF6",
            "gridcolor": "white",
            "gridwidth": 2,
            "linecolor": "white",
            "showbackground": true,
            "ticks": "",
            "zerolinecolor": "white"
           },
           "yaxis": {
            "backgroundcolor": "#E5ECF6",
            "gridcolor": "white",
            "gridwidth": 2,
            "linecolor": "white",
            "showbackground": true,
            "ticks": "",
            "zerolinecolor": "white"
           },
           "zaxis": {
            "backgroundcolor": "#E5ECF6",
            "gridcolor": "white",
            "gridwidth": 2,
            "linecolor": "white",
            "showbackground": true,
            "ticks": "",
            "zerolinecolor": "white"
           }
          },
          "shapedefaults": {
           "line": {
            "color": "#2a3f5f"
           }
          },
          "ternary": {
           "aaxis": {
            "gridcolor": "white",
            "linecolor": "white",
            "ticks": ""
           },
           "baxis": {
            "gridcolor": "white",
            "linecolor": "white",
            "ticks": ""
           },
           "bgcolor": "#E5ECF6",
           "caxis": {
            "gridcolor": "white",
            "linecolor": "white",
            "ticks": ""
           }
          },
          "title": {
           "x": 0.05
          },
          "xaxis": {
           "automargin": true,
           "gridcolor": "white",
           "linecolor": "white",
           "ticks": "",
           "title": {
            "standoff": 15
           },
           "zerolinecolor": "white",
           "zerolinewidth": 2
          },
          "yaxis": {
           "automargin": true,
           "gridcolor": "white",
           "linecolor": "white",
           "ticks": "",
           "title": {
            "standoff": 15
           },
           "zerolinecolor": "white",
           "zerolinewidth": 2
          }
         }
        },
        "xaxis": {
         "linecolor": "black",
         "mirror": true,
         "showgrid": false,
         "showticklabels": false
        },
        "yaxis": {
         "linecolor": "black",
         "mirror": true,
         "showgrid": false,
         "showticklabels": false
        }
       }
      },
      "text/html": [
       "<div>                            <div id=\"c4e0785c-281c-4bf9-a12d-ec6fddaa9e34\" class=\"plotly-graph-div\" style=\"height:525px; width:100%;\"></div>            <script type=\"text/javascript\">                require([\"plotly\"], function(Plotly) {                    window.PLOTLYENV=window.PLOTLYENV || {};                                    if (document.getElementById(\"c4e0785c-281c-4bf9-a12d-ec6fddaa9e34\")) {                    Plotly.newPlot(                        \"c4e0785c-281c-4bf9-a12d-ec6fddaa9e34\",                        [{\"hoverinfo\":\"none\",\"line\":{\"color\":\"#888\",\"width\":0.5},\"mode\":\"lines\",\"x\":[1.0,0.8504001998150531,null,0.8504001998150531,0.6621050146211127,null,0.6621050146211127,0.4490337336767309,null,0.4490337336767309,0.21360382066418476,null,0.21360382066418476,-0.02161781439789908,null,-0.02161781439789908,-0.22680297264040292,null,-0.22680297264040292,-0.36903302348697364,null,-0.36903302348697364,-0.46385587170618875,null,-0.46385587170618875,-0.7043926383536864,null,-0.46385587170618875,-0.318060694890795,null,-0.7043926383536864,-0.8956000743534586,null,-0.318060694890795,-0.15995057382316327,null,-0.15995057382316327,0.03809276335054687,null,-0.15995057382316327,-0.23123108467415235,null,0.03809276335054687,0.17730921619909196,null],\"y\":[0.2638438347545216,0.365222514459234,null,0.365222514459234,0.47407234622830186,null,0.47407234622830186,0.5643266741077833,null,0.5643266741077833,0.5926789881966931,null,0.5926789881966931,0.5336740339140303,null,0.5336740339140303,0.3919213649336387,null,0.3919213649336387,0.17435687414396808,null,0.17435687414396808,-0.08038544311376802,null,-0.08038544311376802,-0.0914885161622838,null,-0.08038544311376802,-0.32025890574501537,null,-0.0914885161622838,-0.10550447474555433,null,-0.32025890574501537,-0.5470501295902623,null,-0.5470501295902623,-0.6842314201601795,null,-0.5470501295902623,-0.7166746307812824,null,-0.6842314201601795,-0.8145031104398252,null],\"type\":\"scatter\"},{\"hoverinfo\":\"none\",\"marker\":{\"color\":[\"black\",\"red\",\"blue\",\"red\",\"blue\",\"red\",\"blue\",\"red\",\"blue\",\"red\",\"blue\",\"red\",\"blue\",\"red\",\"blue\",\"gray\"],\"line\":{\"width\":2},\"showscale\":false,\"size\":10},\"mode\":\"markers\",\"x\":[1.0,0.8504001998150531,0.6621050146211127,0.4490337336767309,0.21360382066418476,-0.02161781439789908,-0.22680297264040292,-0.36903302348697364,-0.46385587170618875,-0.7043926383536864,-0.8956000743534586,-0.318060694890795,-0.15995057382316327,0.03809276335054687,0.17730921619909196,-0.23123108467415235],\"y\":[0.2638438347545216,0.365222514459234,0.47407234622830186,0.5643266741077833,0.5926789881966931,0.5336740339140303,0.3919213649336387,0.17435687414396808,-0.08038544311376802,-0.0914885161622838,-0.10550447474555433,-0.32025890574501537,-0.5470501295902623,-0.6842314201601795,-0.8145031104398252,-0.7166746307812824],\"type\":\"scatter\"}],                        {\"margin\":{\"b\":10,\"l\":10,\"pad\":0,\"r\":10,\"t\":10},\"paper_bgcolor\":\"white\",\"plot_bgcolor\":\"white\",\"showlegend\":false,\"xaxis\":{\"linecolor\":\"black\",\"mirror\":true,\"showgrid\":false,\"showticklabels\":false},\"yaxis\":{\"linecolor\":\"black\",\"mirror\":true,\"showgrid\":false,\"showticklabels\":false},\"template\":{\"data\":{\"histogram2dcontour\":[{\"type\":\"histogram2dcontour\",\"colorbar\":{\"outlinewidth\":0,\"ticks\":\"\"},\"colorscale\":[[0.0,\"#0d0887\"],[0.1111111111111111,\"#46039f\"],[0.2222222222222222,\"#7201a8\"],[0.3333333333333333,\"#9c179e\"],[0.4444444444444444,\"#bd3786\"],[0.5555555555555556,\"#d8576b\"],[0.6666666666666666,\"#ed7953\"],[0.7777777777777778,\"#fb9f3a\"],[0.8888888888888888,\"#fdca26\"],[1.0,\"#f0f921\"]]}],\"choropleth\":[{\"type\":\"choropleth\",\"colorbar\":{\"outlinewidth\":0,\"ticks\":\"\"}}],\"histogram2d\":[{\"type\":\"histogram2d\",\"colorbar\":{\"outlinewidth\":0,\"ticks\":\"\"},\"colorscale\":[[0.0,\"#0d0887\"],[0.1111111111111111,\"#46039f\"],[0.2222222222222222,\"#7201a8\"],[0.3333333333333333,\"#9c179e\"],[0.4444444444444444,\"#bd3786\"],[0.5555555555555556,\"#d8576b\"],[0.6666666666666666,\"#ed7953\"],[0.7777777777777778,\"#fb9f3a\"],[0.8888888888888888,\"#fdca26\"],[1.0,\"#f0f921\"]]}],\"heatmap\":[{\"type\":\"heatmap\",\"colorbar\":{\"outlinewidth\":0,\"ticks\":\"\"},\"colorscale\":[[0.0,\"#0d0887\"],[0.1111111111111111,\"#46039f\"],[0.2222222222222222,\"#7201a8\"],[0.3333333333333333,\"#9c179e\"],[0.4444444444444444,\"#bd3786\"],[0.5555555555555556,\"#d8576b\"],[0.6666666666666666,\"#ed7953\"],[0.7777777777777778,\"#fb9f3a\"],[0.8888888888888888,\"#fdca26\"],[1.0,\"#f0f921\"]]}],\"heatmapgl\":[{\"type\":\"heatmapgl\",\"colorbar\":{\"outlinewidth\":0,\"ticks\":\"\"},\"colorscale\":[[0.0,\"#0d0887\"],[0.1111111111111111,\"#46039f\"],[0.2222222222222222,\"#7201a8\"],[0.3333333333333333,\"#9c179e\"],[0.4444444444444444,\"#bd3786\"],[0.5555555555555556,\"#d8576b\"],[0.6666666666666666,\"#ed7953\"],[0.7777777777777778,\"#fb9f3a\"],[0.8888888888888888,\"#fdca26\"],[1.0,\"#f0f921\"]]}],\"contourcarpet\":[{\"type\":\"contourcarpet\",\"colorbar\":{\"outlinewidth\":0,\"ticks\":\"\"}}],\"contour\":[{\"type\":\"contour\",\"colorbar\":{\"outlinewidth\":0,\"ticks\":\"\"},\"colorscale\":[[0.0,\"#0d0887\"],[0.1111111111111111,\"#46039f\"],[0.2222222222222222,\"#7201a8\"],[0.3333333333333333,\"#9c179e\"],[0.4444444444444444,\"#bd3786\"],[0.5555555555555556,\"#d8576b\"],[0.6666666666666666,\"#ed7953\"],[0.7777777777777778,\"#fb9f3a\"],[0.8888888888888888,\"#fdca26\"],[1.0,\"#f0f921\"]]}],\"surface\":[{\"type\":\"surface\",\"colorbar\":{\"outlinewidth\":0,\"ticks\":\"\"},\"colorscale\":[[0.0,\"#0d0887\"],[0.1111111111111111,\"#46039f\"],[0.2222222222222222,\"#7201a8\"],[0.3333333333333333,\"#9c179e\"],[0.4444444444444444,\"#bd3786\"],[0.5555555555555556,\"#d8576b\"],[0.6666666666666666,\"#ed7953\"],[0.7777777777777778,\"#fb9f3a\"],[0.8888888888888888,\"#fdca26\"],[1.0,\"#f0f921\"]]}],\"mesh3d\":[{\"type\":\"mesh3d\",\"colorbar\":{\"outlinewidth\":0,\"ticks\":\"\"}}],\"scatter\":[{\"fillpattern\":{\"fillmode\":\"overlay\",\"size\":10,\"solidity\":0.2},\"type\":\"scatter\"}],\"parcoords\":[{\"type\":\"parcoords\",\"line\":{\"colorbar\":{\"outlinewidth\":0,\"ticks\":\"\"}}}],\"scatterpolargl\":[{\"type\":\"scatterpolargl\",\"marker\":{\"colorbar\":{\"outlinewidth\":0,\"ticks\":\"\"}}}],\"bar\":[{\"error_x\":{\"color\":\"#2a3f5f\"},\"error_y\":{\"color\":\"#2a3f5f\"},\"marker\":{\"line\":{\"color\":\"#E5ECF6\",\"width\":0.5},\"pattern\":{\"fillmode\":\"overlay\",\"size\":10,\"solidity\":0.2}},\"type\":\"bar\"}],\"scattergeo\":[{\"type\":\"scattergeo\",\"marker\":{\"colorbar\":{\"outlinewidth\":0,\"ticks\":\"\"}}}],\"scatterpolar\":[{\"type\":\"scatterpolar\",\"marker\":{\"colorbar\":{\"outlinewidth\":0,\"ticks\":\"\"}}}],\"histogram\":[{\"marker\":{\"pattern\":{\"fillmode\":\"overlay\",\"size\":10,\"solidity\":0.2}},\"type\":\"histogram\"}],\"scattergl\":[{\"type\":\"scattergl\",\"marker\":{\"colorbar\":{\"outlinewidth\":0,\"ticks\":\"\"}}}],\"scatter3d\":[{\"type\":\"scatter3d\",\"line\":{\"colorbar\":{\"outlinewidth\":0,\"ticks\":\"\"}},\"marker\":{\"colorbar\":{\"outlinewidth\":0,\"ticks\":\"\"}}}],\"scattermapbox\":[{\"type\":\"scattermapbox\",\"marker\":{\"colorbar\":{\"outlinewidth\":0,\"ticks\":\"\"}}}],\"scatterternary\":[{\"type\":\"scatterternary\",\"marker\":{\"colorbar\":{\"outlinewidth\":0,\"ticks\":\"\"}}}],\"scattercarpet\":[{\"type\":\"scattercarpet\",\"marker\":{\"colorbar\":{\"outlinewidth\":0,\"ticks\":\"\"}}}],\"carpet\":[{\"aaxis\":{\"endlinecolor\":\"#2a3f5f\",\"gridcolor\":\"white\",\"linecolor\":\"white\",\"minorgridcolor\":\"white\",\"startlinecolor\":\"#2a3f5f\"},\"baxis\":{\"endlinecolor\":\"#2a3f5f\",\"gridcolor\":\"white\",\"linecolor\":\"white\",\"minorgridcolor\":\"white\",\"startlinecolor\":\"#2a3f5f\"},\"type\":\"carpet\"}],\"table\":[{\"cells\":{\"fill\":{\"color\":\"#EBF0F8\"},\"line\":{\"color\":\"white\"}},\"header\":{\"fill\":{\"color\":\"#C8D4E3\"},\"line\":{\"color\":\"white\"}},\"type\":\"table\"}],\"barpolar\":[{\"marker\":{\"line\":{\"color\":\"#E5ECF6\",\"width\":0.5},\"pattern\":{\"fillmode\":\"overlay\",\"size\":10,\"solidity\":0.2}},\"type\":\"barpolar\"}],\"pie\":[{\"automargin\":true,\"type\":\"pie\"}]},\"layout\":{\"autotypenumbers\":\"strict\",\"colorway\":[\"#636efa\",\"#EF553B\",\"#00cc96\",\"#ab63fa\",\"#FFA15A\",\"#19d3f3\",\"#FF6692\",\"#B6E880\",\"#FF97FF\",\"#FECB52\"],\"font\":{\"color\":\"#2a3f5f\"},\"hovermode\":\"closest\",\"hoverlabel\":{\"align\":\"left\"},\"paper_bgcolor\":\"white\",\"plot_bgcolor\":\"#E5ECF6\",\"polar\":{\"bgcolor\":\"#E5ECF6\",\"angularaxis\":{\"gridcolor\":\"white\",\"linecolor\":\"white\",\"ticks\":\"\"},\"radialaxis\":{\"gridcolor\":\"white\",\"linecolor\":\"white\",\"ticks\":\"\"}},\"ternary\":{\"bgcolor\":\"#E5ECF6\",\"aaxis\":{\"gridcolor\":\"white\",\"linecolor\":\"white\",\"ticks\":\"\"},\"baxis\":{\"gridcolor\":\"white\",\"linecolor\":\"white\",\"ticks\":\"\"},\"caxis\":{\"gridcolor\":\"white\",\"linecolor\":\"white\",\"ticks\":\"\"}},\"coloraxis\":{\"colorbar\":{\"outlinewidth\":0,\"ticks\":\"\"}},\"colorscale\":{\"sequential\":[[0.0,\"#0d0887\"],[0.1111111111111111,\"#46039f\"],[0.2222222222222222,\"#7201a8\"],[0.3333333333333333,\"#9c179e\"],[0.4444444444444444,\"#bd3786\"],[0.5555555555555556,\"#d8576b\"],[0.6666666666666666,\"#ed7953\"],[0.7777777777777778,\"#fb9f3a\"],[0.8888888888888888,\"#fdca26\"],[1.0,\"#f0f921\"]],\"sequentialminus\":[[0.0,\"#0d0887\"],[0.1111111111111111,\"#46039f\"],[0.2222222222222222,\"#7201a8\"],[0.3333333333333333,\"#9c179e\"],[0.4444444444444444,\"#bd3786\"],[0.5555555555555556,\"#d8576b\"],[0.6666666666666666,\"#ed7953\"],[0.7777777777777778,\"#fb9f3a\"],[0.8888888888888888,\"#fdca26\"],[1.0,\"#f0f921\"]],\"diverging\":[[0,\"#8e0152\"],[0.1,\"#c51b7d\"],[0.2,\"#de77ae\"],[0.3,\"#f1b6da\"],[0.4,\"#fde0ef\"],[0.5,\"#f7f7f7\"],[0.6,\"#e6f5d0\"],[0.7,\"#b8e186\"],[0.8,\"#7fbc41\"],[0.9,\"#4d9221\"],[1,\"#276419\"]]},\"xaxis\":{\"gridcolor\":\"white\",\"linecolor\":\"white\",\"ticks\":\"\",\"title\":{\"standoff\":15},\"zerolinecolor\":\"white\",\"automargin\":true,\"zerolinewidth\":2},\"yaxis\":{\"gridcolor\":\"white\",\"linecolor\":\"white\",\"ticks\":\"\",\"title\":{\"standoff\":15},\"zerolinecolor\":\"white\",\"automargin\":true,\"zerolinewidth\":2},\"scene\":{\"xaxis\":{\"backgroundcolor\":\"#E5ECF6\",\"gridcolor\":\"white\",\"linecolor\":\"white\",\"showbackground\":true,\"ticks\":\"\",\"zerolinecolor\":\"white\",\"gridwidth\":2},\"yaxis\":{\"backgroundcolor\":\"#E5ECF6\",\"gridcolor\":\"white\",\"linecolor\":\"white\",\"showbackground\":true,\"ticks\":\"\",\"zerolinecolor\":\"white\",\"gridwidth\":2},\"zaxis\":{\"backgroundcolor\":\"#E5ECF6\",\"gridcolor\":\"white\",\"linecolor\":\"white\",\"showbackground\":true,\"ticks\":\"\",\"zerolinecolor\":\"white\",\"gridwidth\":2}},\"shapedefaults\":{\"line\":{\"color\":\"#2a3f5f\"}},\"annotationdefaults\":{\"arrowcolor\":\"#2a3f5f\",\"arrowhead\":0,\"arrowwidth\":1},\"geo\":{\"bgcolor\":\"white\",\"landcolor\":\"#E5ECF6\",\"subunitcolor\":\"white\",\"showland\":true,\"showlakes\":true,\"lakecolor\":\"white\"},\"title\":{\"x\":0.05},\"mapbox\":{\"style\":\"light\"}}}},                        {\"responsive\": true}                    ).then(function(){\n",
       "                            \n",
       "var gd = document.getElementById('c4e0785c-281c-4bf9-a12d-ec6fddaa9e34');\n",
       "var x = new MutationObserver(function (mutations, observer) {{\n",
       "        var display = window.getComputedStyle(gd).display;\n",
       "        if (!display || display === 'none') {{\n",
       "            console.log([gd, 'removed!']);\n",
       "            Plotly.purge(gd);\n",
       "            observer.disconnect();\n",
       "        }}\n",
       "}});\n",
       "\n",
       "// Listen for the removal of the full notebook cells\n",
       "var notebookContainer = gd.closest('#notebook-container');\n",
       "if (notebookContainer) {{\n",
       "    x.observe(notebookContainer, {childList: true});\n",
       "}}\n",
       "\n",
       "// Listen for the clearing of the current output cell\n",
       "var outputEl = gd.closest('.output');\n",
       "if (outputEl) {{\n",
       "    x.observe(outputEl, {childList: true});\n",
       "}}\n",
       "\n",
       "                        })                };                });            </script>        </div>"
      ]
     },
     "metadata": {},
     "output_type": "display_data"
    },
    {
     "data": {
      "text/plain": [
       "12"
      ]
     },
     "execution_count": 83,
     "metadata": {},
     "output_type": "execute_result"
    }
   ],
   "source": [
    "prep_df = preprocess(df)\n",
    "draw_graph(prep_df, 0, style='kamada_kawai')"
   ]
  },
  {
   "cell_type": "code",
   "execution_count": 5,
   "metadata": {},
   "outputs": [
    {
     "data": {
      "image/png": "[encoded data removed]",
      "text/plain": [
       "<Figure size 432x288 with 1 Axes>"
      ]
     },
     "metadata": {},
     "output_type": "display_data"
    },
    {
     "data": {
      "text/plain": [
       "12"
      ]
     },
     "execution_count": 5,
     "metadata": {},
     "output_type": "execute_result"
    }
   ],
   "source": [
    "prep_df = preprocess(df)\n",
    "draw_graph(prep_df, 0)"
   ]
  },
  {
   "cell_type": "code",
   "execution_count": 8,
   "metadata": {},
   "outputs": [
    {
     "data": {
      "image/png": "[encoded data removed]",
      "text/plain": [
       "<Figure size 432x288 with 1 Axes>"
      ]
     },
     "metadata": {},
     "output_type": "display_data"
    },
    {
     "data": {
      "text/plain": [
       "12"
      ]
     },
     "execution_count": 8,
     "metadata": {},
     "output_type": "execute_result"
    }
   ],
   "source": [
    "draw_graph(prep_df, 0, style='circular')\n",
    "# nx.draw_circular(G, **options)\n",
    "# plt.show()"
   ]
  },
  {
   "cell_type": "code",
   "execution_count": 9,
   "metadata": {},
   "outputs": [
    {
     "data": {
      "image/png": "[encoded data removed]",
      "text/plain": [
       "<Figure size 432x288 with 1 Axes>"
      ]
     },
     "metadata": {},
     "output_type": "display_data"
    },
    {
     "data": {
      "text/plain": [
       "12"
      ]
     },
     "execution_count": 9,
     "metadata": {},
     "output_type": "execute_result"
    }
   ],
   "source": [
    "draw_graph(prep_df, 0, style='spectral')\n",
    "# nx.draw_spectral(G, **options)\n",
    "# plt.show()"
   ]
  },
  {
   "cell_type": "code",
   "execution_count": 10,
   "metadata": {},
   "outputs": [
    {
     "data": {
      "image/png": "[encoded data removed]",
      "text/plain": [
       "<Figure size 432x288 with 1 Axes>"
      ]
     },
     "metadata": {},
     "output_type": "display_data"
    },
    {
     "data": {
      "text/plain": [
       "12"
      ]
     },
     "execution_count": 10,
     "metadata": {},
     "output_type": "execute_result"
    }
   ],
   "source": [
    "draw_graph(prep_df, 0, style='kamada_kawai')\n",
    "# nx.draw_kamada_kawai(G, **options)\n",
    "# plt.show()"
   ]
  },
  {
   "cell_type": "code",
   "execution_count": 11,
   "metadata": {},
   "outputs": [
    {
     "data": {
      "image/png": "[encoded data removed]",
      "text/plain": [
       "<Figure size 432x288 with 1 Axes>"
      ]
     },
     "metadata": {},
     "output_type": "display_data"
    },
    {
     "data": {
      "text/plain": [
       "12"
      ]
     },
     "execution_count": 11,
     "metadata": {},
     "output_type": "execute_result"
    }
   ],
   "source": [
    "draw_graph(prep_df, 0, style='planar')\n",
    "# nx.draw_planar(G, **options)\n",
    "# plt.show()"
   ]
  },
  {
   "cell_type": "code",
   "execution_count": 12,
   "metadata": {},
   "outputs": [
    {
     "data": {
      "image/png": "[encoded data removed]",
      "text/plain": [
       "<Figure size 432x288 with 1 Axes>"
      ]
     },
     "metadata": {},
     "output_type": "display_data"
    },
    {
     "data": {
      "text/plain": [
       "12"
      ]
     },
     "execution_count": 12,
     "metadata": {},
     "output_type": "execute_result"
    }
   ],
   "source": [
    "draw_graph(prep_df, 0, style='spring')\n",
    "# nx.draw_spring(G, **options)\n",
    "# plt.show()"
   ]
  },
  {
   "cell_type": "code",
   "execution_count": 13,
   "metadata": {},
   "outputs": [
    {
     "data": {
      "image/png": "[encoded data removed]",
      "text/plain": [
       "<Figure size 432x288 with 1 Axes>"
      ]
     },
     "metadata": {},
     "output_type": "display_data"
    },
    {
     "data": {
      "text/plain": [
       "12"
      ]
     },
     "execution_count": 13,
     "metadata": {},
     "output_type": "execute_result"
    }
   ],
   "source": [
    "draw_graph(prep_df, 0, style='shell')\n",
    "# nx.draw_shell(G, **options)\n",
    "# plt.show()"
   ]
  },
  {
   "cell_type": "markdown",
   "metadata": {},
   "source": [
    "## 유효 대화 길이 / 전체 대화 길이 생성"
   ]
  },
  {
   "cell_type": "code",
   "execution_count": 13,
   "metadata": {},
   "outputs": [],
   "source": [
    "sig_conversation_length_dict = {i:draw_graph(prep_df, i, draw=False) for i in prep_df.user_id.unique()}\n",
    "conversation_length = prep_df.groupby(by='user_id').count().is_user"
   ]
  },
  {
   "cell_type": "code",
   "execution_count": 19,
   "metadata": {},
   "outputs": [
    {
     "data": {
      "text/plain": [
       "0        12\n",
       "1        12\n",
       "2        12\n",
       "3        12\n",
       "4        12\n",
       "         ..\n",
       "87281    18\n",
       "87282    18\n",
       "87283    18\n",
       "87284    18\n",
       "87285    18\n",
       "Name: user_id, Length: 87286, dtype: int64"
      ]
     },
     "execution_count": 19,
     "metadata": {},
     "output_type": "execute_result"
    }
   ],
   "source": [
    "df['sig_conv_len'] = prep_df.user_id.apply(lambda x:sig_conversation_length_dict[x])"
   ]
  },
  {
   "cell_type": "code",
   "execution_count": 33,
   "metadata": {},
   "outputs": [
    {
     "data": {
      "text/plain": [
       "{0: 0.75,\n",
       " 1: 1.0,\n",
       " 2: 0.8571428571428571,\n",
       " 3: 0.8888888888888888,\n",
       " 4: 0.875,\n",
       " 5: 1.0,\n",
       " 6: 1.0,\n",
       " 7: 1.0,\n",
       " 8: 0.875,\n",
       " 9: 1.0,\n",
       " 10: 1.0,\n",
       " 11: 0.8888888888888888,\n",
       " 12: 0.8666666666666667,\n",
       " 13: 1.0,\n",
       " 14: 0.8571428571428571,\n",
       " 15: 0.8,\n",
       " 16: 1.0,\n",
       " 17: 1.0,\n",
       " 18: 0.8181818181818182,\n",
       " 19: 0.8333333333333334,\n",
       " 20: 0.875,\n",
       " 21: 0.8571428571428571,\n",
       " 22: 1.0,\n",
       " 23: 0.8666666666666667,\n",
       " 24: 1.0,\n",
       " 25: 0.8,\n",
       " 26: 1.0,\n",
       " 27: 1.0,\n",
       " 28: 1.0,\n",
       " 29: 1.0,\n",
       " 30: 0.875,\n",
       " 31: 0.8823529411764706,\n",
       " 32: 0.6666666666666666,\n",
       " 33: 1.0,\n",
       " 34: 0.875,\n",
       " 35: 1.0,\n",
       " 36: 0.8333333333333334,\n",
       " 37: 0.9166666666666666,\n",
       " 38: 0.875,\n",
       " 39: 0.8571428571428571,\n",
       " 40: 0.875,\n",
       " 41: 1.0,\n",
       " 42: 0.875,\n",
       " 43: 0.9375,\n",
       " 44: 0.8571428571428571,\n",
       " 45: 0.6666666666666666,\n",
       " 46: 1.0,\n",
       " 47: 1.0,\n",
       " 48: 1.0,\n",
       " 49: 1.0,\n",
       " 50: 1.0,\n",
       " 51: 0.9411764705882353,\n",
       " 52: 1.0,\n",
       " 53: 0.75,\n",
       " 54: 0.875,\n",
       " 55: 1.0,\n",
       " 56: 0.8333333333333334,\n",
       " 57: 0.8823529411764706,\n",
       " 58: 0.7142857142857143,\n",
       " 59: 1.0,\n",
       " 60: 0.7777777777777778,\n",
       " 61: 1.0,\n",
       " 62: 0.8823529411764706,\n",
       " 63: 1.0,\n",
       " 64: 0.75,\n",
       " 65: 0.875,\n",
       " 66: 1.0,\n",
       " 67: 0.8888888888888888,\n",
       " 68: 1.0,\n",
       " 69: 1.0,\n",
       " 70: 0.7,\n",
       " 71: 1.0,\n",
       " 72: 1.0,\n",
       " 73: 0.7777777777777778,\n",
       " 74: 1.0,\n",
       " 75: 0.7272727272727273,\n",
       " 76: 1.0,\n",
       " 77: 1.0,\n",
       " 78: 0.8125,\n",
       " 79: 0.8571428571428571,\n",
       " 80: 1.0,\n",
       " 81: 1.0,\n",
       " 82: 1.0,\n",
       " 83: 0.7142857142857143,\n",
       " 84: 1.0,\n",
       " 85: 0.7777777777777778,\n",
       " 86: 1.0,\n",
       " 87: 1.0,\n",
       " 88: 1.0,\n",
       " 89: 0.8823529411764706,\n",
       " 90: 1.0,\n",
       " 91: 1.0,\n",
       " 92: 0.8333333333333334,\n",
       " 93: 0.7647058823529411,\n",
       " 94: 1.0,\n",
       " 95: 0.75,\n",
       " 96: 0.8571428571428571,\n",
       " 97: 1.0,\n",
       " 98: 0.7777777777777778,\n",
       " 99: 0.9375,\n",
       " 100: 0.7,\n",
       " 101: 0.8888888888888888,\n",
       " 102: 1.0,\n",
       " 103: 1.0,\n",
       " 104: 0.875,\n",
       " 105: 0.8181818181818182,\n",
       " 106: 0.8,\n",
       " 107: 1.0,\n",
       " 108: 0.8,\n",
       " 109: 0.9090909090909091,\n",
       " 110: 0.8571428571428571,\n",
       " 111: 1.0,\n",
       " 112: 0.8571428571428571,\n",
       " 113: 1.0,\n",
       " 114: 0.875,\n",
       " 115: 1.0,\n",
       " 116: 0.8571428571428571,\n",
       " 117: 0.9411764705882353,\n",
       " 118: 1.0,\n",
       " 119: 1.0,\n",
       " 120: 1.0,\n",
       " 121: 0.8571428571428571,\n",
       " 122: 0.75,\n",
       " 123: 0.7777777777777778,\n",
       " 124: 0.8823529411764706,\n",
       " 125: 0.7777777777777778,\n",
       " 126: 1.0,\n",
       " 127: 1.0,\n",
       " 128: 0.8181818181818182,\n",
       " 129: 0.8571428571428571,\n",
       " 130: 1.0,\n",
       " 131: 1.0,\n",
       " 132: 0.875,\n",
       " 133: 1.0,\n",
       " 134: 1.0,\n",
       " 135: 0.9090909090909091,\n",
       " 136: 1.0,\n",
       " 137: 0.875,\n",
       " 138: 0.875,\n",
       " 139: 0.8571428571428571,\n",
       " 140: 0.8888888888888888,\n",
       " 141: 0.8571428571428571,\n",
       " 142: 0.9090909090909091,\n",
       " 143: 1.0,\n",
       " 144: 1.0,\n",
       " 145: 1.0,\n",
       " 146: 0.6,\n",
       " 147: 1.0,\n",
       " 148: 0.875,\n",
       " 149: 0.8888888888888888,\n",
       " 150: 1.0,\n",
       " 151: 1.0,\n",
       " 152: 0.8571428571428571,\n",
       " 153: 1.0,\n",
       " 154: 0.8823529411764706,\n",
       " 155: 0.875,\n",
       " 156: 1.0,\n",
       " 157: 1.0,\n",
       " 158: 1.0,\n",
       " 159: 0.7333333333333333,\n",
       " 160: 0.7777777777777778,\n",
       " 161: 0.75,\n",
       " 162: 0.7142857142857143,\n",
       " 163: 1.0,\n",
       " 164: 1.0,\n",
       " 165: 0.8666666666666667,\n",
       " 166: 1.0,\n",
       " 167: 0.6111111111111112,\n",
       " 168: 1.0,\n",
       " 169: 0.8571428571428571,\n",
       " 170: 0.8888888888888888,\n",
       " 171: 0.75,\n",
       " 172: 0.6666666666666666,\n",
       " 173: 0.8947368421052632,\n",
       " 174: 1.0,\n",
       " 175: 1.0,\n",
       " 176: 1.0,\n",
       " 177: 0.875,\n",
       " 178: 1.0,\n",
       " 179: 0.7142857142857143,\n",
       " 180: 1.0,\n",
       " 181: 0.8888888888888888,\n",
       " 182: 1.0,\n",
       " 183: 1.0,\n",
       " 184: 1.0,\n",
       " 185: 0.875,\n",
       " 186: 1.0,\n",
       " 187: 1.0,\n",
       " 188: 0.7333333333333333,\n",
       " 189: 1.0,\n",
       " 190: 1.0,\n",
       " 191: 1.0,\n",
       " 192: 1.0,\n",
       " 193: 0.6666666666666666,\n",
       " 194: 1.0,\n",
       " 195: 0.7777777777777778,\n",
       " 196: 0.875,\n",
       " 197: 0.7142857142857143,\n",
       " 198: 1.0,\n",
       " 199: 0.8181818181818182,\n",
       " 200: 1.0,\n",
       " 201: 1.0,\n",
       " 202: 1.0,\n",
       " 203: 0.8888888888888888,\n",
       " 204: 0.8571428571428571,\n",
       " 205: 0.875,\n",
       " 206: 0.75,\n",
       " 207: 0.8571428571428571,\n",
       " 208: 1.0,\n",
       " 209: 0.8,\n",
       " 210: 0.875,\n",
       " 211: 0.9090909090909091,\n",
       " 212: 1.0,\n",
       " 213: 0.9090909090909091,\n",
       " 214: 0.7777777777777778,\n",
       " 215: 0.875,\n",
       " 216: 0.875,\n",
       " 217: 1.0,\n",
       " 218: 1.0,\n",
       " 219: 0.9,\n",
       " 220: 0.6666666666666666,\n",
       " 221: 0.65,\n",
       " 222: 0.7222222222222222,\n",
       " 223: 0.7777777777777778,\n",
       " 224: 1.0,\n",
       " 225: 1.0,\n",
       " 226: 1.0,\n",
       " 227: 0.875,\n",
       " 228: 0.8571428571428571,\n",
       " 229: 0.8571428571428571,\n",
       " 230: 1.0,\n",
       " 231: 0.875,\n",
       " 232: 0.8,\n",
       " 233: 0.75,\n",
       " 234: 1.0,\n",
       " 235: 1.0,\n",
       " 236: 0.8571428571428571,\n",
       " 237: 0.875,\n",
       " 238: 0.625,\n",
       " 239: 1.0,\n",
       " 240: 0.8888888888888888,\n",
       " 241: 0.9,\n",
       " 242: 1.0,\n",
       " 243: 1.0,\n",
       " 244: 1.0,\n",
       " 245: 1.0,\n",
       " 246: 0.9375,\n",
       " 247: 0.5,\n",
       " 248: 0.7777777777777778,\n",
       " 249: 1.0,\n",
       " 250: 0.7777777777777778,\n",
       " 251: 0.8571428571428571,\n",
       " 252: 0.875,\n",
       " 253: 1.0,\n",
       " 254: 0.8571428571428571,\n",
       " 255: 1.0,\n",
       " 256: 0.8571428571428571,\n",
       " 257: 1.0,\n",
       " 258: 0.8571428571428571,\n",
       " 259: 0.8571428571428571,\n",
       " 260: 0.875,\n",
       " 261: 0.8,\n",
       " 262: 1.0,\n",
       " 263: 1.0,\n",
       " 264: 0.6666666666666666,\n",
       " 265: 0.75,\n",
       " 266: 0.875,\n",
       " 267: 1.0,\n",
       " 268: 0.8823529411764706,\n",
       " 269: 0.875,\n",
       " 270: 1.0,\n",
       " 271: 1.0,\n",
       " 272: 0.8,\n",
       " 273: 1.0,\n",
       " 274: 0.875,\n",
       " 275: 0.8,\n",
       " 276: 0.8666666666666667,\n",
       " 277: 1.0,\n",
       " 278: 0.8823529411764706,\n",
       " 279: 0.8571428571428571,\n",
       " 280: 1.0,\n",
       " 281: 1.0,\n",
       " 282: 0.8,\n",
       " 283: 0.8571428571428571,\n",
       " 284: 1.0,\n",
       " 285: 1.0,\n",
       " 286: 1.0,\n",
       " 287: 0.75,\n",
       " 288: 0.625,\n",
       " 289: 1.0,\n",
       " 290: 0.7272727272727273,\n",
       " 291: 0.7777777777777778,\n",
       " 292: 1.0,\n",
       " 293: 1.0,\n",
       " 294: 0.6666666666666666,\n",
       " 295: 0.6666666666666666,\n",
       " 296: 0.8,\n",
       " 297: 0.875,\n",
       " 298: 1.0,\n",
       " 299: 1.0,\n",
       " 300: 0.8181818181818182,\n",
       " 301: 0.75,\n",
       " 302: 1.0,\n",
       " 303: 0.75,\n",
       " 304: 1.0,\n",
       " 305: 1.0,\n",
       " 306: 0.8888888888888888,\n",
       " 307: 0.8333333333333334,\n",
       " 308: 1.0,\n",
       " 309: 1.0,\n",
       " 310: 1.0,\n",
       " 311: 1.0,\n",
       " 312: 0.8571428571428571,\n",
       " 313: 0.8888888888888888,\n",
       " 314: 0.8571428571428571,\n",
       " 315: 1.0,\n",
       " 316: 0.9411764705882353,\n",
       " 317: 0.95,\n",
       " 318: 1.0,\n",
       " 319: 0.6666666666666666,\n",
       " 320: 1.0,\n",
       " 321: 0.75,\n",
       " 322: 1.0,\n",
       " 323: 1.0,\n",
       " 324: 1.0,\n",
       " 325: 1.0,\n",
       " 326: 0.875,\n",
       " 327: 1.0,\n",
       " 328: 0.8571428571428571,\n",
       " 329: 0.8823529411764706,\n",
       " 330: 0.8571428571428571,\n",
       " 331: 1.0,\n",
       " 332: 1.0,\n",
       " 333: 0.8571428571428571,\n",
       " 334: 0.8333333333333334,\n",
       " 335: 1.0,\n",
       " 336: 0.75,\n",
       " 337: 0.8181818181818182,\n",
       " 338: 1.0,\n",
       " 339: 1.0,\n",
       " 340: 0.875,\n",
       " 341: 0.8888888888888888,\n",
       " 342: 1.0,\n",
       " 343: 1.0,\n",
       " 344: 0.7142857142857143,\n",
       " 345: 0.875,\n",
       " 346: 0.8571428571428571,\n",
       " 347: 0.875,\n",
       " 348: 1.0,\n",
       " 349: 1.0,\n",
       " 350: 0.8571428571428571,\n",
       " 351: 0.9411764705882353,\n",
       " 352: 1.0,\n",
       " 353: 0.875,\n",
       " 354: 1.0,\n",
       " 355: 1.0,\n",
       " 356: 1.0,\n",
       " 357: 1.0,\n",
       " 358: 1.0,\n",
       " 359: 0.9545454545454546,\n",
       " 360: 1.0,\n",
       " 361: 0.8333333333333334,\n",
       " 362: 1.0,\n",
       " 363: 1.0,\n",
       " 364: 0.7142857142857143,\n",
       " 365: 1.0,\n",
       " 366: 0.8333333333333334,\n",
       " 367: 0.875,\n",
       " 368: 1.0,\n",
       " 369: 1.0,\n",
       " 370: 1.0,\n",
       " 371: 0.8,\n",
       " 372: 0.8666666666666667,\n",
       " 373: 0.7272727272727273,\n",
       " 374: 0.8333333333333334,\n",
       " 375: 1.0,\n",
       " 376: 1.0,\n",
       " 377: 1.0,\n",
       " 378: 0.9285714285714286,\n",
       " 379: 0.875,\n",
       " 380: 1.0,\n",
       " 381: 0.7777777777777778,\n",
       " 382: 0.875,\n",
       " 383: 1.0,\n",
       " 384: 0.875,\n",
       " 385: 0.8888888888888888,\n",
       " 386: 0.8888888888888888,\n",
       " 387: 0.8571428571428571,\n",
       " 388: 0.9166666666666666,\n",
       " 389: 1.0,\n",
       " 390: 1.0,\n",
       " 391: 0.8571428571428571,\n",
       " 392: 1.0,\n",
       " 393: 1.0,\n",
       " 394: 0.875,\n",
       " 395: 1.0,\n",
       " 396: 1.0,\n",
       " 397: 0.8823529411764706,\n",
       " 398: 0.875,\n",
       " 399: 0.7142857142857143,\n",
       " 400: 0.8571428571428571,\n",
       " 401: 0.875,\n",
       " 402: 1.0,\n",
       " 403: 0.5,\n",
       " 404: 0.8333333333333334,\n",
       " 405: 1.0,\n",
       " 406: 1.0,\n",
       " 407: 1.0,\n",
       " 408: 0.875,\n",
       " 409: 0.7142857142857143,\n",
       " 410: 1.0,\n",
       " 411: 0.8571428571428571,\n",
       " 412: 0.5714285714285714,\n",
       " 413: 1.0,\n",
       " 414: 0.875,\n",
       " 415: 1.0,\n",
       " 416: 1.0,\n",
       " 417: 1.0,\n",
       " 418: 0.9411764705882353,\n",
       " 419: 1.0,\n",
       " 420: 0.875,\n",
       " 421: 1.0,\n",
       " 422: 1.0,\n",
       " 423: 1.0,\n",
       " 424: 0.8,\n",
       " 425: 0.875,\n",
       " 426: 0.8888888888888888,\n",
       " 427: 1.0,\n",
       " 428: 0.8888888888888888,\n",
       " 429: 1.0,\n",
       " 430: 0.9090909090909091,\n",
       " 431: 0.8947368421052632,\n",
       " 432: 1.0,\n",
       " 433: 0.8571428571428571,\n",
       " 434: 0.7368421052631579,\n",
       " 435: 0.8571428571428571,\n",
       " 436: 0.8823529411764706,\n",
       " 437: 0.8571428571428571,\n",
       " 438: 0.7142857142857143,\n",
       " 439: 1.0,\n",
       " 440: 0.75,\n",
       " 441: 0.8333333333333334,\n",
       " 442: 1.0,\n",
       " 443: 1.0,\n",
       " 444: 0.92,\n",
       " 445: 1.0,\n",
       " 446: 1.0,\n",
       " 447: 0.9333333333333333,\n",
       " 448: 1.0,\n",
       " 449: 1.0,\n",
       " 450: 0.8571428571428571,\n",
       " 451: 1.0,\n",
       " 452: 1.0,\n",
       " 453: 0.9,\n",
       " 454: 0.9375,\n",
       " 455: 1.0,\n",
       " 456: 0.875,\n",
       " 457: 1.0,\n",
       " 458: 0.9,\n",
       " 459: 0.6875,\n",
       " 460: 0.8333333333333334,\n",
       " 461: 1.0,\n",
       " 462: 0.8571428571428571,\n",
       " 463: 1.0,\n",
       " 464: 0.9545454545454546,\n",
       " 465: 0.8571428571428571,\n",
       " 466: 1.0,\n",
       " 467: 0.75,\n",
       " 468: 0.875,\n",
       " 469: 1.0,\n",
       " 470: 1.0,\n",
       " 471: 0.8888888888888888,\n",
       " 472: 1.0,\n",
       " 473: 0.7272727272727273,\n",
       " 474: 0.7142857142857143,\n",
       " 475: 1.0,\n",
       " 476: 1.0,\n",
       " 477: 0.9375,\n",
       " 478: 0.85,\n",
       " 479: 1.0,\n",
       " 480: 0.6666666666666666,\n",
       " 481: 0.8571428571428571,\n",
       " 482: 0.8571428571428571,\n",
       " 483: 0.8888888888888888,\n",
       " 484: 0.8571428571428571,\n",
       " 485: 0.75,\n",
       " 486: 1.0,\n",
       " 487: 0.875,\n",
       " 488: 1.0,\n",
       " 489: 1.0,\n",
       " 490: 1.0,\n",
       " 491: 0.8888888888888888,\n",
       " 492: 0.8571428571428571,\n",
       " 493: 1.0,\n",
       " 494: 1.0,\n",
       " 495: 1.0,\n",
       " 496: 0.875,\n",
       " 497: 0.875,\n",
       " 498: 1.0,\n",
       " 499: 1.0,\n",
       " 500: 1.0,\n",
       " 501: 1.0,\n",
       " 502: 1.0,\n",
       " 503: 1.0,\n",
       " 504: 1.0,\n",
       " 505: 0.8571428571428571,\n",
       " 506: 0.7,\n",
       " 507: 0.8571428571428571,\n",
       " 508: 0.8181818181818182,\n",
       " 509: 0.8,\n",
       " 510: 1.0,\n",
       " 511: 1.0,\n",
       " 512: 0.8181818181818182,\n",
       " 513: 0.75,\n",
       " 514: 0.8571428571428571,\n",
       " 515: 1.0,\n",
       " 516: 0.6666666666666666,\n",
       " 517: 1.0,\n",
       " 518: 0.8125,\n",
       " 519: 0.875,\n",
       " 520: 0.75,\n",
       " 521: 1.0,\n",
       " 522: 0.8823529411764706,\n",
       " 523: 1.0,\n",
       " 524: 1.0,\n",
       " 525: 0.8,\n",
       " 526: 0.7777777777777778,\n",
       " 527: 1.0,\n",
       " 528: 0.7647058823529411,\n",
       " 529: 0.7272727272727273,\n",
       " 530: 1.0,\n",
       " 531: 1.0,\n",
       " 532: 0.875,\n",
       " 533: 1.0,\n",
       " 534: 1.0,\n",
       " 535: 1.0,\n",
       " 536: 0.7777777777777778,\n",
       " 537: 0.875,\n",
       " 538: 0.8888888888888888,\n",
       " 539: 1.0,\n",
       " 540: 0.8823529411764706,\n",
       " 541: 1.0,\n",
       " 542: 0.8181818181818182,\n",
       " 543: 0.75,\n",
       " 544: 1.0,\n",
       " 545: 1.0,\n",
       " 546: 1.0,\n",
       " 547: 0.8571428571428571,\n",
       " 548: 0.75,\n",
       " 549: 1.0,\n",
       " 550: 1.0,\n",
       " 551: 0.875,\n",
       " 552: 0.6666666666666666,\n",
       " 553: 1.0,\n",
       " 554: 0.7142857142857143,\n",
       " 555: 0.75,\n",
       " 556: 0.875,\n",
       " 557: 1.0,\n",
       " 558: 0.8571428571428571,\n",
       " 559: 0.9375,\n",
       " 560: 1.0,\n",
       " 561: 1.0,\n",
       " 562: 0.875,\n",
       " 563: 0.875,\n",
       " 564: 0.8571428571428571,\n",
       " 565: 1.0,\n",
       " 566: 0.7777777777777778,\n",
       " 567: 1.0,\n",
       " 568: 0.875,\n",
       " 569: 1.0,\n",
       " 570: 1.0,\n",
       " 571: 0.8181818181818182,\n",
       " 572: 0.875,\n",
       " 573: 1.0,\n",
       " 574: 1.0,\n",
       " 575: 0.7916666666666666,\n",
       " 576: 1.0,\n",
       " 577: 0.6428571428571429,\n",
       " 578: 1.0,\n",
       " 579: 0.875,\n",
       " 580: 0.875,\n",
       " 581: 1.0,\n",
       " 582: 0.8181818181818182,\n",
       " 583: 1.0,\n",
       " 584: 1.0,\n",
       " 585: 1.0,\n",
       " 586: 1.0,\n",
       " 587: 1.0,\n",
       " 588: 1.0,\n",
       " 589: 1.0,\n",
       " 590: 0.6666666666666666,\n",
       " 591: 0.9375,\n",
       " 592: 0.875,\n",
       " 593: 0.75,\n",
       " 594: 0.8333333333333334,\n",
       " 595: 0.8571428571428571,\n",
       " 596: 1.0,\n",
       " 597: 0.875,\n",
       " 598: 0.8636363636363636,\n",
       " 599: 0.7,\n",
       " 600: 0.7777777777777778,\n",
       " 601: 0.8,\n",
       " 602: 1.0,\n",
       " 603: 0.75,\n",
       " 604: 0.875,\n",
       " 605: 1.0,\n",
       " 606: 1.0,\n",
       " 607: 0.8571428571428571,\n",
       " 608: 1.0,\n",
       " 609: 0.75,\n",
       " 610: 0.875,\n",
       " 611: 0.8571428571428571,\n",
       " 612: 0.8571428571428571,\n",
       " 613: 0.8571428571428571,\n",
       " 614: 0.625,\n",
       " 615: 1.0,\n",
       " 616: 1.0,\n",
       " 617: 1.0,\n",
       " 618: 0.875,\n",
       " 619: 1.0,\n",
       " 620: 0.7333333333333333,\n",
       " 621: 0.875,\n",
       " 622: 1.0,\n",
       " 623: 1.0,\n",
       " 624: 1.0,\n",
       " 625: 1.0,\n",
       " 626: 1.0,\n",
       " 627: 0.8888888888888888,\n",
       " 628: 0.8333333333333334,\n",
       " 629: 1.0,\n",
       " 630: 1.0,\n",
       " 631: 1.0,\n",
       " 632: 0.75,\n",
       " 633: 1.0,\n",
       " 634: 1.0,\n",
       " 635: 1.0,\n",
       " 636: 0.8571428571428571,\n",
       " 637: 1.0,\n",
       " 638: 1.0,\n",
       " 639: 0.6666666666666666,\n",
       " 640: 1.0,\n",
       " 641: 1.0,\n",
       " 642: 0.875,\n",
       " 643: 0.9411764705882353,\n",
       " 644: 0.8,\n",
       " 645: 0.8,\n",
       " 646: 0.8571428571428571,\n",
       " 647: 0.8571428571428571,\n",
       " 648: 0.9,\n",
       " 649: 1.0,\n",
       " 650: 1.0,\n",
       " 651: 0.875,\n",
       " 652: 0.9333333333333333,\n",
       " 653: 1.0,\n",
       " 654: 0.8571428571428571,\n",
       " 655: 1.0,\n",
       " 656: 1.0,\n",
       " 657: 0.8571428571428571,\n",
       " 658: 1.0,\n",
       " 659: 1.0,\n",
       " 660: 1.0,\n",
       " 661: 1.0,\n",
       " 662: 0.8571428571428571,\n",
       " 663: 0.8333333333333334,\n",
       " 664: 0.875,\n",
       " 665: 1.0,\n",
       " 666: 0.8333333333333334,\n",
       " 667: 1.0,\n",
       " 668: 1.0,\n",
       " 669: 0.8636363636363636,\n",
       " 670: 1.0,\n",
       " 671: 0.8333333333333334,\n",
       " 672: 0.875,\n",
       " 673: 0.8571428571428571,\n",
       " 674: 0.8571428571428571,\n",
       " 675: 0.7777777777777778,\n",
       " 676: 0.875,\n",
       " 677: 0.7777777777777778,\n",
       " 678: 0.8571428571428571,\n",
       " 679: 0.6666666666666666,\n",
       " 680: 0.8,\n",
       " 681: 0.8888888888888888,\n",
       " 682: 0.9411764705882353,\n",
       " 683: 1.0,\n",
       " 684: 1.0,\n",
       " 685: 0.8571428571428571,\n",
       " 686: 0.8571428571428571,\n",
       " 687: 1.0,\n",
       " 688: 0.9,\n",
       " 689: 0.8,\n",
       " 690: 1.0,\n",
       " 691: 1.0,\n",
       " 692: 0.9,\n",
       " 693: 0.7777777777777778,\n",
       " 694: 0.8571428571428571,\n",
       " 695: 0.8181818181818182,\n",
       " 696: 1.0,\n",
       " 697: 1.0,\n",
       " 698: 0.8571428571428571,\n",
       " 699: 0.7647058823529411,\n",
       " 700: 0.7142857142857143,\n",
       " 701: 0.8,\n",
       " 702: 1.0,\n",
       " 703: 1.0,\n",
       " 704: 0.8571428571428571,\n",
       " 705: 1.0,\n",
       " 706: 0.7777777777777778,\n",
       " 707: 0.8181818181818182,\n",
       " 708: 0.75,\n",
       " 709: 1.0,\n",
       " 710: 0.8666666666666667,\n",
       " 711: 0.8333333333333334,\n",
       " 712: 0.7142857142857143,\n",
       " 713: 0.7777777777777778,\n",
       " 714: 0.75,\n",
       " 715: 1.0,\n",
       " 716: 0.7272727272727273,\n",
       " 717: 1.0,\n",
       " 718: 0.88,\n",
       " 719: 1.0,\n",
       " 720: 0.7272727272727273,\n",
       " 721: 0.8571428571428571,\n",
       " 722: 1.0,\n",
       " 723: 0.875,\n",
       " 724: 1.0,\n",
       " 725: 1.0,\n",
       " 726: 0.8571428571428571,\n",
       " 727: 0.8571428571428571,\n",
       " 728: 1.0,\n",
       " 729: 1.0,\n",
       " 730: 1.0,\n",
       " 731: 0.6666666666666666,\n",
       " 732: 1.0,\n",
       " 733: 0.75,\n",
       " 734: 1.0,\n",
       " 735: 0.8636363636363636,\n",
       " 736: 1.0,\n",
       " 737: 1.0,\n",
       " 738: 1.0,\n",
       " 739: 0.625,\n",
       " 740: 1.0,\n",
       " 741: 1.0,\n",
       " 742: 1.0,\n",
       " 743: 1.0,\n",
       " 744: 0.8888888888888888,\n",
       " 745: 0.8571428571428571,\n",
       " 746: 0.875,\n",
       " 747: 1.0,\n",
       " 748: 1.0,\n",
       " 749: 0.7,\n",
       " 750: 0.85,\n",
       " 751: 1.0,\n",
       " 752: 1.0,\n",
       " 753: 0.875,\n",
       " 754: 0.8,\n",
       " 755: 1.0,\n",
       " 756: 0.9090909090909091,\n",
       " 757: 1.0,\n",
       " 758: 1.0,\n",
       " 759: 0.875,\n",
       " 760: 0.9545454545454546,\n",
       " 761: 1.0,\n",
       " 762: 0.875,\n",
       " 763: 0.8571428571428571,\n",
       " 764: 1.0,\n",
       " 765: 0.7142857142857143,\n",
       " 766: 0.9,\n",
       " 767: 1.0,\n",
       " 768: 0.8571428571428571,\n",
       " 769: 0.8571428571428571,\n",
       " 770: 0.7142857142857143,\n",
       " 771: 0.8666666666666667,\n",
       " 772: 0.875,\n",
       " 773: 0.8461538461538461,\n",
       " 774: 0.875,\n",
       " 775: 1.0,\n",
       " 776: 0.875,\n",
       " 777: 0.8333333333333334,\n",
       " 778: 0.875,\n",
       " 779: 0.8571428571428571,\n",
       " 780: 1.0,\n",
       " 781: 1.0,\n",
       " 782: 0.8571428571428571,\n",
       " 783: 0.8571428571428571,\n",
       " 784: 1.0,\n",
       " 785: 1.0,\n",
       " 786: 0.7777777777777778,\n",
       " 787: 1.0,\n",
       " 788: 0.8571428571428571,\n",
       " 789: 0.8888888888888888,\n",
       " 790: 0.875,\n",
       " 791: 1.0,\n",
       " 792: 0.875,\n",
       " 793: 0.8571428571428571,\n",
       " 794: 0.8,\n",
       " 795: 0.8666666666666667,\n",
       " 796: 1.0,\n",
       " 797: 1.0,\n",
       " 798: 0.8,\n",
       " 799: 0.6666666666666666,\n",
       " 800: 0.8,\n",
       " 801: 1.0,\n",
       " 802: 1.0,\n",
       " 803: 1.0,\n",
       " 804: 0.7647058823529411,\n",
       " 805: 1.0,\n",
       " 806: 1.0,\n",
       " 807: 1.0,\n",
       " 808: 0.8888888888888888,\n",
       " 809: 0.875,\n",
       " 810: 1.0,\n",
       " 811: 1.0,\n",
       " 812: 0.875,\n",
       " 813: 0.8571428571428571,\n",
       " 814: 1.0,\n",
       " 815: 0.875,\n",
       " 816: 0.8571428571428571,\n",
       " 817: 1.0,\n",
       " 818: 0.875,\n",
       " 819: 1.0,\n",
       " 820: 1.0,\n",
       " 821: 1.0,\n",
       " 822: 1.0,\n",
       " 823: 1.0,\n",
       " 824: 1.0,\n",
       " 825: 0.75,\n",
       " 826: 0.8888888888888888,\n",
       " 827: 0.8666666666666667,\n",
       " 828: 1.0,\n",
       " 829: 0.7777777777777778,\n",
       " 830: 1.0,\n",
       " 831: 0.8888888888888888,\n",
       " 832: 0.75,\n",
       " 833: 1.0,\n",
       " 834: 0.8888888888888888,\n",
       " 835: 1.0,\n",
       " 836: 1.0,\n",
       " 837: 0.875,\n",
       " 838: 0.8571428571428571,\n",
       " 839: 0.8333333333333334,\n",
       " 840: 0.8333333333333334,\n",
       " 841: 1.0,\n",
       " 842: 1.0,\n",
       " 843: 0.8571428571428571,\n",
       " 844: 0.9090909090909091,\n",
       " 845: 0.8888888888888888,\n",
       " 846: 0.7333333333333333,\n",
       " 847: 1.0,\n",
       " 848: 0.8888888888888888,\n",
       " 849: 0.65,\n",
       " 850: 1.0,\n",
       " 851: 0.8125,\n",
       " 852: 1.0,\n",
       " 853: 1.0,\n",
       " 854: 0.9411764705882353,\n",
       " 855: 1.0,\n",
       " 856: 0.7647058823529411,\n",
       " 857: 0.8571428571428571,\n",
       " 858: 0.875,\n",
       " 859: 0.6666666666666666,\n",
       " 860: 1.0,\n",
       " 861: 0.8888888888888888,\n",
       " 862: 1.0,\n",
       " 863: 1.0,\n",
       " 864: 0.875,\n",
       " 865: 0.75,\n",
       " 866: 1.0,\n",
       " 867: 0.8571428571428571,\n",
       " 868: 1.0,\n",
       " 869: 1.0,\n",
       " 870: 0.8181818181818182,\n",
       " 871: 1.0,\n",
       " 872: 1.0,\n",
       " 873: 1.0,\n",
       " 874: 0.8571428571428571,\n",
       " 875: 0.8571428571428571,\n",
       " 876: 0.8666666666666667,\n",
       " 877: 1.0,\n",
       " 878: 0.8571428571428571,\n",
       " 879: 0.8571428571428571,\n",
       " 880: 0.8823529411764706,\n",
       " 881: 0.7777777777777778,\n",
       " 882: 0.75,\n",
       " 883: 0.6,\n",
       " 884: 1.0,\n",
       " 885: 0.6666666666666666,\n",
       " 886: 1.0,\n",
       " 887: 1.0,\n",
       " 888: 0.7777777777777778,\n",
       " 889: 0.8571428571428571,\n",
       " 890: 0.75,\n",
       " 891: 1.0,\n",
       " 892: 0.8888888888888888,\n",
       " 893: 1.0,\n",
       " 894: 0.7777777777777778,\n",
       " 895: 1.0,\n",
       " 896: 0.7142857142857143,\n",
       " 897: 0.5555555555555556,\n",
       " 898: 0.8888888888888888,\n",
       " 899: 0.8823529411764706,\n",
       " 900: 1.0,\n",
       " 901: 0.8571428571428571,\n",
       " 902: 0.9411764705882353,\n",
       " 903: 1.0,\n",
       " 904: 0.75,\n",
       " 905: 1.0,\n",
       " 906: 0.8571428571428571,\n",
       " 907: 1.0,\n",
       " 908: 0.8571428571428571,\n",
       " 909: 1.0,\n",
       " 910: 1.0,\n",
       " 911: 1.0,\n",
       " 912: 0.8,\n",
       " 913: 1.0,\n",
       " 914: 1.0,\n",
       " 915: 0.8888888888888888,\n",
       " 916: 0.8,\n",
       " 917: 1.0,\n",
       " 918: 1.0,\n",
       " 919: 1.0,\n",
       " 920: 1.0,\n",
       " 921: 1.0,\n",
       " 922: 0.7777777777777778,\n",
       " 923: 0.9545454545454546,\n",
       " 924: 1.0,\n",
       " 925: 1.0,\n",
       " 926: 1.0,\n",
       " 927: 1.0,\n",
       " 928: 1.0,\n",
       " 929: 0.9375,\n",
       " 930: 1.0,\n",
       " 931: 0.9565217391304348,\n",
       " 932: 0.875,\n",
       " 933: 0.9285714285714286,\n",
       " 934: 1.0,\n",
       " 935: 1.0,\n",
       " 936: 0.875,\n",
       " 937: 1.0,\n",
       " 938: 0.875,\n",
       " 939: 1.0,\n",
       " 940: 1.0,\n",
       " 941: 0.875,\n",
       " 942: 0.8571428571428571,\n",
       " 943: 0.7142857142857143,\n",
       " 944: 0.7142857142857143,\n",
       " 945: 1.0,\n",
       " 946: 0.9090909090909091,\n",
       " 947: 0.7916666666666666,\n",
       " 948: 0.6666666666666666,\n",
       " 949: 1.0,\n",
       " 950: 0.875,\n",
       " 951: 0.8666666666666667,\n",
       " 952: 1.0,\n",
       " 953: 0.9090909090909091,\n",
       " 954: 0.875,\n",
       " 955: 0.875,\n",
       " 956: 0.7777777777777778,\n",
       " 957: 1.0,\n",
       " 958: 0.8571428571428571,\n",
       " 959: 0.8571428571428571,\n",
       " 960: 0.9090909090909091,\n",
       " 961: 1.0,\n",
       " 962: 1.0,\n",
       " 963: 0.8823529411764706,\n",
       " 964: 1.0,\n",
       " 965: 0.875,\n",
       " 966: 0.7777777777777778,\n",
       " 967: 0.75,\n",
       " 968: 1.0,\n",
       " 969: 1.0,\n",
       " 970: 0.8636363636363636,\n",
       " 971: 0.875,\n",
       " 972: 0.9090909090909091,\n",
       " 973: 0.875,\n",
       " 974: 1.0,\n",
       " 975: 1.0,\n",
       " 976: 0.7142857142857143,\n",
       " 977: 1.0,\n",
       " 978: 1.0,\n",
       " 979: 0.7142857142857143,\n",
       " 980: 0.6875,\n",
       " 981: 0.75,\n",
       " 982: 1.0,\n",
       " 983: 0.7,\n",
       " 984: 1.0,\n",
       " 985: 1.0,\n",
       " 986: 0.7777777777777778,\n",
       " 987: 1.0,\n",
       " 988: 0.75,\n",
       " 989: 1.0,\n",
       " 990: 1.0,\n",
       " 991: 0.8888888888888888,\n",
       " 992: 1.0,\n",
       " 993: 0.8333333333333334,\n",
       " 994: 0.8823529411764706,\n",
       " 995: 1.0,\n",
       " 996: 0.8571428571428571,\n",
       " 997: 1.0,\n",
       " 998: 1.0,\n",
       " 999: 0.9375,\n",
       " ...}"
      ]
     },
     "execution_count": 33,
     "metadata": {},
     "output_type": "execute_result"
    }
   ],
   "source": [
    "sig_percent = {i:sig_conversation_length_dict[i]/conversation_length[i] for i in prep_df.user_id.unique()}\n",
    "sig_percent"
   ]
  },
  {
   "cell_type": "code",
   "execution_count": 34,
   "metadata": {},
   "outputs": [],
   "source": [
    "df['sig_percent'] = prep_df.user_id.apply(lambda x:sig_percent[x])"
   ]
  },
  {
   "cell_type": "code",
   "execution_count": 39,
   "metadata": {},
   "outputs": [
    {
     "data": {
      "text/plain": [
       "<Axes: >"
      ]
     },
     "execution_count": 39,
     "metadata": {},
     "output_type": "execute_result"
    },
    {
     "data": {
      "image/png": "[encoded data removed]",
      "text/plain": [
       "<Figure size 864x576 with 1 Axes>"
      ]
     },
     "metadata": {
      "needs_background": "light"
     },
     "output_type": "display_data"
    }
   ],
   "source": [
    "pd.Series(sig_percent).hist(bins=10, figsize=(12,8))"
   ]
  },
  {
   "cell_type": "markdown",
   "metadata": {},
   "source": [
    "## Precision, P@K 생성"
   ]
  },
  {
   "cell_type": "code",
   "execution_count": 17,
   "metadata": {},
   "outputs": [],
   "source": [
    "df['deny'] = df.sentiment_star.apply(deny)"
   ]
  },
  {
   "cell_type": "code",
   "execution_count": 7,
   "metadata": {},
   "outputs": [
    {
     "data": {
      "text/plain": [
       "Index(['Unnamed: 0', 'user_id', 'user_profile_age_range', 'user_profile_name',\n",
       "       'user_profile_residence', 'user_profile_accepted_food',\n",
       "       'user_profile_accepted_movies', 'user_profile_accepted_music',\n",
       "       'user_profile_rejected_music', 'user_profile_gender',\n",
       "       'user_profile_accepted_celebrities', 'user_profile_accepted_movie',\n",
       "       'user_profile_reject', 'user_profile_rejected_movies',\n",
       "       'user_profile_occupation', 'user_profile_accepted_music.1',\n",
       "       'user_profile_accepted_poi', 'user_profile_favorite_news',\n",
       "       'user_profile_accepted_news', 'user_profile_poi', 'time', 'place',\n",
       "       'date', 'topic', 'wday', 'sentence_index', 'sentence', 'goal_topic',\n",
       "       'goal_type', 'knowledge', 'recdial', 'sentiment_star',\n",
       "       'sentiment_score', 'is_bot_talk_first', 'is_user'],\n",
       "      dtype='object')"
      ]
     },
     "execution_count": 7,
     "metadata": {},
     "output_type": "execute_result"
    }
   ],
   "source": [
    "df.columns"
   ]
  },
  {
   "cell_type": "code",
   "execution_count": 24,
   "metadata": {},
   "outputs": [],
   "source": [
    "# 추천 대화가 0건인 경우 제외\n",
    "rec_list = []\n",
    "for i in df.user_id.unique():\n",
    "    if df[(df.recdial) & (df.user_id == i) & (df.is_user)].shape[0]:\n",
    "        rec_list.append(i)"
   ]
  },
  {
   "cell_type": "code",
   "execution_count": 57,
   "metadata": {},
   "outputs": [],
   "source": [
    "def precision(df, uid):\n",
    "    tdf = df.copy()\n",
    "    tdf = tdf[tdf.user_id == uid]\n",
    "    prec = 1 - sum(tdf.deny) / tdf.shape[0]\n",
    "    return prec"
   ]
  },
  {
   "cell_type": "code",
   "execution_count": 59,
   "metadata": {},
   "outputs": [],
   "source": [
    "tdf = df[['user_id', 'recdial', 'sentence', 'recdial', 'sentiment_star', 'is_user', 'deny']].copy()\n",
    "tdf = tdf[(df.recdial == 1) & (df.is_user)]\n",
    "\n",
    "precisions = {i:precision(tdf, i) for i in rec_list}"
   ]
  },
  {
   "cell_type": "code",
   "execution_count": 65,
   "metadata": {},
   "outputs": [
    {
     "data": {
      "text/plain": [
       "0.7468704862782831"
      ]
     },
     "execution_count": 65,
     "metadata": {},
     "output_type": "execute_result"
    }
   ],
   "source": [
    "# mean precision\n",
    "sum(precisions.values())/len(rec_list)"
   ]
  },
  {
   "cell_type": "code",
   "execution_count": 67,
   "metadata": {},
   "outputs": [
    {
     "data": {
      "text/plain": [
       "<Axes: >"
      ]
     },
     "execution_count": 67,
     "metadata": {},
     "output_type": "execute_result"
    },
    {
     "data": {
      "image/png": "[encoded data removed]",
      "text/plain": [
       "<Figure size 864x576 with 1 Axes>"
      ]
     },
     "metadata": {
      "needs_background": "light"
     },
     "output_type": "display_data"
    }
   ],
   "source": [
    "# precision hist\n",
    "pd.Series(precisions).hist(bins=10, figsize=(12,8))"
   ]
  },
  {
   "cell_type": "code",
   "execution_count": 87,
   "metadata": {},
   "outputs": [
    {
     "data": {
      "application/vnd.plotly.v1+json": {
       "config": {
        "plotlyServerURL": "https://plot.ly"
       },
       "data": [
        {
         "alignmentgroup": "True",
         "hovertemplate": "index=%{x}<br>count=%{y}<extra></extra>",
         "legendgroup": "",
         "marker": {
          "color": "#636efa",
          "pattern": {
           "shape": ""
          }
         },
         "name": "",
         "offsetgroup": "",
         "orientation": "v",
         "showlegend": false,
         "textposition": "auto",
         "type": "bar",
         "x": [
          1,
          0.5,
          0.6666666666666667,
          0.33333333333333337,
          0.75,
          0.8333333333333334,
          0.25,
          0,
          0.8,
          0.6,
          0.7142857142857143,
          0.5714285714285714,
          0.4,
          0.8571428571428572,
          0.2857142857142857,
          0.19999999999999996,
          0.16666666666666663,
          0.4285714285714286
         ],
         "xaxis": "x",
         "y": [
          1753,
          1147,
          642,
          193,
          152,
          147,
          32,
          29,
          24,
          19,
          4,
          3,
          3,
          2,
          1,
          1,
          1,
          1
         ],
         "yaxis": "y"
        }
       ],
       "layout": {
        "barmode": "relative",
        "legend": {
         "tracegroupgap": 0
        },
        "margin": {
         "t": 60
        },
        "template": {
         "data": {
          "bar": [
           {
            "error_x": {
             "color": "#2a3f5f"
            },
            "error_y": {
             "color": "#2a3f5f"
            },
            "marker": {
             "line": {
              "color": "#E5ECF6",
              "width": 0.5
             },
             "pattern": {
              "fillmode": "overlay",
              "size": 10,
              "solidity": 0.2
             }
            },
            "type": "bar"
           }
          ],
          "barpolar": [
           {
            "marker": {
             "line": {
              "color": "#E5ECF6",
              "width": 0.5
             },
             "pattern": {
              "fillmode": "overlay",
              "size": 10,
              "solidity": 0.2
             }
            },
            "type": "barpolar"
           }
          ],
          "carpet": [
           {
            "aaxis": {
             "endlinecolor": "#2a3f5f",
             "gridcolor": "white",
             "linecolor": "white",
             "minorgridcolor": "white",
             "startlinecolor": "#2a3f5f"
            },
            "baxis": {
             "endlinecolor": "#2a3f5f",
             "gridcolor": "white",
             "linecolor": "white",
             "minorgridcolor": "white",
             "startlinecolor": "#2a3f5f"
            },
            "type": "carpet"
           }
          ],
          "choropleth": [
           {
            "colorbar": {
             "outlinewidth": 0,
             "ticks": ""
            },
            "type": "choropleth"
           }
          ],
          "contour": [
           {
            "colorbar": {
             "outlinewidth": 0,
             "ticks": ""
            },
            "colorscale": [
             [
              0,
              "#0d0887"
             ],
             [
              0.1111111111111111,
              "#46039f"
             ],
             [
              0.2222222222222222,
              "#7201a8"
             ],
             [
              0.3333333333333333,
              "#9c179e"
             ],
             [
              0.4444444444444444,
              "#bd3786"
             ],
             [
              0.5555555555555556,
              "#d8576b"
             ],
             [
              0.6666666666666666,
              "#ed7953"
             ],
             [
              0.7777777777777778,
              "#fb9f3a"
             ],
             [
              0.8888888888888888,
              "#fdca26"
             ],
             [
              1,
              "#f0f921"
             ]
            ],
            "type": "contour"
           }
          ],
          "contourcarpet": [
           {
            "colorbar": {
             "outlinewidth": 0,
             "ticks": ""
            },
            "type": "contourcarpet"
           }
          ],
          "heatmap": [
           {
            "colorbar": {
             "outlinewidth": 0,
             "ticks": ""
            },
            "colorscale": [
             [
              0,
              "#0d0887"
             ],
             [
              0.1111111111111111,
              "#46039f"
             ],
             [
              0.2222222222222222,
              "#7201a8"
             ],
             [
              0.3333333333333333,
              "#9c179e"
             ],
             [
              0.4444444444444444,
              "#bd3786"
             ],
             [
              0.5555555555555556,
              "#d8576b"
             ],
             [
              0.6666666666666666,
              "#ed7953"
             ],
             [
              0.7777777777777778,
              "#fb9f3a"
             ],
             [
              0.8888888888888888,
              "#fdca26"
             ],
             [
              1,
              "#f0f921"
             ]
            ],
            "type": "heatmap"
           }
          ],
          "heatmapgl": [
           {
            "colorbar": {
             "outlinewidth": 0,
             "ticks": ""
            },
            "colorscale": [
             [
              0,
              "#0d0887"
             ],
             [
              0.1111111111111111,
              "#46039f"
             ],
             [
              0.2222222222222222,
              "#7201a8"
             ],
             [
              0.3333333333333333,
              "#9c179e"
             ],
             [
              0.4444444444444444,
              "#bd3786"
             ],
             [
              0.5555555555555556,
              "#d8576b"
             ],
             [
              0.6666666666666666,
              "#ed7953"
             ],
             [
              0.7777777777777778,
              "#fb9f3a"
             ],
             [
              0.8888888888888888,
              "#fdca26"
             ],
             [
              1,
              "#f0f921"
             ]
            ],
            "type": "heatmapgl"
           }
          ],
          "histogram": [
           {
            "marker": {
             "pattern": {
              "fillmode": "overlay",
              "size": 10,
              "solidity": 0.2
             }
            },
            "type": "histogram"
           }
          ],
          "histogram2d": [
           {
            "colorbar": {
             "outlinewidth": 0,
             "ticks": ""
            },
            "colorscale": [
             [
              0,
              "#0d0887"
             ],
             [
              0.1111111111111111,
              "#46039f"
             ],
             [
              0.2222222222222222,
              "#7201a8"
             ],
             [
              0.3333333333333333,
              "#9c179e"
             ],
             [
              0.4444444444444444,
              "#bd3786"
             ],
             [
              0.5555555555555556,
              "#d8576b"
             ],
             [
              0.6666666666666666,
              "#ed7953"
             ],
             [
              0.7777777777777778,
              "#fb9f3a"
             ],
             [
              0.8888888888888888,
              "#fdca26"
             ],
             [
              1,
              "#f0f921"
             ]
            ],
            "type": "histogram2d"
           }
          ],
          "histogram2dcontour": [
           {
            "colorbar": {
             "outlinewidth": 0,
             "ticks": ""
            },
            "colorscale": [
             [
              0,
              "#0d0887"
             ],
             [
              0.1111111111111111,
              "#46039f"
             ],
             [
              0.2222222222222222,
              "#7201a8"
             ],
             [
              0.3333333333333333,
              "#9c179e"
             ],
             [
              0.4444444444444444,
              "#bd3786"
             ],
             [
              0.5555555555555556,
              "#d8576b"
             ],
             [
              0.6666666666666666,
              "#ed7953"
             ],
             [
              0.7777777777777778,
              "#fb9f3a"
             ],
             [
              0.8888888888888888,
              "#fdca26"
             ],
             [
              1,
              "#f0f921"
             ]
            ],
            "type": "histogram2dcontour"
           }
          ],
          "mesh3d": [
           {
            "colorbar": {
             "outlinewidth": 0,
             "ticks": ""
            },
            "type": "mesh3d"
           }
          ],
          "parcoords": [
           {
            "line": {
             "colorbar": {
              "outlinewidth": 0,
              "ticks": ""
             }
            },
            "type": "parcoords"
           }
          ],
          "pie": [
           {
            "automargin": true,
            "type": "pie"
           }
          ],
          "scatter": [
           {
            "fillpattern": {
             "fillmode": "overlay",
             "size": 10,
             "solidity": 0.2
            },
            "type": "scatter"
           }
          ],
          "scatter3d": [
           {
            "line": {
             "colorbar": {
              "outlinewidth": 0,
              "ticks": ""
             }
            },
            "marker": {
             "colorbar": {
              "outlinewidth": 0,
              "ticks": ""
             }
            },
            "type": "scatter3d"
           }
          ],
          "scattercarpet": [
           {
            "marker": {
             "colorbar": {
              "outlinewidth": 0,
              "ticks": ""
             }
            },
            "type": "scattercarpet"
           }
          ],
          "scattergeo": [
           {
            "marker": {
             "colorbar": {
              "outlinewidth": 0,
              "ticks": ""
             }
            },
            "type": "scattergeo"
           }
          ],
          "scattergl": [
           {
            "marker": {
             "colorbar": {
              "outlinewidth": 0,
              "ticks": ""
             }
            },
            "type": "scattergl"
           }
          ],
          "scattermapbox": [
           {
            "marker": {
             "colorbar": {
              "outlinewidth": 0,
              "ticks": ""
             }
            },
            "type": "scattermapbox"
           }
          ],
          "scatterpolar": [
           {
            "marker": {
             "colorbar": {
              "outlinewidth": 0,
              "ticks": ""
             }
            },
            "type": "scatterpolar"
           }
          ],
          "scatterpolargl": [
           {
            "marker": {
             "colorbar": {
              "outlinewidth": 0,
              "ticks": ""
             }
            },
            "type": "scatterpolargl"
           }
          ],
          "scatterternary": [
           {
            "marker": {
             "colorbar": {
              "outlinewidth": 0,
              "ticks": ""
             }
            },
            "type": "scatterternary"
           }
          ],
          "surface": [
           {
            "colorbar": {
             "outlinewidth": 0,
             "ticks": ""
            },
            "colorscale": [
             [
              0,
              "#0d0887"
             ],
             [
              0.1111111111111111,
              "#46039f"
             ],
             [
              0.2222222222222222,
              "#7201a8"
             ],
             [
              0.3333333333333333,
              "#9c179e"
             ],
             [
              0.4444444444444444,
              "#bd3786"
             ],
             [
              0.5555555555555556,
              "#d8576b"
             ],
             [
              0.6666666666666666,
              "#ed7953"
             ],
             [
              0.7777777777777778,
              "#fb9f3a"
             ],
             [
              0.8888888888888888,
              "#fdca26"
             ],
             [
              1,
              "#f0f921"
             ]
            ],
            "type": "surface"
           }
          ],
          "table": [
           {
            "cells": {
             "fill": {
              "color": "#EBF0F8"
             },
             "line": {
              "color": "white"
             }
            },
            "header": {
             "fill": {
              "color": "#C8D4E3"
             },
             "line": {
              "color": "white"
             }
            },
            "type": "table"
           }
          ]
         },
         "layout": {
          "annotationdefaults": {
           "arrowcolor": "#2a3f5f",
           "arrowhead": 0,
           "arrowwidth": 1
          },
          "autotypenumbers": "strict",
          "coloraxis": {
           "colorbar": {
            "outlinewidth": 0,
            "ticks": ""
           }
          },
          "colorscale": {
           "diverging": [
            [
             0,
             "#8e0152"
            ],
            [
             0.1,
             "#c51b7d"
            ],
            [
             0.2,
             "#de77ae"
            ],
            [
             0.3,
             "#f1b6da"
            ],
            [
             0.4,
             "#fde0ef"
            ],
            [
             0.5,
             "#f7f7f7"
            ],
            [
             0.6,
             "#e6f5d0"
            ],
            [
             0.7,
             "#b8e186"
            ],
            [
             0.8,
             "#7fbc41"
            ],
            [
             0.9,
             "#4d9221"
            ],
            [
             1,
             "#276419"
            ]
           ],
           "sequential": [
            [
             0,
             "#0d0887"
            ],
            [
             0.1111111111111111,
             "#46039f"
            ],
            [
             0.2222222222222222,
             "#7201a8"
            ],
            [
             0.3333333333333333,
             "#9c179e"
            ],
            [
             0.4444444444444444,
             "#bd3786"
            ],
            [
             0.5555555555555556,
             "#d8576b"
            ],
            [
             0.6666666666666666,
             "#ed7953"
            ],
            [
             0.7777777777777778,
             "#fb9f3a"
            ],
            [
             0.8888888888888888,
             "#fdca26"
            ],
            [
             1,
             "#f0f921"
            ]
           ],
           "sequentialminus": [
            [
             0,
             "#0d0887"
            ],
            [
             0.1111111111111111,
             "#46039f"
            ],
            [
             0.2222222222222222,
             "#7201a8"
            ],
            [
             0.3333333333333333,
             "#9c179e"
            ],
            [
             0.4444444444444444,
             "#bd3786"
            ],
            [
             0.5555555555555556,
             "#d8576b"
            ],
            [
             0.6666666666666666,
             "#ed7953"
            ],
            [
             0.7777777777777778,
             "#fb9f3a"
            ],
            [
             0.8888888888888888,
             "#fdca26"
            ],
            [
             1,
             "#f0f921"
            ]
           ]
          },
          "colorway": [
           "#636efa",
           "#EF553B",
           "#00cc96",
           "#ab63fa",
           "#FFA15A",
           "#19d3f3",
           "#FF6692",
           "#B6E880",
           "#FF97FF",
           "#FECB52"
          ],
          "font": {
           "color": "#2a3f5f"
          },
          "geo": {
           "bgcolor": "white",
           "lakecolor": "white",
           "landcolor": "#E5ECF6",
           "showlakes": true,
           "showland": true,
           "subunitcolor": "white"
          },
          "hoverlabel": {
           "align": "left"
          },
          "hovermode": "closest",
          "mapbox": {
           "style": "light"
          },
          "paper_bgcolor": "white",
          "plot_bgcolor": "#E5ECF6",
          "polar": {
           "angularaxis": {
            "gridcolor": "white",
            "linecolor": "white",
            "ticks": ""
           },
           "bgcolor": "#E5ECF6",
           "radialaxis": {
            "gridcolor": "white",
            "linecolor": "white",
            "ticks": ""
           }
          },
          "scene": {
           "xaxis": {
            "backgroundcolor": "#E5ECF6",
            "gridcolor": "white",
            "gridwidth": 2,
            "linecolor": "white",
            "showbackground": true,
            "ticks": "",
            "zerolinecolor": "white"
           },
           "yaxis": {
            "backgroundcolor": "#E5ECF6",
            "gridcolor": "white",
            "gridwidth": 2,
            "linecolor": "white",
            "showbackground": true,
            "ticks": "",
            "zerolinecolor": "white"
           },
           "zaxis": {
            "backgroundcolor": "#E5ECF6",
            "gridcolor": "white",
            "gridwidth": 2,
            "linecolor": "white",
            "showbackground": true,
            "ticks": "",
            "zerolinecolor": "white"
           }
          },
          "shapedefaults": {
           "line": {
            "color": "#2a3f5f"
           }
          },
          "ternary": {
           "aaxis": {
            "gridcolor": "white",
            "linecolor": "white",
            "ticks": ""
           },
           "baxis": {
            "gridcolor": "white",
            "linecolor": "white",
            "ticks": ""
           },
           "bgcolor": "#E5ECF6",
           "caxis": {
            "gridcolor": "white",
            "linecolor": "white",
            "ticks": ""
           }
          },
          "title": {
           "x": 0.05
          },
          "xaxis": {
           "automargin": true,
           "gridcolor": "white",
           "linecolor": "white",
           "ticks": "",
           "title": {
            "standoff": 15
           },
           "zerolinecolor": "white",
           "zerolinewidth": 2
          },
          "yaxis": {
           "automargin": true,
           "gridcolor": "white",
           "linecolor": "white",
           "ticks": "",
           "title": {
            "standoff": 15
           },
           "zerolinecolor": "white",
           "zerolinewidth": 2
          }
         }
        },
        "xaxis": {
         "anchor": "y",
         "domain": [
          0,
          1
         ],
         "title": {
          "text": "index"
         }
        },
        "yaxis": {
         "anchor": "x",
         "domain": [
          0,
          1
         ],
         "title": {
          "text": "count"
         }
        }
       }
      },
      "text/html": [
       "<div>                            <div id=\"e639827b-a8d3-4b85-8069-5cd4770a1929\" class=\"plotly-graph-div\" style=\"height:525px; width:100%;\"></div>            <script type=\"text/javascript\">                require([\"plotly\"], function(Plotly) {                    window.PLOTLYENV=window.PLOTLYENV || {};                                    if (document.getElementById(\"e639827b-a8d3-4b85-8069-5cd4770a1929\")) {                    Plotly.newPlot(                        \"e639827b-a8d3-4b85-8069-5cd4770a1929\",                        [{\"alignmentgroup\":\"True\",\"hovertemplate\":\"index=%{x}\\u003cbr\\u003ecount=%{y}\\u003cextra\\u003e\\u003c\\u002fextra\\u003e\",\"legendgroup\":\"\",\"marker\":{\"color\":\"#636efa\",\"pattern\":{\"shape\":\"\"}},\"name\":\"\",\"offsetgroup\":\"\",\"orientation\":\"v\",\"showlegend\":false,\"textposition\":\"auto\",\"x\":[1.0,0.5,0.6666666666666667,0.33333333333333337,0.75,0.8333333333333334,0.25,0.0,0.8,0.6,0.7142857142857143,0.5714285714285714,0.4,0.8571428571428572,0.2857142857142857,0.19999999999999996,0.16666666666666663,0.4285714285714286],\"xaxis\":\"x\",\"y\":[1753,1147,642,193,152,147,32,29,24,19,4,3,3,2,1,1,1,1],\"yaxis\":\"y\",\"type\":\"bar\"}],                        {\"template\":{\"data\":{\"histogram2dcontour\":[{\"type\":\"histogram2dcontour\",\"colorbar\":{\"outlinewidth\":0,\"ticks\":\"\"},\"colorscale\":[[0.0,\"#0d0887\"],[0.1111111111111111,\"#46039f\"],[0.2222222222222222,\"#7201a8\"],[0.3333333333333333,\"#9c179e\"],[0.4444444444444444,\"#bd3786\"],[0.5555555555555556,\"#d8576b\"],[0.6666666666666666,\"#ed7953\"],[0.7777777777777778,\"#fb9f3a\"],[0.8888888888888888,\"#fdca26\"],[1.0,\"#f0f921\"]]}],\"choropleth\":[{\"type\":\"choropleth\",\"colorbar\":{\"outlinewidth\":0,\"ticks\":\"\"}}],\"histogram2d\":[{\"type\":\"histogram2d\",\"colorbar\":{\"outlinewidth\":0,\"ticks\":\"\"},\"colorscale\":[[0.0,\"#0d0887\"],[0.1111111111111111,\"#46039f\"],[0.2222222222222222,\"#7201a8\"],[0.3333333333333333,\"#9c179e\"],[0.4444444444444444,\"#bd3786\"],[0.5555555555555556,\"#d8576b\"],[0.6666666666666666,\"#ed7953\"],[0.7777777777777778,\"#fb9f3a\"],[0.8888888888888888,\"#fdca26\"],[1.0,\"#f0f921\"]]}],\"heatmap\":[{\"type\":\"heatmap\",\"colorbar\":{\"outlinewidth\":0,\"ticks\":\"\"},\"colorscale\":[[0.0,\"#0d0887\"],[0.1111111111111111,\"#46039f\"],[0.2222222222222222,\"#7201a8\"],[0.3333333333333333,\"#9c179e\"],[0.4444444444444444,\"#bd3786\"],[0.5555555555555556,\"#d8576b\"],[0.6666666666666666,\"#ed7953\"],[0.7777777777777778,\"#fb9f3a\"],[0.8888888888888888,\"#fdca26\"],[1.0,\"#f0f921\"]]}],\"heatmapgl\":[{\"type\":\"heatmapgl\",\"colorbar\":{\"outlinewidth\":0,\"ticks\":\"\"},\"colorscale\":[[0.0,\"#0d0887\"],[0.1111111111111111,\"#46039f\"],[0.2222222222222222,\"#7201a8\"],[0.3333333333333333,\"#9c179e\"],[0.4444444444444444,\"#bd3786\"],[0.5555555555555556,\"#d8576b\"],[0.6666666666666666,\"#ed7953\"],[0.7777777777777778,\"#fb9f3a\"],[0.8888888888888888,\"#fdca26\"],[1.0,\"#f0f921\"]]}],\"contourcarpet\":[{\"type\":\"contourcarpet\",\"colorbar\":{\"outlinewidth\":0,\"ticks\":\"\"}}],\"contour\":[{\"type\":\"contour\",\"colorbar\":{\"outlinewidth\":0,\"ticks\":\"\"},\"colorscale\":[[0.0,\"#0d0887\"],[0.1111111111111111,\"#46039f\"],[0.2222222222222222,\"#7201a8\"],[0.3333333333333333,\"#9c179e\"],[0.4444444444444444,\"#bd3786\"],[0.5555555555555556,\"#d8576b\"],[0.6666666666666666,\"#ed7953\"],[0.7777777777777778,\"#fb9f3a\"],[0.8888888888888888,\"#fdca26\"],[1.0,\"#f0f921\"]]}],\"surface\":[{\"type\":\"surface\",\"colorbar\":{\"outlinewidth\":0,\"ticks\":\"\"},\"colorscale\":[[0.0,\"#0d0887\"],[0.1111111111111111,\"#46039f\"],[0.2222222222222222,\"#7201a8\"],[0.3333333333333333,\"#9c179e\"],[0.4444444444444444,\"#bd3786\"],[0.5555555555555556,\"#d8576b\"],[0.6666666666666666,\"#ed7953\"],[0.7777777777777778,\"#fb9f3a\"],[0.8888888888888888,\"#fdca26\"],[1.0,\"#f0f921\"]]}],\"mesh3d\":[{\"type\":\"mesh3d\",\"colorbar\":{\"outlinewidth\":0,\"ticks\":\"\"}}],\"scatter\":[{\"fillpattern\":{\"fillmode\":\"overlay\",\"size\":10,\"solidity\":0.2},\"type\":\"scatter\"}],\"parcoords\":[{\"type\":\"parcoords\",\"line\":{\"colorbar\":{\"outlinewidth\":0,\"ticks\":\"\"}}}],\"scatterpolargl\":[{\"type\":\"scatterpolargl\",\"marker\":{\"colorbar\":{\"outlinewidth\":0,\"ticks\":\"\"}}}],\"bar\":[{\"error_x\":{\"color\":\"#2a3f5f\"},\"error_y\":{\"color\":\"#2a3f5f\"},\"marker\":{\"line\":{\"color\":\"#E5ECF6\",\"width\":0.5},\"pattern\":{\"fillmode\":\"overlay\",\"size\":10,\"solidity\":0.2}},\"type\":\"bar\"}],\"scattergeo\":[{\"type\":\"scattergeo\",\"marker\":{\"colorbar\":{\"outlinewidth\":0,\"ticks\":\"\"}}}],\"scatterpolar\":[{\"type\":\"scatterpolar\",\"marker\":{\"colorbar\":{\"outlinewidth\":0,\"ticks\":\"\"}}}],\"histogram\":[{\"marker\":{\"pattern\":{\"fillmode\":\"overlay\",\"size\":10,\"solidity\":0.2}},\"type\":\"histogram\"}],\"scattergl\":[{\"type\":\"scattergl\",\"marker\":{\"colorbar\":{\"outlinewidth\":0,\"ticks\":\"\"}}}],\"scatter3d\":[{\"type\":\"scatter3d\",\"line\":{\"colorbar\":{\"outlinewidth\":0,\"ticks\":\"\"}},\"marker\":{\"colorbar\":{\"outlinewidth\":0,\"ticks\":\"\"}}}],\"scattermapbox\":[{\"type\":\"scattermapbox\",\"marker\":{\"colorbar\":{\"outlinewidth\":0,\"ticks\":\"\"}}}],\"scatterternary\":[{\"type\":\"scatterternary\",\"marker\":{\"colorbar\":{\"outlinewidth\":0,\"ticks\":\"\"}}}],\"scattercarpet\":[{\"type\":\"scattercarpet\",\"marker\":{\"colorbar\":{\"outlinewidth\":0,\"ticks\":\"\"}}}],\"carpet\":[{\"aaxis\":{\"endlinecolor\":\"#2a3f5f\",\"gridcolor\":\"white\",\"linecolor\":\"white\",\"minorgridcolor\":\"white\",\"startlinecolor\":\"#2a3f5f\"},\"baxis\":{\"endlinecolor\":\"#2a3f5f\",\"gridcolor\":\"white\",\"linecolor\":\"white\",\"minorgridcolor\":\"white\",\"startlinecolor\":\"#2a3f5f\"},\"type\":\"carpet\"}],\"table\":[{\"cells\":{\"fill\":{\"color\":\"#EBF0F8\"},\"line\":{\"color\":\"white\"}},\"header\":{\"fill\":{\"color\":\"#C8D4E3\"},\"line\":{\"color\":\"white\"}},\"type\":\"table\"}],\"barpolar\":[{\"marker\":{\"line\":{\"color\":\"#E5ECF6\",\"width\":0.5},\"pattern\":{\"fillmode\":\"overlay\",\"size\":10,\"solidity\":0.2}},\"type\":\"barpolar\"}],\"pie\":[{\"automargin\":true,\"type\":\"pie\"}]},\"layout\":{\"autotypenumbers\":\"strict\",\"colorway\":[\"#636efa\",\"#EF553B\",\"#00cc96\",\"#ab63fa\",\"#FFA15A\",\"#19d3f3\",\"#FF6692\",\"#B6E880\",\"#FF97FF\",\"#FECB52\"],\"font\":{\"color\":\"#2a3f5f\"},\"hovermode\":\"closest\",\"hoverlabel\":{\"align\":\"left\"},\"paper_bgcolor\":\"white\",\"plot_bgcolor\":\"#E5ECF6\",\"polar\":{\"bgcolor\":\"#E5ECF6\",\"angularaxis\":{\"gridcolor\":\"white\",\"linecolor\":\"white\",\"ticks\":\"\"},\"radialaxis\":{\"gridcolor\":\"white\",\"linecolor\":\"white\",\"ticks\":\"\"}},\"ternary\":{\"bgcolor\":\"#E5ECF6\",\"aaxis\":{\"gridcolor\":\"white\",\"linecolor\":\"white\",\"ticks\":\"\"},\"baxis\":{\"gridcolor\":\"white\",\"linecolor\":\"white\",\"ticks\":\"\"},\"caxis\":{\"gridcolor\":\"white\",\"linecolor\":\"white\",\"ticks\":\"\"}},\"coloraxis\":{\"colorbar\":{\"outlinewidth\":0,\"ticks\":\"\"}},\"colorscale\":{\"sequential\":[[0.0,\"#0d0887\"],[0.1111111111111111,\"#46039f\"],[0.2222222222222222,\"#7201a8\"],[0.3333333333333333,\"#9c179e\"],[0.4444444444444444,\"#bd3786\"],[0.5555555555555556,\"#d8576b\"],[0.6666666666666666,\"#ed7953\"],[0.7777777777777778,\"#fb9f3a\"],[0.8888888888888888,\"#fdca26\"],[1.0,\"#f0f921\"]],\"sequentialminus\":[[0.0,\"#0d0887\"],[0.1111111111111111,\"#46039f\"],[0.2222222222222222,\"#7201a8\"],[0.3333333333333333,\"#9c179e\"],[0.4444444444444444,\"#bd3786\"],[0.5555555555555556,\"#d8576b\"],[0.6666666666666666,\"#ed7953\"],[0.7777777777777778,\"#fb9f3a\"],[0.8888888888888888,\"#fdca26\"],[1.0,\"#f0f921\"]],\"diverging\":[[0,\"#8e0152\"],[0.1,\"#c51b7d\"],[0.2,\"#de77ae\"],[0.3,\"#f1b6da\"],[0.4,\"#fde0ef\"],[0.5,\"#f7f7f7\"],[0.6,\"#e6f5d0\"],[0.7,\"#b8e186\"],[0.8,\"#7fbc41\"],[0.9,\"#4d9221\"],[1,\"#276419\"]]},\"xaxis\":{\"gridcolor\":\"white\",\"linecolor\":\"white\",\"ticks\":\"\",\"title\":{\"standoff\":15},\"zerolinecolor\":\"white\",\"automargin\":true,\"zerolinewidth\":2},\"yaxis\":{\"gridcolor\":\"white\",\"linecolor\":\"white\",\"ticks\":\"\",\"title\":{\"standoff\":15},\"zerolinecolor\":\"white\",\"automargin\":true,\"zerolinewidth\":2},\"scene\":{\"xaxis\":{\"backgroundcolor\":\"#E5ECF6\",\"gridcolor\":\"white\",\"linecolor\":\"white\",\"showbackground\":true,\"ticks\":\"\",\"zerolinecolor\":\"white\",\"gridwidth\":2},\"yaxis\":{\"backgroundcolor\":\"#E5ECF6\",\"gridcolor\":\"white\",\"linecolor\":\"white\",\"showbackground\":true,\"ticks\":\"\",\"zerolinecolor\":\"white\",\"gridwidth\":2},\"zaxis\":{\"backgroundcolor\":\"#E5ECF6\",\"gridcolor\":\"white\",\"linecolor\":\"white\",\"showbackground\":true,\"ticks\":\"\",\"zerolinecolor\":\"white\",\"gridwidth\":2}},\"shapedefaults\":{\"line\":{\"color\":\"#2a3f5f\"}},\"annotationdefaults\":{\"arrowcolor\":\"#2a3f5f\",\"arrowhead\":0,\"arrowwidth\":1},\"geo\":{\"bgcolor\":\"white\",\"landcolor\":\"#E5ECF6\",\"subunitcolor\":\"white\",\"showland\":true,\"showlakes\":true,\"lakecolor\":\"white\"},\"title\":{\"x\":0.05},\"mapbox\":{\"style\":\"light\"}}},\"xaxis\":{\"anchor\":\"y\",\"domain\":[0.0,1.0],\"title\":{\"text\":\"index\"}},\"yaxis\":{\"anchor\":\"x\",\"domain\":[0.0,1.0],\"title\":{\"text\":\"count\"}},\"legend\":{\"tracegroupgap\":0},\"margin\":{\"t\":60},\"barmode\":\"relative\"},                        {\"responsive\": true}                    ).then(function(){\n",
       "                            \n",
       "var gd = document.getElementById('e639827b-a8d3-4b85-8069-5cd4770a1929');\n",
       "var x = new MutationObserver(function (mutations, observer) {{\n",
       "        var display = window.getComputedStyle(gd).display;\n",
       "        if (!display || display === 'none') {{\n",
       "            console.log([gd, 'removed!']);\n",
       "            Plotly.purge(gd);\n",
       "            observer.disconnect();\n",
       "        }}\n",
       "}});\n",
       "\n",
       "// Listen for the removal of the full notebook cells\n",
       "var notebookContainer = gd.closest('#notebook-container');\n",
       "if (notebookContainer) {{\n",
       "    x.observe(notebookContainer, {childList: true});\n",
       "}}\n",
       "\n",
       "// Listen for the clearing of the current output cell\n",
       "var outputEl = gd.closest('.output');\n",
       "if (outputEl) {{\n",
       "    x.observe(outputEl, {childList: true});\n",
       "}}\n",
       "\n",
       "                        })                };                });            </script>        </div>"
      ]
     },
     "metadata": {},
     "output_type": "display_data"
    }
   ],
   "source": [
    "fig = px.bar(pd.Series(precisions).value_counts(), y='count')\n",
    "fig.show()"
   ]
  },
  {
   "cell_type": "code",
   "execution_count": 70,
   "metadata": {},
   "outputs": [],
   "source": [
    "rec_len_list = [len(tdf[tdf.user_id == i]) for i in rec_list]"
   ]
  },
  {
   "cell_type": "code",
   "execution_count": 75,
   "metadata": {},
   "outputs": [
    {
     "data": {
      "text/plain": [
       "2    2171\n",
       "3    1106\n",
       "4     428\n",
       "6     356\n",
       "5      61\n",
       "1      19\n",
       "7      13\n",
       "Name: count, dtype: int64"
      ]
     },
     "execution_count": 75,
     "metadata": {},
     "output_type": "execute_result"
    }
   ],
   "source": [
    "pd.Series(rec_len_list).value_counts()"
   ]
  },
  {
   "cell_type": "code",
   "execution_count": 77,
   "metadata": {},
   "outputs": [
    {
     "data": {
      "text/plain": [
       "79.34520943668753"
      ]
     },
     "execution_count": 77,
     "metadata": {},
     "output_type": "execute_result"
    }
   ],
   "source": [
    "# 추천 대화 길이가 3이하인 비율\n",
    "(2171+1106+19) / rec_list.__len__() * 100"
   ]
  },
  {
   "cell_type": "code",
   "execution_count": 89,
   "metadata": {},
   "outputs": [],
   "source": [
    "def precision_K(df, K, uid):\n",
    "    tdf = df.copy()\n",
    "    tdf = tdf[(tdf.user_id == uid) & (tdf.is_user)]\n",
    "    if tdf.shape[0] <= K:\n",
    "        prec_k = 1 - sum(tdf.deny) / tdf.shape[0]\n",
    "    else:\n",
    "        prec_k = 1 - sum(tdf.iloc[:K].deny) / K\n",
    "    return prec_k"
   ]
  },
  {
   "cell_type": "code",
   "execution_count": null,
   "metadata": {},
   "outputs": [],
   "source": [
    "users = df.user_id.unique()\n",
    "\n",
    "for i in tqdm(range(1,10)):\n",
    "    exec(f'precision_{i} = {{i:precision_K(df,{i}, i) for i in users}}')\n"
   ]
  },
  {
   "cell_type": "markdown",
   "metadata": {},
   "source": [
    "## CSV 나누기"
   ]
  },
  {
   "cell_type": "code",
   "execution_count": 120,
   "metadata": {},
   "outputs": [
    {
     "data": {
      "text/plain": [
       "Index(['Unnamed: 0', 'user_id', 'user_profile_age_range', 'user_profile_name',\n",
       "       'user_profile_residence', 'user_profile_accepted_food',\n",
       "       'user_profile_accepted_movies', 'user_profile_accepted_music',\n",
       "       'user_profile_rejected_music', 'user_profile_gender',\n",
       "       'user_profile_accepted_celebrities', 'user_profile_accepted_movie',\n",
       "       'user_profile_reject', 'user_profile_rejected_movies',\n",
       "       'user_profile_occupation', 'user_profile_accepted_music.1',\n",
       "       'user_profile_accepted_poi', 'user_profile_favorite_news',\n",
       "       'user_profile_accepted_news', 'user_profile_poi', 'time', 'place',\n",
       "       'date', 'topic', 'wday', 'sentence_index', 'sentence', 'goal_topic',\n",
       "       'goal_type', 'knowledge', 'recdial', 'sentiment_star',\n",
       "       'sentiment_score', 'is_bot_talk_first', 'is_user', 'deny'],\n",
       "      dtype='object')"
      ]
     },
     "execution_count": 120,
     "metadata": {},
     "output_type": "execute_result"
    }
   ],
   "source": [
    "df.columns"
   ]
  },
  {
   "cell_type": "code",
   "execution_count": 122,
   "metadata": {},
   "outputs": [
    {
     "data": {
      "text/html": [
       "<div>\n",
       "<style scoped>\n",
       "    .dataframe tbody tr th:only-of-type {\n",
       "        vertical-align: middle;\n",
       "    }\n",
       "\n",
       "    .dataframe tbody tr th {\n",
       "        vertical-align: top;\n",
       "    }\n",
       "\n",
       "    .dataframe thead th {\n",
       "        text-align: right;\n",
       "    }\n",
       "</style>\n",
       "<table border=\"1\" class=\"dataframe\">\n",
       "  <thead>\n",
       "    <tr style=\"text-align: right;\">\n",
       "      <th></th>\n",
       "      <th>user_profile_accepted_food</th>\n",
       "      <th>user_profile_accepted_movies</th>\n",
       "      <th>user_profile_accepted_music</th>\n",
       "      <th>user_profile_accepted_celebrities</th>\n",
       "      <th>user_profile_accepted_movie</th>\n",
       "      <th>goal_topic</th>\n",
       "      <th>goal_type</th>\n",
       "      <th>is_user</th>\n",
       "      <th>deny</th>\n",
       "    </tr>\n",
       "  </thead>\n",
       "  <tbody>\n",
       "    <tr>\n",
       "      <th>19</th>\n",
       "      <td>Marinated Fish</td>\n",
       "      <td>NaN</td>\n",
       "      <td>['You Will Always Be My Love', 'After Leaving'...</td>\n",
       "      <td>['Jacky Cheung']</td>\n",
       "      <td>NaN</td>\n",
       "      <td>Marinated Fish</td>\n",
       "      <td>Food recommendation</td>\n",
       "      <td>0</td>\n",
       "      <td>False</td>\n",
       "    </tr>\n",
       "    <tr>\n",
       "      <th>20</th>\n",
       "      <td>Marinated Fish</td>\n",
       "      <td>NaN</td>\n",
       "      <td>['You Will Always Be My Love', 'After Leaving'...</td>\n",
       "      <td>['Jacky Cheung']</td>\n",
       "      <td>NaN</td>\n",
       "      <td>Marinated Fish</td>\n",
       "      <td>Food recommendation</td>\n",
       "      <td>1</td>\n",
       "      <td>False</td>\n",
       "    </tr>\n",
       "    <tr>\n",
       "      <th>21</th>\n",
       "      <td>Marinated Fish</td>\n",
       "      <td>NaN</td>\n",
       "      <td>['You Will Always Be My Love', 'After Leaving'...</td>\n",
       "      <td>['Jacky Cheung']</td>\n",
       "      <td>NaN</td>\n",
       "      <td>Marinated Fish</td>\n",
       "      <td>Food recommendation</td>\n",
       "      <td>0</td>\n",
       "      <td>False</td>\n",
       "    </tr>\n",
       "    <tr>\n",
       "      <th>22</th>\n",
       "      <td>Marinated Fish</td>\n",
       "      <td>NaN</td>\n",
       "      <td>['You Will Always Be My Love', 'After Leaving'...</td>\n",
       "      <td>['Jacky Cheung']</td>\n",
       "      <td>NaN</td>\n",
       "      <td>Marinated Fish</td>\n",
       "      <td>Food recommendation</td>\n",
       "      <td>1</td>\n",
       "      <td>False</td>\n",
       "    </tr>\n",
       "    <tr>\n",
       "      <th>23</th>\n",
       "      <td>Marinated Fish</td>\n",
       "      <td>NaN</td>\n",
       "      <td>['You Will Always Be My Love', 'After Leaving'...</td>\n",
       "      <td>['Jacky Cheung']</td>\n",
       "      <td>NaN</td>\n",
       "      <td>Mr.Fish Roasted</td>\n",
       "      <td>POI recommendation</td>\n",
       "      <td>0</td>\n",
       "      <td>False</td>\n",
       "    </tr>\n",
       "    <tr>\n",
       "      <th>24</th>\n",
       "      <td>Marinated Fish</td>\n",
       "      <td>NaN</td>\n",
       "      <td>['You Will Always Be My Love', 'After Leaving'...</td>\n",
       "      <td>['Jacky Cheung']</td>\n",
       "      <td>NaN</td>\n",
       "      <td>Mr.Fish Roasted</td>\n",
       "      <td>POI recommendation</td>\n",
       "      <td>1</td>\n",
       "      <td>False</td>\n",
       "    </tr>\n",
       "    <tr>\n",
       "      <th>25</th>\n",
       "      <td>Marinated Fish</td>\n",
       "      <td>NaN</td>\n",
       "      <td>['You Will Always Be My Love', 'After Leaving'...</td>\n",
       "      <td>['Jacky Cheung']</td>\n",
       "      <td>NaN</td>\n",
       "      <td>Mr.Fish Roasted</td>\n",
       "      <td>POI recommendation</td>\n",
       "      <td>0</td>\n",
       "      <td>True</td>\n",
       "    </tr>\n",
       "    <tr>\n",
       "      <th>26</th>\n",
       "      <td>Marinated Fish</td>\n",
       "      <td>NaN</td>\n",
       "      <td>['You Will Always Be My Love', 'After Leaving'...</td>\n",
       "      <td>['Jacky Cheung']</td>\n",
       "      <td>NaN</td>\n",
       "      <td>Mr.Fish Roasted</td>\n",
       "      <td>POI recommendation</td>\n",
       "      <td>1</td>\n",
       "      <td>False</td>\n",
       "    </tr>\n",
       "    <tr>\n",
       "      <th>27</th>\n",
       "      <td>Marinated Fish</td>\n",
       "      <td>NaN</td>\n",
       "      <td>['You Will Always Be My Love', 'After Leaving'...</td>\n",
       "      <td>['Jacky Cheung']</td>\n",
       "      <td>NaN</td>\n",
       "      <td>Mr.Fish Roasted</td>\n",
       "      <td>POI recommendation</td>\n",
       "      <td>0</td>\n",
       "      <td>False</td>\n",
       "    </tr>\n",
       "  </tbody>\n",
       "</table>\n",
       "</div>"
      ],
      "text/plain": [
       "   user_profile_accepted_food user_profile_accepted_movies  \\\n",
       "19             Marinated Fish                          NaN   \n",
       "20             Marinated Fish                          NaN   \n",
       "21             Marinated Fish                          NaN   \n",
       "22             Marinated Fish                          NaN   \n",
       "23             Marinated Fish                          NaN   \n",
       "24             Marinated Fish                          NaN   \n",
       "25             Marinated Fish                          NaN   \n",
       "26             Marinated Fish                          NaN   \n",
       "27             Marinated Fish                          NaN   \n",
       "\n",
       "                          user_profile_accepted_music  \\\n",
       "19  ['You Will Always Be My Love', 'After Leaving'...   \n",
       "20  ['You Will Always Be My Love', 'After Leaving'...   \n",
       "21  ['You Will Always Be My Love', 'After Leaving'...   \n",
       "22  ['You Will Always Be My Love', 'After Leaving'...   \n",
       "23  ['You Will Always Be My Love', 'After Leaving'...   \n",
       "24  ['You Will Always Be My Love', 'After Leaving'...   \n",
       "25  ['You Will Always Be My Love', 'After Leaving'...   \n",
       "26  ['You Will Always Be My Love', 'After Leaving'...   \n",
       "27  ['You Will Always Be My Love', 'After Leaving'...   \n",
       "\n",
       "   user_profile_accepted_celebrities user_profile_accepted_movie  \\\n",
       "19                  ['Jacky Cheung']                         NaN   \n",
       "20                  ['Jacky Cheung']                         NaN   \n",
       "21                  ['Jacky Cheung']                         NaN   \n",
       "22                  ['Jacky Cheung']                         NaN   \n",
       "23                  ['Jacky Cheung']                         NaN   \n",
       "24                  ['Jacky Cheung']                         NaN   \n",
       "25                  ['Jacky Cheung']                         NaN   \n",
       "26                  ['Jacky Cheung']                         NaN   \n",
       "27                  ['Jacky Cheung']                         NaN   \n",
       "\n",
       "         goal_topic            goal_type  is_user   deny  \n",
       "19   Marinated Fish  Food recommendation        0  False  \n",
       "20   Marinated Fish  Food recommendation        1  False  \n",
       "21   Marinated Fish  Food recommendation        0  False  \n",
       "22   Marinated Fish  Food recommendation        1  False  \n",
       "23  Mr.Fish Roasted   POI recommendation        0  False  \n",
       "24  Mr.Fish Roasted   POI recommendation        1  False  \n",
       "25  Mr.Fish Roasted   POI recommendation        0   True  \n",
       "26  Mr.Fish Roasted   POI recommendation        1  False  \n",
       "27  Mr.Fish Roasted   POI recommendation        0  False  "
      ]
     },
     "execution_count": 122,
     "metadata": {},
     "output_type": "execute_result"
    }
   ],
   "source": [
    "df[(df.user_id == 1) & (df.recdial)][['user_profile_accepted_food', 'user_profile_accepted_movies', 'user_profile_accepted_music', 'user_profile_accepted_celebrities', 'user_profile_accepted_movie','goal_topic','goal_type','is_user', 'deny']]"
   ]
  },
  {
   "cell_type": "code",
   "execution_count": 123,
   "metadata": {},
   "outputs": [
    {
     "data": {
      "text/html": [
       "<div>\n",
       "<style scoped>\n",
       "    .dataframe tbody tr th:only-of-type {\n",
       "        vertical-align: middle;\n",
       "    }\n",
       "\n",
       "    .dataframe tbody tr th {\n",
       "        vertical-align: top;\n",
       "    }\n",
       "\n",
       "    .dataframe thead th {\n",
       "        text-align: right;\n",
       "    }\n",
       "</style>\n",
       "<table border=\"1\" class=\"dataframe\">\n",
       "  <thead>\n",
       "    <tr style=\"text-align: right;\">\n",
       "      <th></th>\n",
       "      <th>user_id</th>\n",
       "      <th>user_profile_age_range</th>\n",
       "      <th>user_profile_name</th>\n",
       "      <th>user_profile_residence</th>\n",
       "      <th>user_profile_accepted_food</th>\n",
       "      <th>user_profile_accepted_movies</th>\n",
       "      <th>user_profile_accepted_music</th>\n",
       "      <th>user_profile_rejected_music</th>\n",
       "      <th>user_profile_gender</th>\n",
       "      <th>user_profile_accepted_celebrities</th>\n",
       "      <th>user_profile_accepted_movie</th>\n",
       "      <th>user_profile_reject</th>\n",
       "      <th>user_profile_rejected_movies</th>\n",
       "      <th>user_profile_occupation</th>\n",
       "      <th>user_profile_accepted_music.1</th>\n",
       "      <th>user_profile_accepted_poi</th>\n",
       "      <th>user_profile_favorite_news</th>\n",
       "      <th>user_profile_accepted_news</th>\n",
       "      <th>user_profile_poi</th>\n",
       "    </tr>\n",
       "  </thead>\n",
       "  <tbody>\n",
       "    <tr>\n",
       "      <th>0</th>\n",
       "      <td>0</td>\n",
       "      <td>Under 18 years old</td>\n",
       "      <td>Fangyang Liu</td>\n",
       "      <td>Qingdao</td>\n",
       "      <td>Jiaozi Stuffed with Mackerel</td>\n",
       "      <td>['Left Right Love Destiny', 'Hot Summer Days',...</td>\n",
       "      <td>['Once']</td>\n",
       "      <td>['Its Time']</td>\n",
       "      <td>Female</td>\n",
       "      <td>['Cecilia Cheung', 'Kris Wu', 'Nicholas Tse']</td>\n",
       "      <td>The Legend of Speed</td>\n",
       "      <td>News</td>\n",
       "      <td>['Everyday is Valentine', 'Unforgettable', 'Ki...</td>\n",
       "      <td>Student</td>\n",
       "      <td>Time Boils The Rain</td>\n",
       "      <td>Minguo Seafood Dumpling House</td>\n",
       "      <td>NaN</td>\n",
       "      <td>NaN</td>\n",
       "      <td>NaN</td>\n",
       "    </tr>\n",
       "    <tr>\n",
       "      <th>1</th>\n",
       "      <td>1</td>\n",
       "      <td>Under 18 years old</td>\n",
       "      <td>Mingzheng Li</td>\n",
       "      <td>Hengshui</td>\n",
       "      <td>Marinated Fish</td>\n",
       "      <td>NaN</td>\n",
       "      <td>['You Will Always Be My Love', 'After Leaving'...</td>\n",
       "      <td>['Coffee', 'be torn with grief']</td>\n",
       "      <td>Male</td>\n",
       "      <td>['Jacky Cheung']</td>\n",
       "      <td>NaN</td>\n",
       "      <td>Movie</td>\n",
       "      <td>NaN</td>\n",
       "      <td>Student</td>\n",
       "      <td>Wolf Legend</td>\n",
       "      <td>Mr.Fish Roasted</td>\n",
       "      <td>['Jacky Cheungs news']</td>\n",
       "      <td>NaN</td>\n",
       "      <td>NaN</td>\n",
       "    </tr>\n",
       "    <tr>\n",
       "      <th>2</th>\n",
       "      <td>2</td>\n",
       "      <td>Over 50 years old</td>\n",
       "      <td>Li Xu</td>\n",
       "      <td>Yangzhou</td>\n",
       "      <td>Marinated Fish</td>\n",
       "      <td>['Tiles of Deception', 'Lurid Affections: The ...</td>\n",
       "      <td>['A Simple Song', 'Heroes of Earth']</td>\n",
       "      <td>['KISS GOODBYE']</td>\n",
       "      <td>Male</td>\n",
       "      <td>['Bingbing Fan', 'Leehom Wang']</td>\n",
       "      <td>Flash Point</td>\n",
       "      <td>Poi</td>\n",
       "      <td>['Lust', 'Caution']</td>\n",
       "      <td>Employed</td>\n",
       "      <td>Hand in Hand</td>\n",
       "      <td>NaN</td>\n",
       "      <td>['Bingbing Fans news', 'Leehom Wangs news']</td>\n",
       "      <td>NaN</td>\n",
       "      <td>NaN</td>\n",
       "    </tr>\n",
       "    <tr>\n",
       "      <th>3</th>\n",
       "      <td>3</td>\n",
       "      <td>26-35</td>\n",
       "      <td>Jiaoyang Jin</td>\n",
       "      <td>Xining</td>\n",
       "      <td>Sautéed Spicy Pork</td>\n",
       "      <td>['Flash Point', 'Sophies Revenge', 'I Am Not M...</td>\n",
       "      <td>NaN</td>\n",
       "      <td>NaN</td>\n",
       "      <td>Female</td>\n",
       "      <td>['Bingbing Fan']</td>\n",
       "      <td>Battle of Wits</td>\n",
       "      <td>music</td>\n",
       "      <td>['Ever Since We Love']</td>\n",
       "      <td>Student</td>\n",
       "      <td>NaN</td>\n",
       "      <td>Laoqi Sichuan Restaurant</td>\n",
       "      <td>['Bingbing Fans news']</td>\n",
       "      <td>NaN</td>\n",
       "      <td>NaN</td>\n",
       "    </tr>\n",
       "    <tr>\n",
       "      <th>4</th>\n",
       "      <td>4</td>\n",
       "      <td>7-10</td>\n",
       "      <td>Xinxi Zhang</td>\n",
       "      <td>Shijiazhuang</td>\n",
       "      <td>NaN</td>\n",
       "      <td>NaN</td>\n",
       "      <td>NaN</td>\n",
       "      <td>NaN</td>\n",
       "      <td>Female</td>\n",
       "      <td>NaN</td>\n",
       "      <td>NaN</td>\n",
       "      <td>NaN</td>\n",
       "      <td>NaN</td>\n",
       "      <td>Student</td>\n",
       "      <td>NaN</td>\n",
       "      <td>NaN</td>\n",
       "      <td>NaN</td>\n",
       "      <td>NaN</td>\n",
       "      <td>NaN</td>\n",
       "    </tr>\n",
       "    <tr>\n",
       "      <th>...</th>\n",
       "      <td>...</td>\n",
       "      <td>...</td>\n",
       "      <td>...</td>\n",
       "      <td>...</td>\n",
       "      <td>...</td>\n",
       "      <td>...</td>\n",
       "      <td>...</td>\n",
       "      <td>...</td>\n",
       "      <td>...</td>\n",
       "      <td>...</td>\n",
       "      <td>...</td>\n",
       "      <td>...</td>\n",
       "      <td>...</td>\n",
       "      <td>...</td>\n",
       "      <td>...</td>\n",
       "      <td>...</td>\n",
       "      <td>...</td>\n",
       "      <td>...</td>\n",
       "      <td>...</td>\n",
       "    </tr>\n",
       "    <tr>\n",
       "      <th>5673</th>\n",
       "      <td>5673</td>\n",
       "      <td>Over 50 years old</td>\n",
       "      <td>Pinglu Liu</td>\n",
       "      <td>Kunming</td>\n",
       "      <td>poached spicy slices of pork</td>\n",
       "      <td>['Shouldve Loved You', 'My Boyfriends']</td>\n",
       "      <td>['The Little Girl Under the Streetlight']</td>\n",
       "      <td>['I Love You Meilan']</td>\n",
       "      <td>Female</td>\n",
       "      <td>['Na Xie', 'Jiong He']</td>\n",
       "      <td>Nanas Rose war</td>\n",
       "      <td>News</td>\n",
       "      <td>['Nanas War']</td>\n",
       "      <td>Retired</td>\n",
       "      <td>Little Love</td>\n",
       "      <td>Yicaiyige Classic Sichuan Dishes(Qicai Me Town...</td>\n",
       "      <td>NaN</td>\n",
       "      <td>NaN</td>\n",
       "      <td>NaN</td>\n",
       "    </tr>\n",
       "    <tr>\n",
       "      <th>5674</th>\n",
       "      <td>5674</td>\n",
       "      <td>Over 50 years old</td>\n",
       "      <td>Qinan He</td>\n",
       "      <td>Shanghai</td>\n",
       "      <td>Chicken Feet with Pickled Peppers</td>\n",
       "      <td>['Mr. Peabody &amp; Sherman', 'Mini-Bus', 'The Mir...</td>\n",
       "      <td>['The Garden', 'Dear Child', 'Innocence', 'Inv...</td>\n",
       "      <td>['Its Enough', 'Heartburn', 'A Branch of Plum ...</td>\n",
       "      <td>Male</td>\n",
       "      <td>['Bo Huang', 'Jiong He']</td>\n",
       "      <td>No Mans Land</td>\n",
       "      <td>Poi</td>\n",
       "      <td>['Happy Running', 'Crazy Racer']</td>\n",
       "      <td>Employed</td>\n",
       "      <td>Those Years</td>\n",
       "      <td>NaN</td>\n",
       "      <td>NaN</td>\n",
       "      <td>['Bo Huangs news, Jiong Hes news']</td>\n",
       "      <td>NaN</td>\n",
       "    </tr>\n",
       "    <tr>\n",
       "      <th>5675</th>\n",
       "      <td>5675</td>\n",
       "      <td>Over 50 years old</td>\n",
       "      <td>Xiaofeng Niu</td>\n",
       "      <td>Chengdu</td>\n",
       "      <td>Kung Pao Chicken</td>\n",
       "      <td>['Perfect Two', 'L.O.R.D（Legend of Ravaging Dy...</td>\n",
       "      <td>['Must Be Happy']</td>\n",
       "      <td>['Love Support']</td>\n",
       "      <td>Female</td>\n",
       "      <td>['Mi Yang', 'Leehom Wang']</td>\n",
       "      <td>Reset</td>\n",
       "      <td>Poi</td>\n",
       "      <td>['Alls Well', 'Ends Well 2012']</td>\n",
       "      <td>Employed</td>\n",
       "      <td>The Sun Washed by Spring Rain</td>\n",
       "      <td>NaN</td>\n",
       "      <td>NaN</td>\n",
       "      <td>['Mi Yangs news, Leehom Wangs news']</td>\n",
       "      <td>NaN</td>\n",
       "    </tr>\n",
       "    <tr>\n",
       "      <th>5676</th>\n",
       "      <td>5676</td>\n",
       "      <td>18-25</td>\n",
       "      <td>Jiaoqian Yang</td>\n",
       "      <td>Xuzhou</td>\n",
       "      <td>Yu-Shiang Shredded Pork (Sautéed with Spicy Ga...</td>\n",
       "      <td>NaN</td>\n",
       "      <td>NaN</td>\n",
       "      <td>NaN</td>\n",
       "      <td>Female</td>\n",
       "      <td>['Hsu Chi', 'Kris Wu']</td>\n",
       "      <td>Three Times</td>\n",
       "      <td>Poi</td>\n",
       "      <td>NaN</td>\n",
       "      <td>Student</td>\n",
       "      <td>Heaven &amp; Earth</td>\n",
       "      <td>NaN</td>\n",
       "      <td>NaN</td>\n",
       "      <td>['Hsu Chis news, Kris Wus news']</td>\n",
       "      <td>NaN</td>\n",
       "    </tr>\n",
       "    <tr>\n",
       "      <th>5677</th>\n",
       "      <td>5677</td>\n",
       "      <td>Under 18 years old</td>\n",
       "      <td>Fangshan Liu</td>\n",
       "      <td>Urumqi</td>\n",
       "      <td>Peanuts with Black Vinegar</td>\n",
       "      <td>['Left Right Love Destiny']</td>\n",
       "      <td>['The Moon Represents My Heart', 'Run Toward t...</td>\n",
       "      <td>['Silence is Gold', 'A Man Of Intention']</td>\n",
       "      <td>Female</td>\n",
       "      <td>['Cecilia Cheung', 'Leslie Cheung', 'Nicholas ...</td>\n",
       "      <td>Running On Karma</td>\n",
       "      <td>Poi</td>\n",
       "      <td>['The Kid']</td>\n",
       "      <td>Student</td>\n",
       "      <td>When wind blows again</td>\n",
       "      <td>NaN</td>\n",
       "      <td>['Cecilia Cheungs news', 'Leslie Cheungs news']</td>\n",
       "      <td>NaN</td>\n",
       "      <td>NaN</td>\n",
       "    </tr>\n",
       "  </tbody>\n",
       "</table>\n",
       "<p>5678 rows × 19 columns</p>\n",
       "</div>"
      ],
      "text/plain": [
       "      user_id user_profile_age_range user_profile_name user_profile_residence  \\\n",
       "0           0     Under 18 years old      Fangyang Liu                Qingdao   \n",
       "1           1     Under 18 years old      Mingzheng Li               Hengshui   \n",
       "2           2      Over 50 years old             Li Xu               Yangzhou   \n",
       "3           3                  26-35      Jiaoyang Jin                 Xining   \n",
       "4           4                   7-10       Xinxi Zhang           Shijiazhuang   \n",
       "...       ...                    ...               ...                    ...   \n",
       "5673     5673      Over 50 years old        Pinglu Liu                Kunming   \n",
       "5674     5674      Over 50 years old          Qinan He               Shanghai   \n",
       "5675     5675      Over 50 years old      Xiaofeng Niu                Chengdu   \n",
       "5676     5676                  18-25     Jiaoqian Yang                 Xuzhou   \n",
       "5677     5677     Under 18 years old      Fangshan Liu                 Urumqi   \n",
       "\n",
       "                             user_profile_accepted_food  \\\n",
       "0                         Jiaozi Stuffed with Mackerel    \n",
       "1                                        Marinated Fish   \n",
       "2                                        Marinated Fish   \n",
       "3                                   Sautéed Spicy Pork    \n",
       "4                                                   NaN   \n",
       "...                                                 ...   \n",
       "5673                       poached spicy slices of pork   \n",
       "5674                  Chicken Feet with Pickled Peppers   \n",
       "5675                                   Kung Pao Chicken   \n",
       "5676  Yu-Shiang Shredded Pork (Sautéed with Spicy Ga...   \n",
       "5677                         Peanuts with Black Vinegar   \n",
       "\n",
       "                           user_profile_accepted_movies  \\\n",
       "0     ['Left Right Love Destiny', 'Hot Summer Days',...   \n",
       "1                                                   NaN   \n",
       "2     ['Tiles of Deception', 'Lurid Affections: The ...   \n",
       "3     ['Flash Point', 'Sophies Revenge', 'I Am Not M...   \n",
       "4                                                   NaN   \n",
       "...                                                 ...   \n",
       "5673            ['Shouldve Loved You', 'My Boyfriends']   \n",
       "5674  ['Mr. Peabody & Sherman', 'Mini-Bus', 'The Mir...   \n",
       "5675  ['Perfect Two', 'L.O.R.D（Legend of Ravaging Dy...   \n",
       "5676                                                NaN   \n",
       "5677                        ['Left Right Love Destiny']   \n",
       "\n",
       "                            user_profile_accepted_music  \\\n",
       "0                                              ['Once']   \n",
       "1     ['You Will Always Be My Love', 'After Leaving'...   \n",
       "2                  ['A Simple Song', 'Heroes of Earth']   \n",
       "3                                                   NaN   \n",
       "4                                                   NaN   \n",
       "...                                                 ...   \n",
       "5673          ['The Little Girl Under the Streetlight']   \n",
       "5674  ['The Garden', 'Dear Child', 'Innocence', 'Inv...   \n",
       "5675                                  ['Must Be Happy']   \n",
       "5676                                                NaN   \n",
       "5677  ['The Moon Represents My Heart', 'Run Toward t...   \n",
       "\n",
       "                            user_profile_rejected_music user_profile_gender  \\\n",
       "0                                          ['Its Time']              Female   \n",
       "1                      ['Coffee', 'be torn with grief']                Male   \n",
       "2                                      ['KISS GOODBYE']                Male   \n",
       "3                                                   NaN              Female   \n",
       "4                                                   NaN              Female   \n",
       "...                                                 ...                 ...   \n",
       "5673                              ['I Love You Meilan']              Female   \n",
       "5674  ['Its Enough', 'Heartburn', 'A Branch of Plum ...                Male   \n",
       "5675                                   ['Love Support']              Female   \n",
       "5676                                                NaN              Female   \n",
       "5677          ['Silence is Gold', 'A Man Of Intention']              Female   \n",
       "\n",
       "                      user_profile_accepted_celebrities  \\\n",
       "0         ['Cecilia Cheung', 'Kris Wu', 'Nicholas Tse']   \n",
       "1                                      ['Jacky Cheung']   \n",
       "2                       ['Bingbing Fan', 'Leehom Wang']   \n",
       "3                                      ['Bingbing Fan']   \n",
       "4                                                   NaN   \n",
       "...                                                 ...   \n",
       "5673                             ['Na Xie', 'Jiong He']   \n",
       "5674                           ['Bo Huang', 'Jiong He']   \n",
       "5675                         ['Mi Yang', 'Leehom Wang']   \n",
       "5676                             ['Hsu Chi', 'Kris Wu']   \n",
       "5677  ['Cecilia Cheung', 'Leslie Cheung', 'Nicholas ...   \n",
       "\n",
       "     user_profile_accepted_movie user_profile_reject  \\\n",
       "0            The Legend of Speed                News   \n",
       "1                            NaN               Movie   \n",
       "2                    Flash Point                 Poi   \n",
       "3                 Battle of Wits               music   \n",
       "4                            NaN                 NaN   \n",
       "...                          ...                 ...   \n",
       "5673              Nanas Rose war                News   \n",
       "5674                No Mans Land                 Poi   \n",
       "5675                       Reset                 Poi   \n",
       "5676                 Three Times                 Poi   \n",
       "5677            Running On Karma                 Poi   \n",
       "\n",
       "                           user_profile_rejected_movies  \\\n",
       "0     ['Everyday is Valentine', 'Unforgettable', 'Ki...   \n",
       "1                                                   NaN   \n",
       "2                                   ['Lust', 'Caution']   \n",
       "3                                ['Ever Since We Love']   \n",
       "4                                                   NaN   \n",
       "...                                                 ...   \n",
       "5673                                      ['Nanas War']   \n",
       "5674                   ['Happy Running', 'Crazy Racer']   \n",
       "5675                    ['Alls Well', 'Ends Well 2012']   \n",
       "5676                                                NaN   \n",
       "5677                                        ['The Kid']   \n",
       "\n",
       "     user_profile_occupation  user_profile_accepted_music.1  \\\n",
       "0                    Student            Time Boils The Rain   \n",
       "1                    Student                    Wolf Legend   \n",
       "2                   Employed                   Hand in Hand   \n",
       "3                    Student                            NaN   \n",
       "4                    Student                            NaN   \n",
       "...                      ...                            ...   \n",
       "5673                 Retired                    Little Love   \n",
       "5674                Employed                    Those Years   \n",
       "5675                Employed  The Sun Washed by Spring Rain   \n",
       "5676                 Student                 Heaven & Earth   \n",
       "5677                 Student          When wind blows again   \n",
       "\n",
       "                              user_profile_accepted_poi  \\\n",
       "0                         Minguo Seafood Dumpling House   \n",
       "1                                       Mr.Fish Roasted   \n",
       "2                                                   NaN   \n",
       "3                              Laoqi Sichuan Restaurant   \n",
       "4                                                   NaN   \n",
       "...                                                 ...   \n",
       "5673  Yicaiyige Classic Sichuan Dishes(Qicai Me Town...   \n",
       "5674                                                NaN   \n",
       "5675                                                NaN   \n",
       "5676                                                NaN   \n",
       "5677                                                NaN   \n",
       "\n",
       "                           user_profile_favorite_news  \\\n",
       "0                                                 NaN   \n",
       "1                              ['Jacky Cheungs news']   \n",
       "2         ['Bingbing Fans news', 'Leehom Wangs news']   \n",
       "3                              ['Bingbing Fans news']   \n",
       "4                                                 NaN   \n",
       "...                                               ...   \n",
       "5673                                              NaN   \n",
       "5674                                              NaN   \n",
       "5675                                              NaN   \n",
       "5676                                              NaN   \n",
       "5677  ['Cecilia Cheungs news', 'Leslie Cheungs news']   \n",
       "\n",
       "                user_profile_accepted_news user_profile_poi  \n",
       "0                                      NaN              NaN  \n",
       "1                                      NaN              NaN  \n",
       "2                                      NaN              NaN  \n",
       "3                                      NaN              NaN  \n",
       "4                                      NaN              NaN  \n",
       "...                                    ...              ...  \n",
       "5673                                   NaN              NaN  \n",
       "5674    ['Bo Huangs news, Jiong Hes news']              NaN  \n",
       "5675  ['Mi Yangs news, Leehom Wangs news']              NaN  \n",
       "5676      ['Hsu Chis news, Kris Wus news']              NaN  \n",
       "5677                                   NaN              NaN  \n",
       "\n",
       "[5678 rows x 19 columns]"
      ]
     },
     "execution_count": 123,
     "metadata": {},
     "output_type": "execute_result"
    }
   ],
   "source": [
    "pd.read_csv(PATH + 'train_user.csv')"
   ]
  },
  {
   "cell_type": "code",
   "execution_count": 151,
   "metadata": {},
   "outputs": [],
   "source": [
    "df_small = df.loc[df.user_id.isin(rec_list)].copy()\n",
    "df_small.drop(labels=['Unnamed: 0'], axis=1, inplace=True)"
   ]
  },
  {
   "cell_type": "code",
   "execution_count": 152,
   "metadata": {},
   "outputs": [
    {
     "data": {
      "text/plain": [
       "Index(['user_id', 'user_profile_age_range', 'user_profile_name',\n",
       "       'user_profile_residence', 'user_profile_accepted_food',\n",
       "       'user_profile_accepted_movies', 'user_profile_accepted_music',\n",
       "       'user_profile_rejected_music', 'user_profile_gender',\n",
       "       'user_profile_accepted_celebrities', 'user_profile_accepted_movie',\n",
       "       'user_profile_reject', 'user_profile_rejected_movies',\n",
       "       'user_profile_occupation', 'user_profile_accepted_music.1',\n",
       "       'user_profile_accepted_poi', 'user_profile_favorite_news',\n",
       "       'user_profile_accepted_news', 'user_profile_poi', 'time', 'place',\n",
       "       'date', 'topic', 'wday', 'sentence_index', 'sentence', 'goal_topic',\n",
       "       'goal_type', 'knowledge', 'recdial', 'sentiment_star',\n",
       "       'sentiment_score', 'is_bot_talk_first', 'is_user', 'deny'],\n",
       "      dtype='object')"
      ]
     },
     "execution_count": 152,
     "metadata": {},
     "output_type": "execute_result"
    }
   ],
   "source": [
    "df_small.columns"
   ]
  },
  {
   "cell_type": "code",
   "execution_count": 179,
   "metadata": {},
   "outputs": [],
   "source": [
    "profiles = ['user_profile_age_range', 'user_profile_name',\n",
    "       'user_profile_residence', 'user_profile_accepted_food',\n",
    "       'user_profile_accepted_movies', 'user_profile_accepted_music',\n",
    "       'user_profile_rejected_music', 'user_profile_gender',\n",
    "       'user_profile_accepted_celebrities', 'user_profile_accepted_movie',\n",
    "       'user_profile_reject', 'user_profile_rejected_movies',\n",
    "       'user_profile_occupation', 'user_profile_accepted_music.1',\n",
    "       'user_profile_accepted_poi', 'user_profile_favorite_news',\n",
    "       'user_profile_accepted_news', 'user_profile_poi']\n",
    "\n",
    "sentence = ['time', 'place',\n",
    "       'date', 'topic', 'wday', 'sentence_index', 'sentence', 'goal_topic',\n",
    "       'goal_type', 'knowledge', 'recdial', 'sentiment_star',\n",
    "       'sentiment_score', 'is_bot_talk_first', 'is_user', 'deny']"
   ]
  },
  {
   "cell_type": "code",
   "execution_count": 154,
   "metadata": {},
   "outputs": [],
   "source": [
    "train_user_small = df_small[['user_id', *profiles]].drop_duplicates()\n",
    "train_sentence_small = df_small[['user_id', *sentence]]"
   ]
  },
  {
   "cell_type": "code",
   "execution_count": 171,
   "metadata": {},
   "outputs": [],
   "source": [
    "train_user_small['precision'] = train_user_small.user_id.apply(lambda x:precisions[x])\n",
    "for i in range(1,10):\n",
    "    exec(f'train_user_small[\\'precision_{i}\\'] = train_user_small.user_id.apply(lambda x:precision_{i}[x])')"
   ]
  },
  {
   "cell_type": "code",
   "execution_count": 185,
   "metadata": {},
   "outputs": [],
   "source": [
    "train_user_small.to_csv(PATH + 'train_user_small.csv', index=False)\n",
    "train_sentence_small.to_csv(PATH + 'train_sentence_small.csv', index=False)"
   ]
  },
  {
   "cell_type": "markdown",
   "metadata": {},
   "source": [
    "## 모델 성능 csv 만들기\n",
    "https://github.com/RUCAIBox/CRSLab/"
   ]
  },
  {
   "cell_type": "code",
   "execution_count": 9,
   "metadata": {},
   "outputs": [
    {
     "data": {
      "text/html": [
       "<div>\n",
       "<style scoped>\n",
       "    .dataframe tbody tr th:only-of-type {\n",
       "        vertical-align: middle;\n",
       "    }\n",
       "\n",
       "    .dataframe tbody tr th {\n",
       "        vertical-align: top;\n",
       "    }\n",
       "\n",
       "    .dataframe thead th {\n",
       "        text-align: right;\n",
       "    }\n",
       "</style>\n",
       "<table border=\"1\" class=\"dataframe\">\n",
       "  <thead>\n",
       "    <tr style=\"text-align: right;\">\n",
       "      <th></th>\n",
       "      <th>Model</th>\n",
       "      <th>Hit@1</th>\n",
       "      <th>Hit@10</th>\n",
       "      <th>Hit@50</th>\n",
       "      <th>MRR@1</th>\n",
       "      <th>MRR@10</th>\n",
       "      <th>MRR@50</th>\n",
       "      <th>NDCG@1</th>\n",
       "      <th>NDCG@10</th>\n",
       "      <th>NDCG@50</th>\n",
       "      <th>Recommendation</th>\n",
       "    </tr>\n",
       "  </thead>\n",
       "  <tbody>\n",
       "    <tr>\n",
       "      <th>0</th>\n",
       "      <td>SASRec</td>\n",
       "      <td>0.000446</td>\n",
       "      <td>0.00134</td>\n",
       "      <td>0.0160</td>\n",
       "      <td>0.000446</td>\n",
       "      <td>0.000576</td>\n",
       "      <td>0.00114</td>\n",
       "      <td>0.000445</td>\n",
       "      <td>0.00075</td>\n",
       "      <td>0.0038</td>\n",
       "      <td>1</td>\n",
       "    </tr>\n",
       "    <tr>\n",
       "      <th>1</th>\n",
       "      <td>TextCNN</td>\n",
       "      <td>0.002670</td>\n",
       "      <td>0.01030</td>\n",
       "      <td>0.0236</td>\n",
       "      <td>0.002670</td>\n",
       "      <td>0.004340</td>\n",
       "      <td>0.00493</td>\n",
       "      <td>0.002670</td>\n",
       "      <td>0.00570</td>\n",
       "      <td>0.0086</td>\n",
       "      <td>1</td>\n",
       "    </tr>\n",
       "    <tr>\n",
       "      <th>2</th>\n",
       "      <td>BERT</td>\n",
       "      <td>0.007220</td>\n",
       "      <td>0.00490</td>\n",
       "      <td>0.0281</td>\n",
       "      <td>0.007220</td>\n",
       "      <td>0.010600</td>\n",
       "      <td>0.01240</td>\n",
       "      <td>0.004900</td>\n",
       "      <td>0.01470</td>\n",
       "      <td>0.0239</td>\n",
       "      <td>1</td>\n",
       "    </tr>\n",
       "    <tr>\n",
       "      <th>3</th>\n",
       "      <td>KBRD</td>\n",
       "      <td>0.004010</td>\n",
       "      <td>0.02540</td>\n",
       "      <td>0.0588</td>\n",
       "      <td>0.004010</td>\n",
       "      <td>0.008910</td>\n",
       "      <td>0.01030</td>\n",
       "      <td>0.004010</td>\n",
       "      <td>0.01270</td>\n",
       "      <td>0.0198</td>\n",
       "      <td>1</td>\n",
       "    </tr>\n",
       "    <tr>\n",
       "      <th>4</th>\n",
       "      <td>KGSF</td>\n",
       "      <td>0.005350</td>\n",
       "      <td>0.02850</td>\n",
       "      <td>0.0771</td>\n",
       "      <td>0.005350</td>\n",
       "      <td>0.011400</td>\n",
       "      <td>0.01350</td>\n",
       "      <td>0.005350</td>\n",
       "      <td>0.01540</td>\n",
       "      <td>0.0259</td>\n",
       "      <td>1</td>\n",
       "    </tr>\n",
       "    <tr>\n",
       "      <th>5</th>\n",
       "      <td>TG-ReDial</td>\n",
       "      <td>0.007930</td>\n",
       "      <td>0.02510</td>\n",
       "      <td>0.0524</td>\n",
       "      <td>0.007930</td>\n",
       "      <td>0.012200</td>\n",
       "      <td>0.01340</td>\n",
       "      <td>0.007930</td>\n",
       "      <td>0.01520</td>\n",
       "      <td>0.0211</td>\n",
       "      <td>1</td>\n",
       "    </tr>\n",
       "  </tbody>\n",
       "</table>\n",
       "</div>"
      ],
      "text/plain": [
       "       Model     Hit@1   Hit@10  Hit@50     MRR@1    MRR@10   MRR@50  \\\n",
       "0     SASRec  0.000446  0.00134  0.0160  0.000446  0.000576  0.00114   \n",
       "1    TextCNN  0.002670  0.01030  0.0236  0.002670  0.004340  0.00493   \n",
       "2       BERT  0.007220  0.00490  0.0281  0.007220  0.010600  0.01240   \n",
       "3       KBRD  0.004010  0.02540  0.0588  0.004010  0.008910  0.01030   \n",
       "4       KGSF  0.005350  0.02850  0.0771  0.005350  0.011400  0.01350   \n",
       "5  TG-ReDial  0.007930  0.02510  0.0524  0.007930  0.012200  0.01340   \n",
       "\n",
       "     NDCG@1  NDCG@10  NDCG@50  Recommendation  \n",
       "0  0.000445  0.00075   0.0038               1  \n",
       "1  0.002670  0.00570   0.0086               1  \n",
       "2  0.004900  0.01470   0.0239               1  \n",
       "3  0.004010  0.01270   0.0198               1  \n",
       "4  0.005350  0.01540   0.0259               1  \n",
       "5  0.007930  0.01520   0.0211               1  "
      ]
     },
     "execution_count": 9,
     "metadata": {},
     "output_type": "execute_result"
    }
   ],
   "source": [
    "rec_data = {'Model': ['SASRec', 'TextCNN', 'BERT', 'KBRD', 'KGSF', 'TG-ReDial'],\n",
    "        'Hit@1': [0.000446, 0.00267, 0.00722, 0.00401, 0.00535, 0.00793],\n",
    "        'Hit@10': [0.00134, 0.0103, 0.00490, 0.0254, 0.0285, 0.0251],\n",
    "        'Hit@50': [0.0160, 0.0236, 0.0281, 0.0588, 0.0771, 0.0524],\n",
    "        'MRR@1': [0.000446, 0.00267, 0.00722, 0.00401, 0.00535, 0.00793],\n",
    "        'MRR@10': [0.000576, 0.00434, 0.0106, 0.00891, 0.0114, 0.0122],\n",
    "        'MRR@50': [0.00114, 0.00493, 0.0124, 0.0103, 0.0135, 0.0134],\n",
    "        'NDCG@1': [0.000445, 0.00267, 0.00490, 0.00401, 0.00535, 0.00793],\n",
    "        'NDCG@10': [0.00075, 0.00570, 0.0147, 0.0127, 0.0154, 0.0152],\n",
    "        'NDCG@50': [0.00380, 0.00860, 0.0239, 0.0198, 0.0259, 0.0211]}\n",
    "\n",
    "rec_df = pd.DataFrame(rec_data)\n",
    "rec_df['Recommendation'] = 1\n",
    "rec_df"
   ]
  },
  {
   "cell_type": "code",
   "execution_count": 10,
   "metadata": {},
   "outputs": [
    {
     "data": {
      "text/html": [
       "<div>\n",
       "<style scoped>\n",
       "    .dataframe tbody tr th:only-of-type {\n",
       "        vertical-align: middle;\n",
       "    }\n",
       "\n",
       "    .dataframe tbody tr th {\n",
       "        vertical-align: top;\n",
       "    }\n",
       "\n",
       "    .dataframe thead th {\n",
       "        text-align: right;\n",
       "    }\n",
       "</style>\n",
       "<table border=\"1\" class=\"dataframe\">\n",
       "  <thead>\n",
       "    <tr style=\"text-align: right;\">\n",
       "      <th></th>\n",
       "      <th>Model</th>\n",
       "      <th>BLEU@1</th>\n",
       "      <th>BLEU@2</th>\n",
       "      <th>BLEU@3</th>\n",
       "      <th>BLEU@4</th>\n",
       "      <th>Dist@1</th>\n",
       "      <th>Dist@2</th>\n",
       "      <th>Dist@3</th>\n",
       "      <th>Dist@4</th>\n",
       "      <th>Average</th>\n",
       "      <th>Extreme</th>\n",
       "      <th>Greedy</th>\n",
       "      <th>PPL</th>\n",
       "      <th>Conversation</th>\n",
       "    </tr>\n",
       "  </thead>\n",
       "  <tbody>\n",
       "    <tr>\n",
       "      <th>0</th>\n",
       "      <td>HERD</td>\n",
       "      <td>0.1200</td>\n",
       "      <td>0.0141</td>\n",
       "      <td>0.00136</td>\n",
       "      <td>0.000350</td>\n",
       "      <td>0.181</td>\n",
       "      <td>0.369</td>\n",
       "      <td>0.847</td>\n",
       "      <td>1.30</td>\n",
       "      <td>0.697</td>\n",
       "      <td>0.382</td>\n",
       "      <td>0.639</td>\n",
       "      <td>472.00</td>\n",
       "      <td>1</td>\n",
       "    </tr>\n",
       "    <tr>\n",
       "      <th>1</th>\n",
       "      <td>Transformer</td>\n",
       "      <td>0.2660</td>\n",
       "      <td>0.0440</td>\n",
       "      <td>0.01450</td>\n",
       "      <td>0.006510</td>\n",
       "      <td>0.324</td>\n",
       "      <td>0.837</td>\n",
       "      <td>2.020</td>\n",
       "      <td>3.06</td>\n",
       "      <td>0.879</td>\n",
       "      <td>0.438</td>\n",
       "      <td>0.680</td>\n",
       "      <td>30.90</td>\n",
       "      <td>1</td>\n",
       "    </tr>\n",
       "    <tr>\n",
       "      <th>2</th>\n",
       "      <td>GPT2</td>\n",
       "      <td>0.0858</td>\n",
       "      <td>0.0119</td>\n",
       "      <td>0.00377</td>\n",
       "      <td>0.011000</td>\n",
       "      <td>2.350</td>\n",
       "      <td>4.620</td>\n",
       "      <td>8.840</td>\n",
       "      <td>12.50</td>\n",
       "      <td>0.763</td>\n",
       "      <td>0.297</td>\n",
       "      <td>0.583</td>\n",
       "      <td>9.26</td>\n",
       "      <td>1</td>\n",
       "    </tr>\n",
       "    <tr>\n",
       "      <th>3</th>\n",
       "      <td>KBRD</td>\n",
       "      <td>0.2670</td>\n",
       "      <td>0.0458</td>\n",
       "      <td>0.01340</td>\n",
       "      <td>0.005790</td>\n",
       "      <td>0.469</td>\n",
       "      <td>1.500</td>\n",
       "      <td>3.400</td>\n",
       "      <td>4.90</td>\n",
       "      <td>0.863</td>\n",
       "      <td>0.398</td>\n",
       "      <td>0.710</td>\n",
       "      <td>52.50</td>\n",
       "      <td>1</td>\n",
       "    </tr>\n",
       "    <tr>\n",
       "      <th>4</th>\n",
       "      <td>KGSF</td>\n",
       "      <td>0.3830</td>\n",
       "      <td>0.1150</td>\n",
       "      <td>0.04440</td>\n",
       "      <td>0.020000</td>\n",
       "      <td>0.340</td>\n",
       "      <td>0.910</td>\n",
       "      <td>3.500</td>\n",
       "      <td>6.20</td>\n",
       "      <td>0.888</td>\n",
       "      <td>0.477</td>\n",
       "      <td>0.767</td>\n",
       "      <td>50.10</td>\n",
       "      <td>1</td>\n",
       "    </tr>\n",
       "    <tr>\n",
       "      <th>5</th>\n",
       "      <td>TG-ReDial</td>\n",
       "      <td>0.1250</td>\n",
       "      <td>0.0204</td>\n",
       "      <td>0.00354</td>\n",
       "      <td>0.000803</td>\n",
       "      <td>0.881</td>\n",
       "      <td>1.750</td>\n",
       "      <td>7.000</td>\n",
       "      <td>12.00</td>\n",
       "      <td>0.810</td>\n",
       "      <td>0.332</td>\n",
       "      <td>0.598</td>\n",
       "      <td>7.41</td>\n",
       "      <td>1</td>\n",
       "    </tr>\n",
       "  </tbody>\n",
       "</table>\n",
       "</div>"
      ],
      "text/plain": [
       "         Model  BLEU@1  BLEU@2   BLEU@3    BLEU@4  Dist@1  Dist@2  Dist@3  \\\n",
       "0         HERD  0.1200  0.0141  0.00136  0.000350   0.181   0.369   0.847   \n",
       "1  Transformer  0.2660  0.0440  0.01450  0.006510   0.324   0.837   2.020   \n",
       "2         GPT2  0.0858  0.0119  0.00377  0.011000   2.350   4.620   8.840   \n",
       "3         KBRD  0.2670  0.0458  0.01340  0.005790   0.469   1.500   3.400   \n",
       "4         KGSF  0.3830  0.1150  0.04440  0.020000   0.340   0.910   3.500   \n",
       "5    TG-ReDial  0.1250  0.0204  0.00354  0.000803   0.881   1.750   7.000   \n",
       "\n",
       "   Dist@4  Average  Extreme  Greedy     PPL  Conversation  \n",
       "0    1.30    0.697    0.382   0.639  472.00             1  \n",
       "1    3.06    0.879    0.438   0.680   30.90             1  \n",
       "2   12.50    0.763    0.297   0.583    9.26             1  \n",
       "3    4.90    0.863    0.398   0.710   52.50             1  \n",
       "4    6.20    0.888    0.477   0.767   50.10             1  \n",
       "5   12.00    0.810    0.332   0.598    7.41             1  "
      ]
     },
     "execution_count": 10,
     "metadata": {},
     "output_type": "execute_result"
    }
   ],
   "source": [
    "conv_data = {'Model': ['HERD', 'Transformer', 'GPT2', 'KBRD', 'KGSF', 'TG-ReDial'],\n",
    "        'BLEU@1': [0.120, 0.266, 0.0858, 0.267, 0.383, 0.125],\n",
    "        'BLEU@2': [0.0141, 0.0440, 0.0119, 0.0458, 0.115, 0.0204],\n",
    "        'BLEU@3': [0.00136, 0.0145, 0.00377, 0.0134, 0.0444, 0.00354],\n",
    "        'BLEU@4': [0.000350, 0.00651, 0.0110, 0.00579, 0.0200, 0.000803],\n",
    "        'Dist@1': [0.181, 0.324, 2.35, 0.469, 0.340, 0.881],\n",
    "        'Dist@2': [0.369, 0.837, 4.62, 1.50, 0.910, 1.75],\n",
    "        'Dist@3': [0.847, 2.02, 8.84, 3.40, 3.50, 7.00],\n",
    "        'Dist@4': [1.30, 3.06, 12.5, 4.90, 6.20, 12.0],\n",
    "        'Average': [0.697, 0.879, 0.763, 0.863, 0.888, 0.810],\n",
    "        'Extreme': [0.382, 0.438, 0.297, 0.398, 0.477, 0.332],\n",
    "        'Greedy': [0.639, 0.680, 0.583, 0.710, 0.767, 0.598],\n",
    "        'PPL': [472, 30.9, 9.26, 52.5, 50.1, 7.41]}\n",
    "\n",
    "conv_df = pd.DataFrame(conv_data)\n",
    "conv_df['Conversation'] = 1\n",
    "conv_df"
   ]
  },
  {
   "cell_type": "code",
   "execution_count": 11,
   "metadata": {},
   "outputs": [],
   "source": [
    "pol_data = {'Model': ['MGCG', 'Conv-BERT', 'Topic-BERT', 'TG-ReDial'],\n",
    "        'Hit@1': [0.591, 0.597, 0.598, 0.600],\n",
    "        'Hit@10': [0.818, 0.814, 0.828, 0.830],\n",
    "        'Hit@50': [0.883, 0.881, 0.885, 0.893],\n",
    "        'MRR@1': [0.591, 0.597, 0.598, 0.600],\n",
    "        'MRR@10': [0.680, 0.684, 0.690, 0.693],\n",
    "        'MRR@50': [0.683, 0.687, 0.693, 0.696],\n",
    "        'NDCG@1': [0.591, 0.597, 0.598, 0.600],\n",
    "        'NDCG@10': [0.712, 0.716, 0.724, 0.727],\n",
    "        'NDCG@50': [0.729, 0.731, 0.737, 0.741]}\n",
    "\n",
    "pol_df = pd.DataFrame(pol_data)\n",
    "pol_df['Policy'] = 1"
   ]
  },
  {
   "cell_type": "code",
   "execution_count": 18,
   "metadata": {},
   "outputs": [
    {
     "data": {
      "text/html": [
       "<div>\n",
       "<style scoped>\n",
       "    .dataframe tbody tr th:only-of-type {\n",
       "        vertical-align: middle;\n",
       "    }\n",
       "\n",
       "    .dataframe tbody tr th {\n",
       "        vertical-align: top;\n",
       "    }\n",
       "\n",
       "    .dataframe thead th {\n",
       "        text-align: right;\n",
       "    }\n",
       "</style>\n",
       "<table border=\"1\" class=\"dataframe\">\n",
       "  <thead>\n",
       "    <tr style=\"text-align: right;\">\n",
       "      <th></th>\n",
       "      <th>Model</th>\n",
       "      <th>Hit@1</th>\n",
       "      <th>Hit@10</th>\n",
       "      <th>Hit@50</th>\n",
       "      <th>MRR@1</th>\n",
       "      <th>MRR@10</th>\n",
       "      <th>MRR@50</th>\n",
       "      <th>NDCG@1</th>\n",
       "      <th>NDCG@10</th>\n",
       "      <th>NDCG@50</th>\n",
       "      <th>...</th>\n",
       "      <th>BLEU@4</th>\n",
       "      <th>Dist@1</th>\n",
       "      <th>Dist@2</th>\n",
       "      <th>Dist@3</th>\n",
       "      <th>Dist@4</th>\n",
       "      <th>Average</th>\n",
       "      <th>Extreme</th>\n",
       "      <th>Greedy</th>\n",
       "      <th>PPL</th>\n",
       "      <th>Conversation</th>\n",
       "    </tr>\n",
       "  </thead>\n",
       "  <tbody>\n",
       "    <tr>\n",
       "      <th>0</th>\n",
       "      <td>SASRec</td>\n",
       "      <td>0.000446</td>\n",
       "      <td>0.00134</td>\n",
       "      <td>0.0160</td>\n",
       "      <td>0.000446</td>\n",
       "      <td>0.000576</td>\n",
       "      <td>0.00114</td>\n",
       "      <td>0.000445</td>\n",
       "      <td>0.00075</td>\n",
       "      <td>0.0038</td>\n",
       "      <td>...</td>\n",
       "      <td>NaN</td>\n",
       "      <td>NaN</td>\n",
       "      <td>NaN</td>\n",
       "      <td>NaN</td>\n",
       "      <td>NaN</td>\n",
       "      <td>NaN</td>\n",
       "      <td>NaN</td>\n",
       "      <td>NaN</td>\n",
       "      <td>NaN</td>\n",
       "      <td>NaN</td>\n",
       "    </tr>\n",
       "    <tr>\n",
       "      <th>1</th>\n",
       "      <td>TextCNN</td>\n",
       "      <td>0.002670</td>\n",
       "      <td>0.01030</td>\n",
       "      <td>0.0236</td>\n",
       "      <td>0.002670</td>\n",
       "      <td>0.004340</td>\n",
       "      <td>0.00493</td>\n",
       "      <td>0.002670</td>\n",
       "      <td>0.00570</td>\n",
       "      <td>0.0086</td>\n",
       "      <td>...</td>\n",
       "      <td>NaN</td>\n",
       "      <td>NaN</td>\n",
       "      <td>NaN</td>\n",
       "      <td>NaN</td>\n",
       "      <td>NaN</td>\n",
       "      <td>NaN</td>\n",
       "      <td>NaN</td>\n",
       "      <td>NaN</td>\n",
       "      <td>NaN</td>\n",
       "      <td>NaN</td>\n",
       "    </tr>\n",
       "    <tr>\n",
       "      <th>2</th>\n",
       "      <td>BERT</td>\n",
       "      <td>0.007220</td>\n",
       "      <td>0.00490</td>\n",
       "      <td>0.0281</td>\n",
       "      <td>0.007220</td>\n",
       "      <td>0.010600</td>\n",
       "      <td>0.01240</td>\n",
       "      <td>0.004900</td>\n",
       "      <td>0.01470</td>\n",
       "      <td>0.0239</td>\n",
       "      <td>...</td>\n",
       "      <td>NaN</td>\n",
       "      <td>NaN</td>\n",
       "      <td>NaN</td>\n",
       "      <td>NaN</td>\n",
       "      <td>NaN</td>\n",
       "      <td>NaN</td>\n",
       "      <td>NaN</td>\n",
       "      <td>NaN</td>\n",
       "      <td>NaN</td>\n",
       "      <td>NaN</td>\n",
       "    </tr>\n",
       "    <tr>\n",
       "      <th>3</th>\n",
       "      <td>KBRD</td>\n",
       "      <td>0.004010</td>\n",
       "      <td>0.02540</td>\n",
       "      <td>0.0588</td>\n",
       "      <td>0.004010</td>\n",
       "      <td>0.008910</td>\n",
       "      <td>0.01030</td>\n",
       "      <td>0.004010</td>\n",
       "      <td>0.01270</td>\n",
       "      <td>0.0198</td>\n",
       "      <td>...</td>\n",
       "      <td>0.005790</td>\n",
       "      <td>0.469</td>\n",
       "      <td>1.500</td>\n",
       "      <td>3.400</td>\n",
       "      <td>4.90</td>\n",
       "      <td>0.863</td>\n",
       "      <td>0.398</td>\n",
       "      <td>0.710</td>\n",
       "      <td>52.50</td>\n",
       "      <td>1.0</td>\n",
       "    </tr>\n",
       "    <tr>\n",
       "      <th>4</th>\n",
       "      <td>KGSF</td>\n",
       "      <td>0.005350</td>\n",
       "      <td>0.02850</td>\n",
       "      <td>0.0771</td>\n",
       "      <td>0.005350</td>\n",
       "      <td>0.011400</td>\n",
       "      <td>0.01350</td>\n",
       "      <td>0.005350</td>\n",
       "      <td>0.01540</td>\n",
       "      <td>0.0259</td>\n",
       "      <td>...</td>\n",
       "      <td>0.020000</td>\n",
       "      <td>0.340</td>\n",
       "      <td>0.910</td>\n",
       "      <td>3.500</td>\n",
       "      <td>6.20</td>\n",
       "      <td>0.888</td>\n",
       "      <td>0.477</td>\n",
       "      <td>0.767</td>\n",
       "      <td>50.10</td>\n",
       "      <td>1.0</td>\n",
       "    </tr>\n",
       "    <tr>\n",
       "      <th>5</th>\n",
       "      <td>TG-ReDial</td>\n",
       "      <td>0.007930</td>\n",
       "      <td>0.02510</td>\n",
       "      <td>0.0524</td>\n",
       "      <td>0.007930</td>\n",
       "      <td>0.012200</td>\n",
       "      <td>0.01340</td>\n",
       "      <td>0.007930</td>\n",
       "      <td>0.01520</td>\n",
       "      <td>0.0211</td>\n",
       "      <td>...</td>\n",
       "      <td>0.000803</td>\n",
       "      <td>0.881</td>\n",
       "      <td>1.750</td>\n",
       "      <td>7.000</td>\n",
       "      <td>12.00</td>\n",
       "      <td>0.810</td>\n",
       "      <td>0.332</td>\n",
       "      <td>0.598</td>\n",
       "      <td>7.41</td>\n",
       "      <td>1.0</td>\n",
       "    </tr>\n",
       "    <tr>\n",
       "      <th>6</th>\n",
       "      <td>HERD</td>\n",
       "      <td>NaN</td>\n",
       "      <td>NaN</td>\n",
       "      <td>NaN</td>\n",
       "      <td>NaN</td>\n",
       "      <td>NaN</td>\n",
       "      <td>NaN</td>\n",
       "      <td>NaN</td>\n",
       "      <td>NaN</td>\n",
       "      <td>NaN</td>\n",
       "      <td>...</td>\n",
       "      <td>0.000350</td>\n",
       "      <td>0.181</td>\n",
       "      <td>0.369</td>\n",
       "      <td>0.847</td>\n",
       "      <td>1.30</td>\n",
       "      <td>0.697</td>\n",
       "      <td>0.382</td>\n",
       "      <td>0.639</td>\n",
       "      <td>472.00</td>\n",
       "      <td>1.0</td>\n",
       "    </tr>\n",
       "    <tr>\n",
       "      <th>7</th>\n",
       "      <td>Transformer</td>\n",
       "      <td>NaN</td>\n",
       "      <td>NaN</td>\n",
       "      <td>NaN</td>\n",
       "      <td>NaN</td>\n",
       "      <td>NaN</td>\n",
       "      <td>NaN</td>\n",
       "      <td>NaN</td>\n",
       "      <td>NaN</td>\n",
       "      <td>NaN</td>\n",
       "      <td>...</td>\n",
       "      <td>0.006510</td>\n",
       "      <td>0.324</td>\n",
       "      <td>0.837</td>\n",
       "      <td>2.020</td>\n",
       "      <td>3.06</td>\n",
       "      <td>0.879</td>\n",
       "      <td>0.438</td>\n",
       "      <td>0.680</td>\n",
       "      <td>30.90</td>\n",
       "      <td>1.0</td>\n",
       "    </tr>\n",
       "    <tr>\n",
       "      <th>8</th>\n",
       "      <td>GPT2</td>\n",
       "      <td>NaN</td>\n",
       "      <td>NaN</td>\n",
       "      <td>NaN</td>\n",
       "      <td>NaN</td>\n",
       "      <td>NaN</td>\n",
       "      <td>NaN</td>\n",
       "      <td>NaN</td>\n",
       "      <td>NaN</td>\n",
       "      <td>NaN</td>\n",
       "      <td>...</td>\n",
       "      <td>0.011000</td>\n",
       "      <td>2.350</td>\n",
       "      <td>4.620</td>\n",
       "      <td>8.840</td>\n",
       "      <td>12.50</td>\n",
       "      <td>0.763</td>\n",
       "      <td>0.297</td>\n",
       "      <td>0.583</td>\n",
       "      <td>9.26</td>\n",
       "      <td>1.0</td>\n",
       "    </tr>\n",
       "  </tbody>\n",
       "</table>\n",
       "<p>9 rows × 24 columns</p>\n",
       "</div>"
      ],
      "text/plain": [
       "         Model     Hit@1   Hit@10  Hit@50     MRR@1    MRR@10   MRR@50  \\\n",
       "0       SASRec  0.000446  0.00134  0.0160  0.000446  0.000576  0.00114   \n",
       "1      TextCNN  0.002670  0.01030  0.0236  0.002670  0.004340  0.00493   \n",
       "2         BERT  0.007220  0.00490  0.0281  0.007220  0.010600  0.01240   \n",
       "3         KBRD  0.004010  0.02540  0.0588  0.004010  0.008910  0.01030   \n",
       "4         KGSF  0.005350  0.02850  0.0771  0.005350  0.011400  0.01350   \n",
       "5    TG-ReDial  0.007930  0.02510  0.0524  0.007930  0.012200  0.01340   \n",
       "6         HERD       NaN      NaN     NaN       NaN       NaN      NaN   \n",
       "7  Transformer       NaN      NaN     NaN       NaN       NaN      NaN   \n",
       "8         GPT2       NaN      NaN     NaN       NaN       NaN      NaN   \n",
       "\n",
       "     NDCG@1  NDCG@10  NDCG@50  ...    BLEU@4  Dist@1  Dist@2  Dist@3  Dist@4  \\\n",
       "0  0.000445  0.00075   0.0038  ...       NaN     NaN     NaN     NaN     NaN   \n",
       "1  0.002670  0.00570   0.0086  ...       NaN     NaN     NaN     NaN     NaN   \n",
       "2  0.004900  0.01470   0.0239  ...       NaN     NaN     NaN     NaN     NaN   \n",
       "3  0.004010  0.01270   0.0198  ...  0.005790   0.469   1.500   3.400    4.90   \n",
       "4  0.005350  0.01540   0.0259  ...  0.020000   0.340   0.910   3.500    6.20   \n",
       "5  0.007930  0.01520   0.0211  ...  0.000803   0.881   1.750   7.000   12.00   \n",
       "6       NaN      NaN      NaN  ...  0.000350   0.181   0.369   0.847    1.30   \n",
       "7       NaN      NaN      NaN  ...  0.006510   0.324   0.837   2.020    3.06   \n",
       "8       NaN      NaN      NaN  ...  0.011000   2.350   4.620   8.840   12.50   \n",
       "\n",
       "   Average  Extreme  Greedy     PPL  Conversation  \n",
       "0      NaN      NaN     NaN     NaN           NaN  \n",
       "1      NaN      NaN     NaN     NaN           NaN  \n",
       "2      NaN      NaN     NaN     NaN           NaN  \n",
       "3    0.863    0.398   0.710   52.50           1.0  \n",
       "4    0.888    0.477   0.767   50.10           1.0  \n",
       "5    0.810    0.332   0.598    7.41           1.0  \n",
       "6    0.697    0.382   0.639  472.00           1.0  \n",
       "7    0.879    0.438   0.680   30.90           1.0  \n",
       "8    0.763    0.297   0.583    9.26           1.0  \n",
       "\n",
       "[9 rows x 24 columns]"
      ]
     },
     "execution_count": 18,
     "metadata": {},
     "output_type": "execute_result"
    }
   ],
   "source": [
    "df = rec_df.merge(conv_df, on='Model', how='outer')\n",
    "# df = df.merge(pol_df, on='Model', how='outer')\n",
    "df"
   ]
  },
  {
   "cell_type": "code",
   "execution_count": 21,
   "metadata": {},
   "outputs": [],
   "source": [
    "df['Policy'] = 0"
   ]
  },
  {
   "cell_type": "code",
   "execution_count": 23,
   "metadata": {},
   "outputs": [],
   "source": [
    "df = pd.concat([df, pol_df])"
   ]
  },
  {
   "cell_type": "code",
   "execution_count": 36,
   "metadata": {},
   "outputs": [],
   "source": [
    "cols = list(df.columns)\n",
    "col = (cols[:10] + cols[11:])\n",
    "col.append(cols[10])"
   ]
  },
  {
   "cell_type": "code",
   "execution_count": 38,
   "metadata": {},
   "outputs": [],
   "source": [
    "df = df[col]"
   ]
  },
  {
   "cell_type": "code",
   "execution_count": 39,
   "metadata": {},
   "outputs": [],
   "source": [
    "df.to_csv(PATH + 'model_eval.csv', index=False)"
   ]
  },
  {
   "cell_type": "code",
   "execution_count": 40,
   "metadata": {},
   "outputs": [
    {
     "data": {
      "text/html": [
       "<div>\n",
       "<style scoped>\n",
       "    .dataframe tbody tr th:only-of-type {\n",
       "        vertical-align: middle;\n",
       "    }\n",
       "\n",
       "    .dataframe tbody tr th {\n",
       "        vertical-align: top;\n",
       "    }\n",
       "\n",
       "    .dataframe thead th {\n",
       "        text-align: right;\n",
       "    }\n",
       "</style>\n",
       "<table border=\"1\" class=\"dataframe\">\n",
       "  <thead>\n",
       "    <tr style=\"text-align: right;\">\n",
       "      <th></th>\n",
       "      <th>Model</th>\n",
       "      <th>Hit@1</th>\n",
       "      <th>Hit@10</th>\n",
       "      <th>Hit@50</th>\n",
       "      <th>MRR@1</th>\n",
       "      <th>MRR@10</th>\n",
       "      <th>MRR@50</th>\n",
       "      <th>NDCG@1</th>\n",
       "      <th>NDCG@10</th>\n",
       "      <th>NDCG@50</th>\n",
       "      <th>...</th>\n",
       "      <th>Dist@2</th>\n",
       "      <th>Dist@3</th>\n",
       "      <th>Dist@4</th>\n",
       "      <th>Average</th>\n",
       "      <th>Extreme</th>\n",
       "      <th>Greedy</th>\n",
       "      <th>PPL</th>\n",
       "      <th>Conversation</th>\n",
       "      <th>Policy</th>\n",
       "      <th>Recommendation</th>\n",
       "    </tr>\n",
       "  </thead>\n",
       "  <tbody>\n",
       "    <tr>\n",
       "      <th>0</th>\n",
       "      <td>SASRec</td>\n",
       "      <td>0.000446</td>\n",
       "      <td>0.00134</td>\n",
       "      <td>0.0160</td>\n",
       "      <td>0.000446</td>\n",
       "      <td>0.000576</td>\n",
       "      <td>0.00114</td>\n",
       "      <td>0.000445</td>\n",
       "      <td>0.00075</td>\n",
       "      <td>0.0038</td>\n",
       "      <td>...</td>\n",
       "      <td>NaN</td>\n",
       "      <td>NaN</td>\n",
       "      <td>NaN</td>\n",
       "      <td>NaN</td>\n",
       "      <td>NaN</td>\n",
       "      <td>NaN</td>\n",
       "      <td>NaN</td>\n",
       "      <td>NaN</td>\n",
       "      <td>0</td>\n",
       "      <td>1.0</td>\n",
       "    </tr>\n",
       "    <tr>\n",
       "      <th>1</th>\n",
       "      <td>TextCNN</td>\n",
       "      <td>0.002670</td>\n",
       "      <td>0.01030</td>\n",
       "      <td>0.0236</td>\n",
       "      <td>0.002670</td>\n",
       "      <td>0.004340</td>\n",
       "      <td>0.00493</td>\n",
       "      <td>0.002670</td>\n",
       "      <td>0.00570</td>\n",
       "      <td>0.0086</td>\n",
       "      <td>...</td>\n",
       "      <td>NaN</td>\n",
       "      <td>NaN</td>\n",
       "      <td>NaN</td>\n",
       "      <td>NaN</td>\n",
       "      <td>NaN</td>\n",
       "      <td>NaN</td>\n",
       "      <td>NaN</td>\n",
       "      <td>NaN</td>\n",
       "      <td>0</td>\n",
       "      <td>1.0</td>\n",
       "    </tr>\n",
       "    <tr>\n",
       "      <th>2</th>\n",
       "      <td>BERT</td>\n",
       "      <td>0.007220</td>\n",
       "      <td>0.00490</td>\n",
       "      <td>0.0281</td>\n",
       "      <td>0.007220</td>\n",
       "      <td>0.010600</td>\n",
       "      <td>0.01240</td>\n",
       "      <td>0.004900</td>\n",
       "      <td>0.01470</td>\n",
       "      <td>0.0239</td>\n",
       "      <td>...</td>\n",
       "      <td>NaN</td>\n",
       "      <td>NaN</td>\n",
       "      <td>NaN</td>\n",
       "      <td>NaN</td>\n",
       "      <td>NaN</td>\n",
       "      <td>NaN</td>\n",
       "      <td>NaN</td>\n",
       "      <td>NaN</td>\n",
       "      <td>0</td>\n",
       "      <td>1.0</td>\n",
       "    </tr>\n",
       "    <tr>\n",
       "      <th>3</th>\n",
       "      <td>KBRD</td>\n",
       "      <td>0.004010</td>\n",
       "      <td>0.02540</td>\n",
       "      <td>0.0588</td>\n",
       "      <td>0.004010</td>\n",
       "      <td>0.008910</td>\n",
       "      <td>0.01030</td>\n",
       "      <td>0.004010</td>\n",
       "      <td>0.01270</td>\n",
       "      <td>0.0198</td>\n",
       "      <td>...</td>\n",
       "      <td>1.500</td>\n",
       "      <td>3.400</td>\n",
       "      <td>4.90</td>\n",
       "      <td>0.863</td>\n",
       "      <td>0.398</td>\n",
       "      <td>0.710</td>\n",
       "      <td>52.50</td>\n",
       "      <td>1.0</td>\n",
       "      <td>0</td>\n",
       "      <td>1.0</td>\n",
       "    </tr>\n",
       "    <tr>\n",
       "      <th>4</th>\n",
       "      <td>KGSF</td>\n",
       "      <td>0.005350</td>\n",
       "      <td>0.02850</td>\n",
       "      <td>0.0771</td>\n",
       "      <td>0.005350</td>\n",
       "      <td>0.011400</td>\n",
       "      <td>0.01350</td>\n",
       "      <td>0.005350</td>\n",
       "      <td>0.01540</td>\n",
       "      <td>0.0259</td>\n",
       "      <td>...</td>\n",
       "      <td>0.910</td>\n",
       "      <td>3.500</td>\n",
       "      <td>6.20</td>\n",
       "      <td>0.888</td>\n",
       "      <td>0.477</td>\n",
       "      <td>0.767</td>\n",
       "      <td>50.10</td>\n",
       "      <td>1.0</td>\n",
       "      <td>0</td>\n",
       "      <td>1.0</td>\n",
       "    </tr>\n",
       "    <tr>\n",
       "      <th>5</th>\n",
       "      <td>TG-ReDial</td>\n",
       "      <td>0.007930</td>\n",
       "      <td>0.02510</td>\n",
       "      <td>0.0524</td>\n",
       "      <td>0.007930</td>\n",
       "      <td>0.012200</td>\n",
       "      <td>0.01340</td>\n",
       "      <td>0.007930</td>\n",
       "      <td>0.01520</td>\n",
       "      <td>0.0211</td>\n",
       "      <td>...</td>\n",
       "      <td>1.750</td>\n",
       "      <td>7.000</td>\n",
       "      <td>12.00</td>\n",
       "      <td>0.810</td>\n",
       "      <td>0.332</td>\n",
       "      <td>0.598</td>\n",
       "      <td>7.41</td>\n",
       "      <td>1.0</td>\n",
       "      <td>0</td>\n",
       "      <td>1.0</td>\n",
       "    </tr>\n",
       "    <tr>\n",
       "      <th>6</th>\n",
       "      <td>HERD</td>\n",
       "      <td>NaN</td>\n",
       "      <td>NaN</td>\n",
       "      <td>NaN</td>\n",
       "      <td>NaN</td>\n",
       "      <td>NaN</td>\n",
       "      <td>NaN</td>\n",
       "      <td>NaN</td>\n",
       "      <td>NaN</td>\n",
       "      <td>NaN</td>\n",
       "      <td>...</td>\n",
       "      <td>0.369</td>\n",
       "      <td>0.847</td>\n",
       "      <td>1.30</td>\n",
       "      <td>0.697</td>\n",
       "      <td>0.382</td>\n",
       "      <td>0.639</td>\n",
       "      <td>472.00</td>\n",
       "      <td>1.0</td>\n",
       "      <td>0</td>\n",
       "      <td>NaN</td>\n",
       "    </tr>\n",
       "    <tr>\n",
       "      <th>7</th>\n",
       "      <td>Transformer</td>\n",
       "      <td>NaN</td>\n",
       "      <td>NaN</td>\n",
       "      <td>NaN</td>\n",
       "      <td>NaN</td>\n",
       "      <td>NaN</td>\n",
       "      <td>NaN</td>\n",
       "      <td>NaN</td>\n",
       "      <td>NaN</td>\n",
       "      <td>NaN</td>\n",
       "      <td>...</td>\n",
       "      <td>0.837</td>\n",
       "      <td>2.020</td>\n",
       "      <td>3.06</td>\n",
       "      <td>0.879</td>\n",
       "      <td>0.438</td>\n",
       "      <td>0.680</td>\n",
       "      <td>30.90</td>\n",
       "      <td>1.0</td>\n",
       "      <td>0</td>\n",
       "      <td>NaN</td>\n",
       "    </tr>\n",
       "    <tr>\n",
       "      <th>8</th>\n",
       "      <td>GPT2</td>\n",
       "      <td>NaN</td>\n",
       "      <td>NaN</td>\n",
       "      <td>NaN</td>\n",
       "      <td>NaN</td>\n",
       "      <td>NaN</td>\n",
       "      <td>NaN</td>\n",
       "      <td>NaN</td>\n",
       "      <td>NaN</td>\n",
       "      <td>NaN</td>\n",
       "      <td>...</td>\n",
       "      <td>4.620</td>\n",
       "      <td>8.840</td>\n",
       "      <td>12.50</td>\n",
       "      <td>0.763</td>\n",
       "      <td>0.297</td>\n",
       "      <td>0.583</td>\n",
       "      <td>9.26</td>\n",
       "      <td>1.0</td>\n",
       "      <td>0</td>\n",
       "      <td>NaN</td>\n",
       "    </tr>\n",
       "    <tr>\n",
       "      <th>0</th>\n",
       "      <td>MGCG</td>\n",
       "      <td>0.591000</td>\n",
       "      <td>0.81800</td>\n",
       "      <td>0.8830</td>\n",
       "      <td>0.591000</td>\n",
       "      <td>0.680000</td>\n",
       "      <td>0.68300</td>\n",
       "      <td>0.591000</td>\n",
       "      <td>0.71200</td>\n",
       "      <td>0.7290</td>\n",
       "      <td>...</td>\n",
       "      <td>NaN</td>\n",
       "      <td>NaN</td>\n",
       "      <td>NaN</td>\n",
       "      <td>NaN</td>\n",
       "      <td>NaN</td>\n",
       "      <td>NaN</td>\n",
       "      <td>NaN</td>\n",
       "      <td>NaN</td>\n",
       "      <td>1</td>\n",
       "      <td>NaN</td>\n",
       "    </tr>\n",
       "    <tr>\n",
       "      <th>1</th>\n",
       "      <td>Conv-BERT</td>\n",
       "      <td>0.597000</td>\n",
       "      <td>0.81400</td>\n",
       "      <td>0.8810</td>\n",
       "      <td>0.597000</td>\n",
       "      <td>0.684000</td>\n",
       "      <td>0.68700</td>\n",
       "      <td>0.597000</td>\n",
       "      <td>0.71600</td>\n",
       "      <td>0.7310</td>\n",
       "      <td>...</td>\n",
       "      <td>NaN</td>\n",
       "      <td>NaN</td>\n",
       "      <td>NaN</td>\n",
       "      <td>NaN</td>\n",
       "      <td>NaN</td>\n",
       "      <td>NaN</td>\n",
       "      <td>NaN</td>\n",
       "      <td>NaN</td>\n",
       "      <td>1</td>\n",
       "      <td>NaN</td>\n",
       "    </tr>\n",
       "    <tr>\n",
       "      <th>2</th>\n",
       "      <td>Topic-BERT</td>\n",
       "      <td>0.598000</td>\n",
       "      <td>0.82800</td>\n",
       "      <td>0.8850</td>\n",
       "      <td>0.598000</td>\n",
       "      <td>0.690000</td>\n",
       "      <td>0.69300</td>\n",
       "      <td>0.598000</td>\n",
       "      <td>0.72400</td>\n",
       "      <td>0.7370</td>\n",
       "      <td>...</td>\n",
       "      <td>NaN</td>\n",
       "      <td>NaN</td>\n",
       "      <td>NaN</td>\n",
       "      <td>NaN</td>\n",
       "      <td>NaN</td>\n",
       "      <td>NaN</td>\n",
       "      <td>NaN</td>\n",
       "      <td>NaN</td>\n",
       "      <td>1</td>\n",
       "      <td>NaN</td>\n",
       "    </tr>\n",
       "    <tr>\n",
       "      <th>3</th>\n",
       "      <td>TG-ReDial</td>\n",
       "      <td>0.600000</td>\n",
       "      <td>0.83000</td>\n",
       "      <td>0.8930</td>\n",
       "      <td>0.600000</td>\n",
       "      <td>0.693000</td>\n",
       "      <td>0.69600</td>\n",
       "      <td>0.600000</td>\n",
       "      <td>0.72700</td>\n",
       "      <td>0.7410</td>\n",
       "      <td>...</td>\n",
       "      <td>NaN</td>\n",
       "      <td>NaN</td>\n",
       "      <td>NaN</td>\n",
       "      <td>NaN</td>\n",
       "      <td>NaN</td>\n",
       "      <td>NaN</td>\n",
       "      <td>NaN</td>\n",
       "      <td>NaN</td>\n",
       "      <td>1</td>\n",
       "      <td>NaN</td>\n",
       "    </tr>\n",
       "  </tbody>\n",
       "</table>\n",
       "<p>13 rows × 25 columns</p>\n",
       "</div>"
      ],
      "text/plain": [
       "         Model     Hit@1   Hit@10  Hit@50     MRR@1    MRR@10   MRR@50  \\\n",
       "0       SASRec  0.000446  0.00134  0.0160  0.000446  0.000576  0.00114   \n",
       "1      TextCNN  0.002670  0.01030  0.0236  0.002670  0.004340  0.00493   \n",
       "2         BERT  0.007220  0.00490  0.0281  0.007220  0.010600  0.01240   \n",
       "3         KBRD  0.004010  0.02540  0.0588  0.004010  0.008910  0.01030   \n",
       "4         KGSF  0.005350  0.02850  0.0771  0.005350  0.011400  0.01350   \n",
       "5    TG-ReDial  0.007930  0.02510  0.0524  0.007930  0.012200  0.01340   \n",
       "6         HERD       NaN      NaN     NaN       NaN       NaN      NaN   \n",
       "7  Transformer       NaN      NaN     NaN       NaN       NaN      NaN   \n",
       "8         GPT2       NaN      NaN     NaN       NaN       NaN      NaN   \n",
       "0         MGCG  0.591000  0.81800  0.8830  0.591000  0.680000  0.68300   \n",
       "1    Conv-BERT  0.597000  0.81400  0.8810  0.597000  0.684000  0.68700   \n",
       "2   Topic-BERT  0.598000  0.82800  0.8850  0.598000  0.690000  0.69300   \n",
       "3    TG-ReDial  0.600000  0.83000  0.8930  0.600000  0.693000  0.69600   \n",
       "\n",
       "     NDCG@1  NDCG@10  NDCG@50  ...  Dist@2  Dist@3  Dist@4  Average  Extreme  \\\n",
       "0  0.000445  0.00075   0.0038  ...     NaN     NaN     NaN      NaN      NaN   \n",
       "1  0.002670  0.00570   0.0086  ...     NaN     NaN     NaN      NaN      NaN   \n",
       "2  0.004900  0.01470   0.0239  ...     NaN     NaN     NaN      NaN      NaN   \n",
       "3  0.004010  0.01270   0.0198  ...   1.500   3.400    4.90    0.863    0.398   \n",
       "4  0.005350  0.01540   0.0259  ...   0.910   3.500    6.20    0.888    0.477   \n",
       "5  0.007930  0.01520   0.0211  ...   1.750   7.000   12.00    0.810    0.332   \n",
       "6       NaN      NaN      NaN  ...   0.369   0.847    1.30    0.697    0.382   \n",
       "7       NaN      NaN      NaN  ...   0.837   2.020    3.06    0.879    0.438   \n",
       "8       NaN      NaN      NaN  ...   4.620   8.840   12.50    0.763    0.297   \n",
       "0  0.591000  0.71200   0.7290  ...     NaN     NaN     NaN      NaN      NaN   \n",
       "1  0.597000  0.71600   0.7310  ...     NaN     NaN     NaN      NaN      NaN   \n",
       "2  0.598000  0.72400   0.7370  ...     NaN     NaN     NaN      NaN      NaN   \n",
       "3  0.600000  0.72700   0.7410  ...     NaN     NaN     NaN      NaN      NaN   \n",
       "\n",
       "   Greedy     PPL  Conversation  Policy  Recommendation  \n",
       "0     NaN     NaN           NaN       0             1.0  \n",
       "1     NaN     NaN           NaN       0             1.0  \n",
       "2     NaN     NaN           NaN       0             1.0  \n",
       "3   0.710   52.50           1.0       0             1.0  \n",
       "4   0.767   50.10           1.0       0             1.0  \n",
       "5   0.598    7.41           1.0       0             1.0  \n",
       "6   0.639  472.00           1.0       0             NaN  \n",
       "7   0.680   30.90           1.0       0             NaN  \n",
       "8   0.583    9.26           1.0       0             NaN  \n",
       "0     NaN     NaN           NaN       1             NaN  \n",
       "1     NaN     NaN           NaN       1             NaN  \n",
       "2     NaN     NaN           NaN       1             NaN  \n",
       "3     NaN     NaN           NaN       1             NaN  \n",
       "\n",
       "[13 rows x 25 columns]"
      ]
     },
     "execution_count": 40,
     "metadata": {},
     "output_type": "execute_result"
    }
   ],
   "source": [
    "df"
   ]
  },
  {
   "cell_type": "markdown",
   "metadata": {},
   "source": [
    "## df_small 재분류"
   ]
  },
  {
   "cell_type": "code",
   "execution_count": 84,
   "metadata": {},
   "outputs": [
    {
     "data": {
      "text/plain": [
       "Index(['user_id', 'sentence_index', 'sentence', 'goal_topic', 'goal_type',\n",
       "       'knowledge', 'recdial', 'sentiment_star', 'sentiment_score',\n",
       "       'is_bot_talk_first', 'is_user', 'deny'],\n",
       "      dtype='object')"
      ]
     },
     "execution_count": 84,
     "metadata": {},
     "output_type": "execute_result"
    }
   ],
   "source": [
    "sent_small.columns"
   ]
  },
  {
   "cell_type": "code",
   "execution_count": 11,
   "metadata": {},
   "outputs": [],
   "source": [
    "user_small = pd.read_csv(PATH + 'train_user_small.csv')\n",
    "sent_small = pd.read_csv(PATH + 'train_sentence_small.csv')"
   ]
  },
  {
   "cell_type": "code",
   "execution_count": null,
   "metadata": {},
   "outputs": [],
   "source": [
    "to_user = sent_small[sent_small.columns[:6]].drop_duplicates()\n",
    "user_small = to_user.merge(user_small, on='user_id')\n",
    "sent_small.drop(labels=sent_small.columns[1:6], axis=1, inplace=True)"
   ]
  },
  {
   "cell_type": "code",
   "execution_count": 80,
   "metadata": {},
   "outputs": [],
   "source": [
    "sent_small.to_csv(PATH + 'train_sentence_small.csv', index=False)\n",
    "user_small.to_csv(PATH + 'train_user_small.csv', index=False)"
   ]
  },
  {
   "cell_type": "markdown",
   "metadata": {},
   "source": [
    "## small,xsmall 데이터 user_id 초기화"
   ]
  },
  {
   "cell_type": "code",
   "execution_count": 6,
   "metadata": {},
   "outputs": [],
   "source": [
    "old_uid = user_small.user_id"
   ]
  },
  {
   "cell_type": "code",
   "execution_count": 10,
   "metadata": {},
   "outputs": [],
   "source": [
    "uid_dict = {old_uid[i]:i for i in range(4154)}"
   ]
  },
  {
   "cell_type": "code",
   "execution_count": 14,
   "metadata": {},
   "outputs": [],
   "source": [
    "user_small['user_id'] = user_small.user_id.apply(lambda x:uid_dict[x])\n",
    "sent_small['user_id'] = sent_small.user_id.apply(lambda x:uid_dict[x])"
   ]
  },
  {
   "cell_type": "code",
   "execution_count": 17,
   "metadata": {},
   "outputs": [],
   "source": [
    "sent_small.to_csv(PATH + 'train_sentence_small.csv', index=False)\n",
    "user_small.to_csv(PATH + 'train_user_small.csv', index=False)"
   ]
  },
  {
   "cell_type": "code",
   "execution_count": 18,
   "metadata": {},
   "outputs": [],
   "source": [
    "user_xs = pd.read_csv(PATH + 'train_user_xs.csv')\n",
    "sent_xs = pd.read_csv(PATH + 'train_sentence_xs.csv')"
   ]
  },
  {
   "cell_type": "code",
   "execution_count": 20,
   "metadata": {},
   "outputs": [],
   "source": [
    "old_uid_xs = user_xs.user_id\n",
    "uid_dict_xs = {old_uid_xs[i]:i for i in range(user_xs.shape[0])}"
   ]
  },
  {
   "cell_type": "code",
   "execution_count": 21,
   "metadata": {},
   "outputs": [],
   "source": [
    "user_xs['user_id'] = user_xs.user_id.apply(lambda x:uid_dict_xs[x])\n",
    "sent_xs['user_id'] = sent_xs.user_id.apply(lambda x:uid_dict_xs[x])"
   ]
  },
  {
   "cell_type": "code",
   "execution_count": 28,
   "metadata": {},
   "outputs": [],
   "source": [
    "sent_xs.drop(labels='index', axis=1, inplace=True)"
   ]
  },
  {
   "cell_type": "code",
   "execution_count": 29,
   "metadata": {},
   "outputs": [],
   "source": [
    "sent_xs.to_csv(PATH + 'train_sentence_xs.csv', index=False)\n",
    "user_xs.to_csv(PATH + 'train_user_xs.csv', index=False)"
   ]
  }
 ],
 "metadata": {
  "kernelspec": {
   "display_name": "Python 3",
   "language": "python",
   "name": "python3"
  },
  "language_info": {
   "codemirror_mode": {
    "name": "ipython",
    "version": 3
   },
   "file_extension": ".py",
   "mimetype": "text/x-python",
   "name": "python",
   "nbconvert_exporter": "python",
   "pygments_lexer": "ipython3",
   "version": "3.8.5"
  },
  "orig_nbformat": 4
 },
 "nbformat": 4,
 "nbformat_minor": 2
}
