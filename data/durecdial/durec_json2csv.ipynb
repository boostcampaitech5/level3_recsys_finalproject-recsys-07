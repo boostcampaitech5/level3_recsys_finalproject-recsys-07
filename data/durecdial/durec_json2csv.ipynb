{
 "cells": [
  {
   "cell_type": "code",
   "execution_count": 1,
   "metadata": {},
   "outputs": [],
   "source": [
    "import json, pandas as pd"
   ]
  },
  {
   "cell_type": "code",
   "execution_count": null,
   "metadata": {},
   "outputs": [
    {
     "data": {
      "text/plain": [
       "{'goal': '[1] Q&A(Cecilia Cheung)-->[2] Chat about stars(Cecilia Cheung)-->[3] Movie recommendation(Failan)-->[4] Movie recommendation(The Stool Pigeon)-->[5]Say goodbye',\n",
       " 'user_profile': {'Age Range': 'Under 18 years old',\n",
       "  'Name': 'Fangyang Liu',\n",
       "  'Residence': 'Qingdao',\n",
       "  'Accepted food': 'Jiaozi\\xa0Stuffed\\xa0with\\xa0Mackerel\\xa0',\n",
       "  'Accepted movies': ['Left Right Love Destiny',\n",
       "   'Hot Summer Days',\n",
       "   'Fly Me to Polaris',\n",
       "   'Help!!!',\n",
       "   'One Night in Mongkok',\n",
       "   'The Bullet Vanishes'],\n",
       "  'Accepted Music': ['Once'],\n",
       "  'Rejected music': [\"It's Time\"],\n",
       "  'Gender': 'Female',\n",
       "  'Accepted celebrities': ['Cecilia Cheung', 'Kris Wu', 'Nicholas Tse'],\n",
       "  'Accepted movie': ['The Legend of Speed'],\n",
       "  'Reject': ['News'],\n",
       "  'Rejected movies': ['Everyday is Valentine',\n",
       "   'Unforgettable',\n",
       "   'King of Comedy'],\n",
       "  'Occupation': 'Student',\n",
       "  'Accepted music': 'Time Boils The Rain',\n",
       "  'Accepted POI': ['Minguo Seafood Dumpling House']},\n",
       " 'conversation': ['[1] Who is the leading actor of the movie Left Right Love Destiny?',\n",
       "  \"It's Cecilia Cheung\",\n",
       "  'You even know that. Excellent!',\n",
       "  \"[2] Thank you for your praise. She's a Chinese idol. Of course I know her.\",\n",
       "  'Yes my idol is quite unusual.',\n",
       "  'She is also an Asian Outstanding Artist in New York Chinese Film Festival. Excellent.',\n",
       "  'Yes. People like her will shine wherever they go.',\n",
       "  \"[3] Then don't miss her movie Failan. It shows a love tragedy in which the two people are secluded in different time spaces. However, the movie doesn't just tell a sad but beautiful love story. Through the story, the audiences can see the director's profound thinking and understanding of life and human nature.\",\n",
       "  \"Although I really like her, I prefer to see Nicholas Tse's movies.\",\n",
       "  \"[4] Then you can watch Nicholas Tse's movie The Stool Pigeon. His acting is good.\",\n",
       "  'What kind of movie is it?',\n",
       "  \"It's an action drama, with a little bit of thriller.\",\n",
       "  'Woah, sounds interesting.',\n",
       "  \"I'm sure you'll like it.\",\n",
       "  \"[5] Then I'm leaving too see the movie.\",\n",
       "  'Okay, see you next time.'],\n",
       " 'goal_topic_list': ['Left Right Love Destiny',\n",
       "  'Left Right Love Destiny',\n",
       "  'Left Right Love Destiny',\n",
       "  'Cecilia Cheung',\n",
       "  'Cecilia Cheung',\n",
       "  'Cecilia Cheung',\n",
       "  'Cecilia Cheung',\n",
       "  'Failan',\n",
       "  'Failan',\n",
       "  'The Stool Pigeon',\n",
       "  'The Stool Pigeon',\n",
       "  'The Stool Pigeon',\n",
       "  'The Stool Pigeon',\n",
       "  'The Stool Pigeon',\n",
       "  'Say goodbye',\n",
       "  'Say goodbye'],\n",
       " 'goal_type_list': ['Q&A',\n",
       "  'Q&A',\n",
       "  'Q&A',\n",
       "  'Chat about stars',\n",
       "  'Chat about stars',\n",
       "  'Chat about stars',\n",
       "  'Chat about stars',\n",
       "  'Movie recommendation',\n",
       "  'Movie recommendation',\n",
       "  'Movie recommendation',\n",
       "  'Movie recommendation',\n",
       "  'Movie recommendation',\n",
       "  'Movie recommendation',\n",
       "  'Movie recommendation',\n",
       "  'Say goodbye',\n",
       "  'Say goodbye'],\n",
       " 'situation': 'Time: 12:00, at school',\n",
       " 'knowledge': [['Cecilia Cheung', 'Stars', 'Left Right Love Destiny'],\n",
       "  ['Cecilia Cheung', 'Stars', 'Left Right Love Destiny'],\n",
       "  [],\n",
       "  ['Cecilia Cheung', 'Intro', 'Chinese dreamgirl'],\n",
       "  [],\n",
       "  ['Cecilia Cheung',\n",
       "   'Achievement',\n",
       "   'Outstanding Asian artists of New York China Film Festival'],\n",
       "  [],\n",
       "  ['Failan',\n",
       "   'Comments',\n",
       "   \"Failan presents a love tragedy isolated in different time and space, but the film does not stop at telling a sad and beautiful love. Through the shell of the sad story, the audience gets the director's deeper thinking and understanding of the human nature of life.Focusing on the spiritual core of saving and being saved, the narrative unfolds, the theme is expounded, and the blindness to reality is unveiled. The audience is touched and awakened. The director fully played the magic of the movie, disrupting the narrative time and space, intersecting the past and the present, and advancing freely following the protagonists’ emotions, making the story structure more tense and the theme and emotions more heartfelt. Although it describes the underworld, the director deliberately avoided the violence rendering and used extremely life-like methods to describe the underworld story routines such as gang struggle and group fight.\"],\n",
       "  [],\n",
       "  ['Nicholas Tse', 'Stars', 'The Stool Pigeon'],\n",
       "  ['The Stool Pigeon', 'Type', 'Action plot Thriller'],\n",
       "  ['The Stool Pigeon', 'Type', 'Action plot Thriller'],\n",
       "  [],\n",
       "  [],\n",
       "  [],\n",
       "  []]}"
      ]
     },
     "metadata": {},
     "output_type": "display_data"
    }
   ],
   "source": [
    "with open('./data/en_train.txt','r') as f:\n",
    "    line = f.readline()\n",
    "    js = json.loads(line)\n",
    "    low = pd.json_normalize(js)\n",
    "js"
   ]
  },
  {
   "cell_type": "code",
   "execution_count": null,
   "metadata": {},
   "outputs": [],
   "source": [
    "train = pd.DataFrame()\n",
    "test = pd.DataFrame()\n",
    "dev = pd.DataFrame()\n",
    "with open('./data/en_train.txt','r') as f:\n",
    "    while True:\n",
    "        line = f.readline()\n",
    "        if not line:\n",
    "            break\n",
    "        js = json.loads(line)\n",
    "        low = pd.json_normalize(js)\n",
    "        train = pd.concat([train,low])\n",
    "\n",
    "with open('./data/en_test.txt','r') as f:\n",
    "    while True:\n",
    "        line = f.readline()\n",
    "        if not line:\n",
    "            break\n",
    "        js = json.loads(line)\n",
    "        low = pd.json_normalize(js)\n",
    "        test = pd.concat([test,low])\n",
    "\n",
    "with open('./data/en_dev.txt','r') as f:\n",
    "    while True:\n",
    "        line = f.readline()\n",
    "        if not line:\n",
    "            break\n",
    "        js = json.loads(line)\n",
    "        low = pd.json_normalize(js)\n",
    "        dev = pd.concat([dev,low])"
   ]
  },
  {
   "cell_type": "code",
   "execution_count": null,
   "metadata": {},
   "outputs": [
    {
     "data": {
      "text/plain": [
       "['goal',\n",
       " 'conversation',\n",
       " 'goal_topic_list',\n",
       " 'goal_type_list',\n",
       " 'situation',\n",
       " 'knowledge',\n",
       " 'user_profile_age_range',\n",
       " 'user_profile_name',\n",
       " 'user_profile_residence',\n",
       " 'user_profile_accepted_food',\n",
       " 'user_profile_accepted_movies',\n",
       " 'user_profile_accepted_music',\n",
       " 'user_profile_rejected_music',\n",
       " 'user_profile_gender',\n",
       " 'user_profile_accepted_celebrities',\n",
       " 'user_profile_accepted_movie',\n",
       " 'user_profile_reject',\n",
       " 'user_profile_rejected_movies',\n",
       " 'user_profile_occupation',\n",
       " 'user_profile_accepted_music',\n",
       " 'user_profile_accepted_poi',\n",
       " 'user_profile_favorite_news',\n",
       " 'user_profile_accepted_news',\n",
       " 'user_profile_poi']"
      ]
     },
     "metadata": {},
     "output_type": "display_data"
    }
   ],
   "source": [
    "# column명 처리\n",
    "columns = list(train.columns)\n",
    "for i in range(len(columns)):\n",
    "    columns[i] = columns[i].replace('.','_')\n",
    "    columns[i] = columns[i].replace(' ','_')\n",
    "    columns[i] = columns[i].lower()\n",
    "train.columns = columns\n",
    "test.columns = columns\n",
    "dev.columns = columns\n",
    "columns"
   ]
  },
  {
   "cell_type": "code",
   "execution_count": null,
   "metadata": {},
   "outputs": [
    {
     "data": {
      "text/plain": [
       "((5678, 24), (1752, 24), (811, 24))"
      ]
     },
     "metadata": {},
     "output_type": "display_data"
    }
   ],
   "source": [
    "train.shape, test.shape, dev.shape"
   ]
  },
  {
   "cell_type": "code",
   "execution_count": null,
   "metadata": {},
   "outputs": [],
   "source": [
    "# train.to_csv('./data/train.csv',index=False)\n",
    "# test.to_csv('./data/test.csv',index=False)\n",
    "# dev.to_csv('./data/dev.csv',index=False)\n",
    "dev = pd.read_csv('./data/dev.csv')\n",
    "train = pd.read_csv('./data/train.csv')\n",
    "test = pd.read_csv('./data/test.csv')"
   ]
  }
 ],
 "metadata": {
  "kernelspec": {
   "display_name": "kernel",
   "language": "python",
   "name": "project"
  },
  "language_info": {
   "codemirror_mode": {
    "name": "ipython",
    "version": 3
   },
   "file_extension": ".py",
   "mimetype": "text/x-python",
   "name": "python",
   "nbconvert_exporter": "python",
   "pygments_lexer": "ipython3",
   "version": "3.8.5"
  },
  "orig_nbformat": 4
 },
 "nbformat": 4,
 "nbformat_minor": 2
}
