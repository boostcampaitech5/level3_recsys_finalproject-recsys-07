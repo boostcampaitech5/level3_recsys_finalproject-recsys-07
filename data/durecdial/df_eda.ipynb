{
 "cells": [
  {
   "cell_type": "code",
   "execution_count": 1,
   "metadata": {},
   "outputs": [],
   "source": [
    "import json, pandas as pd\n",
    "import numpy as np"
   ]
  },
  {
   "cell_type": "code",
   "execution_count": 2,
   "metadata": {},
   "outputs": [],
   "source": [
    "dev = pd.read_csv('./dev_data_pp.csv')\n",
    "train = pd.read_csv('./train_data_pp.csv')"
   ]
  },
  {
   "cell_type": "code",
   "execution_count": 11,
   "metadata": {},
   "outputs": [
    {
     "data": {
      "text/plain": [
       "5678"
      ]
     },
     "execution_count": 11,
     "metadata": {},
     "output_type": "execute_result"
    }
   ],
   "source": [
    "len(train.user_id.unique())"
   ]
  },
  {
   "cell_type": "code",
   "execution_count": 3,
   "metadata": {},
   "outputs": [
    {
     "data": {
      "text/plain": [
       "Index(['user_id', 'user_profile_age_range', 'user_profile_name',\n",
       "       'user_profile_residence', 'user_profile_accepted_food',\n",
       "       'user_profile_accepted_movies', 'user_profile_accepted_music',\n",
       "       'user_profile_rejected_music', 'user_profile_gender',\n",
       "       'user_profile_accepted_celebrities', 'user_profile_accepted_movie',\n",
       "       'user_profile_reject', 'user_profile_rejected_movies',\n",
       "       'user_profile_occupation', 'user_profile_accepted_music.1',\n",
       "       'user_profile_accepted_poi', 'user_profile_favorite_news',\n",
       "       'user_profile_accepted_news', 'user_profile_poi', 'time', 'place',\n",
       "       'date', 'topic', 'wday', 'sentence_index', 'sentence', 'goal_topic',\n",
       "       'goal_type', 'knowledge'],\n",
       "      dtype='object')"
      ]
     },
     "execution_count": 3,
     "metadata": {},
     "output_type": "execute_result"
    }
   ],
   "source": [
    "train.columns"
   ]
  },
  {
   "cell_type": "code",
   "execution_count": 8,
   "metadata": {},
   "outputs": [
    {
     "data": {
      "text/plain": [
       "27"
      ]
     },
     "execution_count": 8,
     "metadata": {},
     "output_type": "execute_result"
    }
   ],
   "source": [
    "max(train.sentence_index)"
   ]
  }
 ],
 "metadata": {
  "kernelspec": {
   "display_name": "kernel",
   "language": "python",
   "name": "project"
  },
  "language_info": {
   "codemirror_mode": {
    "name": "ipython",
    "version": 3
   },
   "file_extension": ".py",
   "mimetype": "text/x-python",
   "name": "python",
   "nbconvert_exporter": "python",
   "pygments_lexer": "ipython3",
   "version": "3.8.5"
  },
  "orig_nbformat": 4
 },
 "nbformat": 4,
 "nbformat_minor": 2
}
