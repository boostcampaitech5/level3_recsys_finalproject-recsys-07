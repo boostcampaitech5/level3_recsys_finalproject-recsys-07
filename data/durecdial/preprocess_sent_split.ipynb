{
 "cells": [
  {
   "cell_type": "code",
   "execution_count": 89,
   "metadata": {},
   "outputs": [],
   "source": [
    "import pandas as pd\n",
    "import numpy as np\n",
    "from transformers import pipeline"
   ]
  },
  {
   "cell_type": "code",
   "execution_count": 2,
   "metadata": {},
   "outputs": [],
   "source": [
    "# user와 sentence로 분리\n",
    "def split_user_sentence(df):\n",
    "    '''\n",
    "    user_df, sentence_df를 반환하는 함수\n",
    "    '''\n",
    "    dfa = df.copy()\n",
    "    col_uniq = dfa.groupby(by='user_id').nunique().sum()\n",
    "    user_num = dfa.user_id.nunique()\n",
    "    user_col = col_uniq[col_uniq <= user_num].index.to_list()\n",
    "    sentence_col = [col for col in dfa.columns if col not in user_col]\n",
    "    user_df = dfa[['user_id', *(user_col)]]\n",
    "    sentence_df = dfa[sentence_col]\n",
    "    return user_df, sentence_df"
   ]
  },
  {
   "cell_type": "code",
   "execution_count": 4,
   "metadata": {},
   "outputs": [],
   "source": [
    "# sentence에 deny 추가\n",
    "def add_deny2(df):\n",
    "    dfa = df.copy()\n",
    "    pipe = pipeline(\"text-classification\", model=\"nlptown/bert-base-multilingual-uncased-sentiment\")\n",
    "    def score(df):\n",
    "        if (df.is_user == 1):\n",
    "            star = int(pipe(df.sentence)[0]['label'][0])\n",
    "            return int(star < 3)\n",
    "        else:\n",
    "            return np.NaN\n",
    "    sent = dfa[['sentence', 'is_user']].apply(score, axis=1)\n",
    "    dfa['deny'] = sent\n",
    "    return dfa"
   ]
  },
  {
   "cell_type": "code",
   "execution_count": 63,
   "metadata": {},
   "outputs": [],
   "source": [
    "# user에 precision, P@K 추가\n",
    "def add_precision(df_user, df_sentence):\n",
    "    '''\n",
    "    df_user, df_sentence를 입력받아 df_user를 반환\n",
    "    '''\n",
    "    def precision(df, uid):\n",
    "        tdf = df.copy()\n",
    "        tdf = tdf[tdf.user_id == uid]\n",
    "        prec = 1 - sum(tdf.deny) / tdf.shape[0]\n",
    "        return prec\n",
    "    \n",
    "    def precision_K(df, K, uid):\n",
    "        tdf = df.copy()\n",
    "        tdf = tdf[(tdf.user_id == uid) & (tdf.is_user)]\n",
    "        if tdf.shape[0] <= K:\n",
    "            prec_k = 1 - sum(tdf.deny) / tdf.shape[0]\n",
    "        else:\n",
    "            prec_k = 1 - sum(tdf.iloc[:K].deny) / K\n",
    "        return prec_k\n",
    "    \n",
    "    dfu = df_user.copy()\n",
    "    #precision\n",
    "    precisions = {i:precision(df_sentence, i) for i in dfu.user_id}\n",
    "    dfu['precision'] = pd.Series(precisions)\n",
    "    #P@K\n",
    "    for i in range(1,10):\n",
    "        prec = {j:precision_K(df_sentence, i, j) for j in dfu.user_id}\n",
    "        dfu[f'precision_{i}'] = pd.Series(prec)\n",
    "    \n",
    "    return dfu"
   ]
  }
 ],
 "metadata": {
  "kernelspec": {
   "display_name": "base",
   "language": "python",
   "name": "python3"
  },
  "language_info": {
   "codemirror_mode": {
    "name": "ipython",
    "version": 3
   },
   "file_extension": ".py",
   "mimetype": "text/x-python",
   "name": "python",
   "nbconvert_exporter": "python",
   "pygments_lexer": "ipython3",
   "version": "3.8.5"
  },
  "orig_nbformat": 4
 },
 "nbformat": 4,
 "nbformat_minor": 2
}
